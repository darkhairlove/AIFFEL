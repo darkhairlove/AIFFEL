{
 "cells": [
  {
   "cell_type": "code",
   "execution_count": 1,
   "id": "67bac088",
   "metadata": {},
   "outputs": [],
   "source": [
    "import pandas as pd\n",
    "from tensorflow.keras.preprocessing.text import Tokenizer\n",
    "from tensorflow.keras.preprocessing.sequence import pad_sequences\n",
    "from tensorflow.keras.metrics import sparse_categorical_crossentropy\n",
    "import numpy as np"
   ]
  },
  {
   "cell_type": "code",
   "execution_count": 2,
   "id": "b08e7f09",
   "metadata": {},
   "outputs": [
    {
     "name": "stdout",
     "output_type": "stream",
     "text": [
      "전체 샘플의 수 : 197463\n"
     ]
    },
    {
     "data": {
      "text/html": [
       "<div>\n",
       "<style scoped>\n",
       "    .dataframe tbody tr th:only-of-type {\n",
       "        vertical-align: middle;\n",
       "    }\n",
       "\n",
       "    .dataframe tbody tr th {\n",
       "        vertical-align: top;\n",
       "    }\n",
       "\n",
       "    .dataframe thead th {\n",
       "        text-align: right;\n",
       "    }\n",
       "</style>\n",
       "<table border=\"1\" class=\"dataframe\">\n",
       "  <thead>\n",
       "    <tr style=\"text-align: right;\">\n",
       "      <th></th>\n",
       "      <th>eng</th>\n",
       "      <th>fra</th>\n",
       "      <th>cc</th>\n",
       "    </tr>\n",
       "  </thead>\n",
       "  <tbody>\n",
       "    <tr>\n",
       "      <th>71850</th>\n",
       "      <td>I know what happens next.</td>\n",
       "      <td>Je sais ce qui se passe ensuite.</td>\n",
       "      <td>CC-BY 2.0 (France) Attribution: tatoeba.org #2...</td>\n",
       "    </tr>\n",
       "    <tr>\n",
       "      <th>158410</th>\n",
       "      <td>I can't believe you actually said that.</td>\n",
       "      <td>Je n'arrive pas à croire que vous ayez vraimen...</td>\n",
       "      <td>CC-BY 2.0 (France) Attribution: tatoeba.org #2...</td>\n",
       "    </tr>\n",
       "    <tr>\n",
       "      <th>40067</th>\n",
       "      <td>Why didn't Tom move?</td>\n",
       "      <td>Pourquoi Tom n'a-t-il pas bougé ?</td>\n",
       "      <td>CC-BY 2.0 (France) Attribution: tatoeba.org #2...</td>\n",
       "    </tr>\n",
       "    <tr>\n",
       "      <th>140918</th>\n",
       "      <td>I don't think that's a coincidence.</td>\n",
       "      <td>Je ne pense pas que cela soit une coïncidence.</td>\n",
       "      <td>CC-BY 2.0 (France) Attribution: tatoeba.org #2...</td>\n",
       "    </tr>\n",
       "    <tr>\n",
       "      <th>153913</th>\n",
       "      <td>Have you ever done any volunteer work?</td>\n",
       "      <td>Avez-vous jamais effectué un travail volontaire ?</td>\n",
       "      <td>CC-BY 2.0 (France) Attribution: tatoeba.org #9...</td>\n",
       "    </tr>\n",
       "  </tbody>\n",
       "</table>\n",
       "</div>"
      ],
      "text/plain": [
       "                                            eng  \\\n",
       "71850                 I know what happens next.   \n",
       "158410  I can't believe you actually said that.   \n",
       "40067                      Why didn't Tom move?   \n",
       "140918      I don't think that's a coincidence.   \n",
       "153913   Have you ever done any volunteer work?   \n",
       "\n",
       "                                                      fra  \\\n",
       "71850                    Je sais ce qui se passe ensuite.   \n",
       "158410  Je n'arrive pas à croire que vous ayez vraimen...   \n",
       "40067                   Pourquoi Tom n'a-t-il pas bougé ?   \n",
       "140918     Je ne pense pas que cela soit une coïncidence.   \n",
       "153913  Avez-vous jamais effectué un travail volontaire ?   \n",
       "\n",
       "                                                       cc  \n",
       "71850   CC-BY 2.0 (France) Attribution: tatoeba.org #2...  \n",
       "158410  CC-BY 2.0 (France) Attribution: tatoeba.org #2...  \n",
       "40067   CC-BY 2.0 (France) Attribution: tatoeba.org #2...  \n",
       "140918  CC-BY 2.0 (France) Attribution: tatoeba.org #2...  \n",
       "153913  CC-BY 2.0 (France) Attribution: tatoeba.org #9...  "
      ]
     },
     "execution_count": 2,
     "metadata": {},
     "output_type": "execute_result"
    }
   ],
   "source": [
    "import os\n",
    "file_path = os.getenv('HOME')+'/aiffel/translator_seq2seq/data/fra.txt'\n",
    "lines = pd.read_csv(file_path, names=['eng', 'fra', 'cc'], sep='\\t')\n",
    "print('전체 샘플의 수 :',len(lines))\n",
    "lines.sample(5) #샘플 5개 출력"
   ]
  },
  {
   "cell_type": "code",
   "execution_count": 3,
   "id": "d603dd60",
   "metadata": {},
   "outputs": [
    {
     "data": {
      "text/html": [
       "<div>\n",
       "<style scoped>\n",
       "    .dataframe tbody tr th:only-of-type {\n",
       "        vertical-align: middle;\n",
       "    }\n",
       "\n",
       "    .dataframe tbody tr th {\n",
       "        vertical-align: top;\n",
       "    }\n",
       "\n",
       "    .dataframe thead th {\n",
       "        text-align: right;\n",
       "    }\n",
       "</style>\n",
       "<table border=\"1\" class=\"dataframe\">\n",
       "  <thead>\n",
       "    <tr style=\"text-align: right;\">\n",
       "      <th></th>\n",
       "      <th>eng</th>\n",
       "      <th>fra</th>\n",
       "    </tr>\n",
       "  </thead>\n",
       "  <tbody>\n",
       "    <tr>\n",
       "      <th>29710</th>\n",
       "      <td>I felt responsible.</td>\n",
       "      <td>Je me suis senti responsable.</td>\n",
       "    </tr>\n",
       "    <tr>\n",
       "      <th>25080</th>\n",
       "      <td>It was depressing.</td>\n",
       "      <td>C'était déprimant.</td>\n",
       "    </tr>\n",
       "    <tr>\n",
       "      <th>18780</th>\n",
       "      <td>I hope it's true.</td>\n",
       "      <td>J'espère que c'est vrai.</td>\n",
       "    </tr>\n",
       "    <tr>\n",
       "      <th>19643</th>\n",
       "      <td>Isn't that awful?</td>\n",
       "      <td>N'est-ce pas horrible ?</td>\n",
       "    </tr>\n",
       "    <tr>\n",
       "      <th>1399</th>\n",
       "      <td>Say hello.</td>\n",
       "      <td>Dis bonjour.</td>\n",
       "    </tr>\n",
       "  </tbody>\n",
       "</table>\n",
       "</div>"
      ],
      "text/plain": [
       "                       eng                            fra\n",
       "29710  I felt responsible.  Je me suis senti responsable.\n",
       "25080   It was depressing.             C'était déprimant.\n",
       "18780    I hope it's true.       J'espère que c'est vrai.\n",
       "19643    Isn't that awful?        N'est-ce pas horrible ?\n",
       "1399            Say hello.                   Dis bonjour."
      ]
     },
     "execution_count": 3,
     "metadata": {},
     "output_type": "execute_result"
    }
   ],
   "source": [
    "lines = lines[['eng', 'fra']][:33000] # 3.3만개 샘플 사용\n",
    "lines.sample(5)"
   ]
  },
  {
   "cell_type": "code",
   "execution_count": 4,
   "id": "a04a9133",
   "metadata": {},
   "outputs": [
    {
     "name": "stdout",
     "output_type": "stream",
     "text": [
      "전체 샘플의 수 : 33000\n"
     ]
    },
    {
     "data": {
      "text/html": [
       "<div>\n",
       "<style scoped>\n",
       "    .dataframe tbody tr th:only-of-type {\n",
       "        vertical-align: middle;\n",
       "    }\n",
       "\n",
       "    .dataframe tbody tr th {\n",
       "        vertical-align: top;\n",
       "    }\n",
       "\n",
       "    .dataframe thead th {\n",
       "        text-align: right;\n",
       "    }\n",
       "</style>\n",
       "<table border=\"1\" class=\"dataframe\">\n",
       "  <thead>\n",
       "    <tr style=\"text-align: right;\">\n",
       "      <th></th>\n",
       "      <th>eng</th>\n",
       "      <th>fra</th>\n",
       "    </tr>\n",
       "  </thead>\n",
       "  <tbody>\n",
       "    <tr>\n",
       "      <th>12559</th>\n",
       "      <td>We're all done.</td>\n",
       "      <td>Nous en avons complètement fini.</td>\n",
       "    </tr>\n",
       "    <tr>\n",
       "      <th>12652</th>\n",
       "      <td>Well done, Tom.</td>\n",
       "      <td>Bien joué, Tom.</td>\n",
       "    </tr>\n",
       "    <tr>\n",
       "      <th>21443</th>\n",
       "      <td>Watch your speed.</td>\n",
       "      <td>Surveille ta vitesse.</td>\n",
       "    </tr>\n",
       "    <tr>\n",
       "      <th>12163</th>\n",
       "      <td>Tom is packing.</td>\n",
       "      <td>Tom fait ses valises.</td>\n",
       "    </tr>\n",
       "    <tr>\n",
       "      <th>13548</th>\n",
       "      <td>Expect no mercy.</td>\n",
       "      <td>N'espère aucune pitié !</td>\n",
       "    </tr>\n",
       "  </tbody>\n",
       "</table>\n",
       "</div>"
      ],
      "text/plain": [
       "                     eng                               fra\n",
       "12559    We're all done.  Nous en avons complètement fini.\n",
       "12652    Well done, Tom.                   Bien joué, Tom.\n",
       "21443  Watch your speed.             Surveille ta vitesse.\n",
       "12163    Tom is packing.             Tom fait ses valises.\n",
       "13548   Expect no mercy.           N'espère aucune pitié !"
      ]
     },
     "execution_count": 4,
     "metadata": {},
     "output_type": "execute_result"
    }
   ],
   "source": [
    "print('전체 샘플의 수 :',len(lines))\n",
    "lines.sample(5)"
   ]
  },
  {
   "cell_type": "code",
   "execution_count": 5,
   "id": "8cd941cb",
   "metadata": {},
   "outputs": [
    {
     "data": {
      "text/plain": [
       "0                                      Va !\n",
       "1                                   Marche.\n",
       "2                                En route !\n",
       "3                                   Bouge !\n",
       "4                                   Salut !\n",
       "                        ...                \n",
       "32995    Nous avons toutes beaucoup pleuré.\n",
       "32996                Nous avions tous faim.\n",
       "32997         Nous avons aussi trouvé ceci.\n",
       "32998         Nous sommes des gens occupés.\n",
       "32999         Nous regardons la télévision.\n",
       "Name: fra, Length: 33000, dtype: object"
      ]
     },
     "execution_count": 5,
     "metadata": {},
     "output_type": "execute_result"
    }
   ],
   "source": [
    "lines.fra"
   ]
  },
  {
   "cell_type": "markdown",
   "id": "263dbf43",
   "metadata": {},
   "source": [
    "## 정제, 정규화, 전처리 (영어, 프랑스어 모두!)"
   ]
  },
  {
   "cell_type": "code",
   "execution_count": 6,
   "id": "13b16875",
   "metadata": {},
   "outputs": [],
   "source": [
    "import re\n",
    "def preprocess_sentence(sentence):\n",
    "    sentence = sentence.lower().strip() \n",
    "    sentence = re.sub(r\"([?.!,¿])\", r\" \\1 \", sentence) \n",
    "    sentence = re.sub(r'[\" \"]+', \" \", sentence) \n",
    "    sentence = re.sub(r\"[^a-zA-Z?.!,¿']+\", \" \", sentence) \n",
    "    sentence = sentence.strip() \n",
    "    return sentence\n",
    "\n",
    "import re\n",
    "def preprocess_sentence2(sentence):\n",
    "    sentence = sentence.lower().strip() \n",
    "    sentence = re.sub(r\"([?.!,¿])\", r\" \\1 \", sentence)\n",
    "    sentence = re.sub(r'[\" \"]+', \" \", sentence) \n",
    "    sentence = re.sub(r\"[^a-zA-Z?.!,¿']+\", \" \", sentence) \n",
    "    sentence = sentence.strip()\n",
    "    sentence = \"<sos> \" + sentence + \" <eos>\"\n",
    "    return sentence\n"
   ]
  },
  {
   "cell_type": "code",
   "execution_count": 7,
   "id": "210fdb58",
   "metadata": {
    "scrolled": true
   },
   "outputs": [
    {
     "data": {
      "text/plain": [
       "['<sos> va ! <eos>',\n",
       " '<sos> marche . <eos>',\n",
       " '<sos> en route ! <eos>',\n",
       " '<sos> bouge ! <eos>',\n",
       " '<sos> salut ! <eos>',\n",
       " '<sos> salut . <eos>',\n",
       " '<sos> cours ! <eos>',\n",
       " '<sos> courez ! <eos>',\n",
       " '<sos> prenez vos jambes vos cous ! <eos>',\n",
       " '<sos> file ! <eos>']"
      ]
     },
     "execution_count": 7,
     "metadata": {},
     "output_type": "execute_result"
    }
   ],
   "source": [
    "line = []\n",
    "\n",
    "for a in lines.fra:\n",
    "    preprocessed_sentence = preprocess_sentence2(a)\n",
    "    line.append(preprocessed_sentence)\n",
    "line[:10]"
   ]
  },
  {
   "cell_type": "code",
   "execution_count": 8,
   "id": "7fe29189",
   "metadata": {
    "scrolled": true
   },
   "outputs": [
    {
     "data": {
      "text/plain": [
       "['go .',\n",
       " 'go .',\n",
       " 'go .',\n",
       " 'go .',\n",
       " 'hi .',\n",
       " 'hi .',\n",
       " 'run !',\n",
       " 'run !',\n",
       " 'run !',\n",
       " 'run !']"
      ]
     },
     "execution_count": 8,
     "metadata": {},
     "output_type": "execute_result"
    }
   ],
   "source": [
    "line2 = []\n",
    "\n",
    "for a in lines.eng:\n",
    "    preprocessed_sentence = preprocess_sentence(a)\n",
    "    line2.append(preprocessed_sentence)\n",
    "line2[:10]"
   ]
  },
  {
   "cell_type": "markdown",
   "id": "1dc0e4ae",
   "metadata": {},
   "source": [
    "## 케라스의 토크나이저로 텍스트를 숫자로 바꾸기"
   ]
  },
  {
   "cell_type": "code",
   "execution_count": 9,
   "id": "7b0cc035",
   "metadata": {},
   "outputs": [
    {
     "data": {
      "text/plain": [
       "[[25, 1],\n",
       " [25, 1],\n",
       " [25, 1],\n",
       " [25, 1],\n",
       " [782, 1],\n",
       " [782, 1],\n",
       " [207, 20],\n",
       " [207, 20],\n",
       " [207, 20],\n",
       " [207, 20]]"
      ]
     },
     "execution_count": 9,
     "metadata": {},
     "output_type": "execute_result"
    }
   ],
   "source": [
    "eng_tokenizer = Tokenizer(char_level=False, filters = '')   # 문자 단위로 Tokenizer를 생성합니다. \n",
    "eng_tokenizer.fit_on_texts(line2)               # 50000개의 행을 가진 eng의 각 행에 토큰화를 수행\n",
    "input_text = eng_tokenizer.texts_to_sequences(line2)    # 단어를 숫자값 인덱스로 변환하여 저장\n",
    "input_text[:10]"
   ]
  },
  {
   "cell_type": "code",
   "execution_count": 10,
   "id": "ab28de84",
   "metadata": {},
   "outputs": [
    {
     "data": {
      "text/plain": [
       "[[1, 70, 7, 2],\n",
       " [1, 384, 3, 2],\n",
       " [1, 26, 541, 7, 2],\n",
       " [1, 754, 7, 2],\n",
       " [1, 789, 7, 2],\n",
       " [1, 789, 3, 2],\n",
       " [1, 694, 7, 2],\n",
       " [1, 1953, 7, 2],\n",
       " [1, 194, 282, 1097, 282, 2727, 7, 2],\n",
       " [1, 1541, 7, 2]]"
      ]
     },
     "execution_count": 10,
     "metadata": {},
     "output_type": "execute_result"
    }
   ],
   "source": [
    "fra_tokenizer = Tokenizer(char_level=False, filters = '')  #char_level=False, # 문자 단위로 Tokenizer를 생성합니다. \n",
    "fra_tokenizer.fit_on_texts(line)                 # 50000개의 행을 가진 fra의 각 행에 토큰화를 수행\n",
    "target_text = fra_tokenizer.texts_to_sequences(line)     # 단어를 숫자값 인덱스로 변환하여 저장\n",
    "target_text[:10]"
   ]
  },
  {
   "cell_type": "code",
   "execution_count": 11,
   "id": "8c1453f3",
   "metadata": {
    "scrolled": true
   },
   "outputs": [
    {
     "name": "stdout",
     "output_type": "stream",
     "text": [
      "영어 단어장의 크기 : 4771\n",
      "프랑스어 단어장의 크기 : 7972\n"
     ]
    }
   ],
   "source": [
    "eng_vocab_size = len(eng_tokenizer.word_index) + 1\n",
    "fra_vocab_size = len(fra_tokenizer.word_index) + 1\n",
    "print('영어 단어장의 크기 :', eng_vocab_size)\n",
    "print('프랑스어 단어장의 크기 :', fra_vocab_size)"
   ]
  },
  {
   "cell_type": "code",
   "execution_count": 12,
   "id": "019b3437",
   "metadata": {},
   "outputs": [],
   "source": [
    "# 훈련 후 결과 비교할때 사용\n",
    "src_to_index= eng_tokenizer.word_index\n",
    "index_to_src= eng_tokenizer.index_word\n",
    "# 훈련 후 예측 과정에서 사용\n",
    "# 훈련 후 결과 비교할 때 사용\n",
    "tar_to_index= fra_tokenizer.word_index\n",
    "index_to_tar= fra_tokenizer.index_word\n"
   ]
  },
  {
   "cell_type": "code",
   "execution_count": 13,
   "id": "d3aef283",
   "metadata": {},
   "outputs": [
    {
     "name": "stdout",
     "output_type": "stream",
     "text": [
      "영어 시퀀스의 최대 길이 8\n",
      "프랑스어 시퀀스의 최대 길이 16\n"
     ]
    }
   ],
   "source": [
    "max_eng_seq_len = max([len(line2) for line2 in input_text])\n",
    "max_fra_seq_len = max([len(line) for line in target_text])\n",
    "print('영어 시퀀스의 최대 길이', max_eng_seq_len)\n",
    "print('프랑스어 시퀀스의 최대 길이', max_fra_seq_len)"
   ]
  },
  {
   "cell_type": "markdown",
   "id": "4403fab6",
   "metadata": {},
   "source": [
    "## 디코더의 문장에 시작 토큰과 종료 토큰을 넣고, 종료 토큰, 시작 토큰 제거"
   ]
  },
  {
   "cell_type": "code",
   "execution_count": 14,
   "id": "bba9f880",
   "metadata": {},
   "outputs": [],
   "source": [
    "encoder_input = input_text\n",
    "# 종료 토큰 제거\n",
    "decoder_input = [[ char for char in line if char != fra_tokenizer.word_index['<eos>'] ] for line in target_text] \n",
    "# 시작 토큰 제거\n",
    "decoder_target = [[ char for char in line if char != fra_tokenizer.word_index['<sos>'] ] for line in target_text]"
   ]
  },
  {
   "cell_type": "code",
   "execution_count": 15,
   "id": "549bbe10",
   "metadata": {
    "scrolled": true
   },
   "outputs": [
    {
     "name": "stdout",
     "output_type": "stream",
     "text": [
      "[[25, 1], [25, 1], [25, 1]]\n",
      "[[1, 70, 7], [1, 384, 3], [1, 26, 541, 7]]\n",
      "[[70, 7, 2], [384, 3, 2], [26, 541, 7, 2]]\n"
     ]
    }
   ],
   "source": [
    "print(encoder_input[:3])\n",
    "print(decoder_input[:3])\n",
    "print(decoder_target[:3])"
   ]
  },
  {
   "cell_type": "code",
   "execution_count": 16,
   "id": "e449c225",
   "metadata": {},
   "outputs": [
    {
     "name": "stdout",
     "output_type": "stream",
     "text": [
      "영어 데이터의 크기(shape) : (33000, 8)\n",
      "프랑스어 입력데이터의 크기(shape) : (33000, 16)\n",
      "프랑스어 출력데이터의 크기(shape) : (33000, 16)\n"
     ]
    }
   ],
   "source": [
    "encoder_input = pad_sequences(encoder_input, maxlen = max_eng_seq_len, padding='post')\n",
    "decoder_input = pad_sequences(decoder_input, maxlen = max_fra_seq_len, padding='post')\n",
    "decoder_target = pad_sequences(decoder_target, maxlen = max_fra_seq_len, padding='post')\n",
    "print('영어 데이터의 크기(shape) :',np.shape(encoder_input))\n",
    "print('프랑스어 입력데이터의 크기(shape) :',np.shape(decoder_input))\n",
    "print('프랑스어 출력데이터의 크기(shape) :',np.shape(decoder_target))"
   ]
  },
  {
   "cell_type": "code",
   "execution_count": 17,
   "id": "0ba51360",
   "metadata": {},
   "outputs": [
    {
     "name": "stdout",
     "output_type": "stream",
     "text": [
      "[25  1  0  0  0  0  0  0]\n"
     ]
    }
   ],
   "source": [
    "print(encoder_input[0])"
   ]
  },
  {
   "cell_type": "code",
   "execution_count": 18,
   "id": "ca3d78e3",
   "metadata": {
    "scrolled": true
   },
   "outputs": [
    {
     "data": {
      "text/plain": [
       "array([25,  1,  0,  0,  0,  0,  0,  0], dtype=int32)"
      ]
     },
     "execution_count": 18,
     "metadata": {},
     "output_type": "execute_result"
    }
   ],
   "source": [
    "encoder_input[0]"
   ]
  },
  {
   "cell_type": "code",
   "execution_count": 19,
   "id": "29910e5b",
   "metadata": {
    "scrolled": false
   },
   "outputs": [
    {
     "name": "stdout",
     "output_type": "stream",
     "text": [
      "훈련 source 데이터의 크기 : (30000, 8)\n",
      "훈련 target 데이터의 크기 : (30000, 16)\n",
      "훈련 target 레이블의 크기 : (30000, 16)\n",
      "테스트 source 데이터의 크기 : (3000, 8)\n",
      "테스트 target 데이터의 크기 : (3000, 16)\n",
      "테스트 target 레이블의 크기 : (3000, 16)\n"
     ]
    }
   ],
   "source": [
    "n_of_val = 3000\n",
    "\n",
    "encoder_input_train = encoder_input[:-n_of_val]\n",
    "decoder_input_train = decoder_input[:-n_of_val]\n",
    "decoder_target_train = decoder_target[:-n_of_val]\n",
    "\n",
    "encoder_input_test = encoder_input[-n_of_val:]\n",
    "decoder_input_test = decoder_input[-n_of_val:]\n",
    "decoder_target_test = decoder_target[-n_of_val:]\n",
    "\n",
    "print('훈련 source 데이터의 크기 :',encoder_input_train.shape)\n",
    "print('훈련 target 데이터의 크기 :',decoder_input_train.shape)\n",
    "print('훈련 target 레이블의 크기 :',decoder_target_train.shape)\n",
    "print('테스트 source 데이터의 크기 :',encoder_input_test.shape)\n",
    "print('테스트 target 데이터의 크기 :',decoder_input_test.shape)\n",
    "print('테스트 target 레이블의 크기 :',decoder_target_test.shape)"
   ]
  },
  {
   "cell_type": "markdown",
   "id": "b00e040d",
   "metadata": {},
   "source": [
    "## 임베딩 층(Embedding layer) 사용하기"
   ]
  },
  {
   "cell_type": "code",
   "execution_count": 20,
   "id": "bce5eeb5",
   "metadata": {},
   "outputs": [],
   "source": [
    "from tensorflow.keras.layers import Input, LSTM, Embedding, Dense, Masking\n",
    "from tensorflow.keras.models import Model"
   ]
  },
  {
   "cell_type": "code",
   "execution_count": 21,
   "id": "fa76ef8f",
   "metadata": {},
   "outputs": [],
   "source": [
    "latent_dim = 64"
   ]
  },
  {
   "cell_type": "code",
   "execution_count": 22,
   "id": "979152ee",
   "metadata": {},
   "outputs": [],
   "source": [
    "# 인코더\n",
    "# 입력 텐서 생성.\n",
    "encoder_inputs = Input(shape=(None,))\n",
    "# hidden size가 256인 인코더의 LSTM 셀 생성\n",
    "encoder_emb = Embedding(eng_vocab_size, latent_dim)(encoder_inputs)\n",
    "encoder_masking =Masking(mask_value=0.0)(encoder_emb)\n",
    "encoder_lstm = LSTM(latent_dim, return_state = True)\n",
    "# 디코더로 전달할 hidden state, cell state를 리턴. encoder_outputs은 여기서는 불필요.\n",
    "encoder_outputs, state_h, state_c = encoder_lstm(encoder_masking)\n",
    "# hidden state와 cell state를 다음 time step으로 전달하기 위해서 별도 저장.\n",
    "encoder_states = [state_h, state_c]"
   ]
  },
  {
   "cell_type": "code",
   "execution_count": 23,
   "id": "7a9c8fbf",
   "metadata": {},
   "outputs": [],
   "source": [
    "# 디코더\n",
    "# 입력 텐서 생성.\n",
    "decoder_inputs = Input(shape=(None,))\n",
    "# hidden size가 256인 인코더의 LSTM 셀 생성\n",
    "decoder_emb_layer = Embedding(fra_vocab_size, latent_dim)\n",
    "decoder_emb = decoder_emb_layer(decoder_inputs)\n",
    "decoder_masking =Masking(mask_value=0.0)(decoder_emb)\n",
    "\n",
    "decoder_lstm = LSTM(latent_dim, return_sequences = True, return_state=True)\n",
    "# decoder_outputs는 모든 time step의 hidden state\n",
    "decoder_outputs, _, _= decoder_lstm(decoder_masking, initial_state = encoder_states)"
   ]
  },
  {
   "cell_type": "code",
   "execution_count": 24,
   "id": "d8fce5d9",
   "metadata": {},
   "outputs": [],
   "source": [
    "decoder_softmax_layer = Dense(fra_vocab_size, activation='softmax')\n",
    "decoder_outputs = decoder_softmax_layer(decoder_outputs)"
   ]
  },
  {
   "cell_type": "markdown",
   "id": "552f6b27",
   "metadata": {},
   "source": [
    "## 모델 구현"
   ]
  },
  {
   "cell_type": "code",
   "execution_count": 25,
   "id": "c7762e4e",
   "metadata": {},
   "outputs": [
    {
     "name": "stdout",
     "output_type": "stream",
     "text": [
      "Model: \"model\"\n",
      "__________________________________________________________________________________________________\n",
      "Layer (type)                    Output Shape         Param #     Connected to                     \n",
      "==================================================================================================\n",
      "input_1 (InputLayer)            [(None, None)]       0                                            \n",
      "__________________________________________________________________________________________________\n",
      "input_2 (InputLayer)            [(None, None)]       0                                            \n",
      "__________________________________________________________________________________________________\n",
      "embedding (Embedding)           (None, None, 64)     305344      input_1[0][0]                    \n",
      "__________________________________________________________________________________________________\n",
      "embedding_1 (Embedding)         (None, None, 64)     510208      input_2[0][0]                    \n",
      "__________________________________________________________________________________________________\n",
      "masking (Masking)               (None, None, 64)     0           embedding[0][0]                  \n",
      "__________________________________________________________________________________________________\n",
      "masking_1 (Masking)             (None, None, 64)     0           embedding_1[0][0]                \n",
      "__________________________________________________________________________________________________\n",
      "lstm (LSTM)                     [(None, 64), (None,  33024       masking[0][0]                    \n",
      "__________________________________________________________________________________________________\n",
      "lstm_1 (LSTM)                   [(None, None, 64), ( 33024       masking_1[0][0]                  \n",
      "                                                                 lstm[0][1]                       \n",
      "                                                                 lstm[0][2]                       \n",
      "__________________________________________________________________________________________________\n",
      "dense (Dense)                   (None, None, 7972)   518180      lstm_1[0][0]                     \n",
      "==================================================================================================\n",
      "Total params: 1,399,780\n",
      "Trainable params: 1,399,780\n",
      "Non-trainable params: 0\n",
      "__________________________________________________________________________________________________\n"
     ]
    }
   ],
   "source": [
    "model = Model([encoder_inputs, decoder_inputs], decoder_outputs)\n",
    "model.compile(optimizer=\"rmsprop\", loss=\"sparse_categorical_crossentropy\", metrics=['acc'])\n",
    "model.summary()"
   ]
  },
  {
   "cell_type": "code",
   "execution_count": 26,
   "id": "c00cb1b3",
   "metadata": {
    "scrolled": true
   },
   "outputs": [
    {
     "name": "stdout",
     "output_type": "stream",
     "text": [
      "Epoch 1/50\n",
      "235/235 [==============================] - 16s 34ms/step - loss: 2.7744 - acc: 0.6479 - val_loss: 2.0625 - val_acc: 0.7097\n",
      "Epoch 2/50\n",
      "235/235 [==============================] - 6s 25ms/step - loss: 1.6307 - acc: 0.7496 - val_loss: 1.8702 - val_acc: 0.7243\n",
      "Epoch 3/50\n",
      "235/235 [==============================] - 6s 25ms/step - loss: 1.4903 - acc: 0.7615 - val_loss: 1.7864 - val_acc: 0.7335\n",
      "Epoch 4/50\n",
      "235/235 [==============================] - 6s 25ms/step - loss: 1.3814 - acc: 0.7794 - val_loss: 1.6971 - val_acc: 0.7423\n",
      "Epoch 5/50\n",
      "235/235 [==============================] - 6s 25ms/step - loss: 1.2934 - acc: 0.7929 - val_loss: 1.6207 - val_acc: 0.7553\n",
      "Epoch 6/50\n",
      "235/235 [==============================] - 6s 25ms/step - loss: 1.2261 - acc: 0.8035 - val_loss: 1.5754 - val_acc: 0.7619\n",
      "Epoch 7/50\n",
      "235/235 [==============================] - 6s 25ms/step - loss: 1.1749 - acc: 0.8111 - val_loss: 1.5220 - val_acc: 0.7718\n",
      "Epoch 8/50\n",
      "235/235 [==============================] - 6s 25ms/step - loss: 1.1327 - acc: 0.8168 - val_loss: 1.5015 - val_acc: 0.7767\n",
      "Epoch 9/50\n",
      "235/235 [==============================] - 6s 25ms/step - loss: 1.0952 - acc: 0.8220 - val_loss: 1.4685 - val_acc: 0.7810\n",
      "Epoch 10/50\n",
      "235/235 [==============================] - 6s 25ms/step - loss: 1.0625 - acc: 0.8262 - val_loss: 1.4467 - val_acc: 0.7849\n",
      "Epoch 11/50\n",
      "235/235 [==============================] - 6s 26ms/step - loss: 1.0334 - acc: 0.8302 - val_loss: 1.4142 - val_acc: 0.7878\n",
      "Epoch 12/50\n",
      "235/235 [==============================] - 6s 26ms/step - loss: 1.0060 - acc: 0.8335 - val_loss: 1.4006 - val_acc: 0.7898\n",
      "Epoch 13/50\n",
      "235/235 [==============================] - 6s 25ms/step - loss: 0.9798 - acc: 0.8363 - val_loss: 1.3834 - val_acc: 0.7923\n",
      "Epoch 14/50\n",
      "235/235 [==============================] - 6s 25ms/step - loss: 0.9560 - acc: 0.8392 - val_loss: 1.3784 - val_acc: 0.7937\n",
      "Epoch 15/50\n",
      "235/235 [==============================] - 6s 25ms/step - loss: 0.9342 - acc: 0.8419 - val_loss: 1.3647 - val_acc: 0.7951\n",
      "Epoch 16/50\n",
      "235/235 [==============================] - 6s 25ms/step - loss: 0.9134 - acc: 0.8449 - val_loss: 1.3438 - val_acc: 0.7970\n",
      "Epoch 17/50\n",
      "235/235 [==============================] - 6s 25ms/step - loss: 0.8937 - acc: 0.8471 - val_loss: 1.3315 - val_acc: 0.7974\n",
      "Epoch 18/50\n",
      "235/235 [==============================] - 6s 25ms/step - loss: 0.8748 - acc: 0.8496 - val_loss: 1.3193 - val_acc: 0.7996\n",
      "Epoch 19/50\n",
      "235/235 [==============================] - 6s 25ms/step - loss: 0.8570 - acc: 0.8518 - val_loss: 1.3127 - val_acc: 0.8000\n",
      "Epoch 20/50\n",
      "235/235 [==============================] - 6s 25ms/step - loss: 0.8402 - acc: 0.8543 - val_loss: 1.2990 - val_acc: 0.8015\n",
      "Epoch 21/50\n",
      "235/235 [==============================] - 6s 25ms/step - loss: 0.8251 - acc: 0.8565 - val_loss: 1.2917 - val_acc: 0.8032\n",
      "Epoch 22/50\n",
      "235/235 [==============================] - 6s 25ms/step - loss: 0.8107 - acc: 0.8589 - val_loss: 1.2838 - val_acc: 0.8041\n",
      "Epoch 23/50\n",
      "235/235 [==============================] - 6s 25ms/step - loss: 0.7969 - acc: 0.8608 - val_loss: 1.2863 - val_acc: 0.8047\n",
      "Epoch 24/50\n",
      "235/235 [==============================] - 6s 25ms/step - loss: 0.7836 - acc: 0.8629 - val_loss: 1.2791 - val_acc: 0.8040\n",
      "Epoch 25/50\n",
      "235/235 [==============================] - 6s 25ms/step - loss: 0.7712 - acc: 0.8650 - val_loss: 1.2711 - val_acc: 0.8060\n",
      "Epoch 26/50\n",
      "235/235 [==============================] - 6s 25ms/step - loss: 0.7595 - acc: 0.8668 - val_loss: 1.2735 - val_acc: 0.8066\n",
      "Epoch 27/50\n",
      "235/235 [==============================] - 6s 25ms/step - loss: 0.7487 - acc: 0.8686 - val_loss: 1.2641 - val_acc: 0.8071\n",
      "Epoch 28/50\n",
      "235/235 [==============================] - 6s 25ms/step - loss: 0.7375 - acc: 0.8704 - val_loss: 1.2602 - val_acc: 0.8086\n",
      "Epoch 29/50\n",
      "235/235 [==============================] - 6s 25ms/step - loss: 0.7269 - acc: 0.8722 - val_loss: 1.2603 - val_acc: 0.8077\n",
      "Epoch 30/50\n",
      "235/235 [==============================] - 6s 25ms/step - loss: 0.7172 - acc: 0.8739 - val_loss: 1.2587 - val_acc: 0.8096\n",
      "Epoch 31/50\n",
      "235/235 [==============================] - 6s 25ms/step - loss: 0.7077 - acc: 0.8755 - val_loss: 1.2544 - val_acc: 0.8088\n",
      "Epoch 32/50\n",
      "235/235 [==============================] - 6s 25ms/step - loss: 0.6983 - acc: 0.8769 - val_loss: 1.2489 - val_acc: 0.8108\n",
      "Epoch 33/50\n",
      "235/235 [==============================] - 6s 25ms/step - loss: 0.6888 - acc: 0.8786 - val_loss: 1.2498 - val_acc: 0.8112\n",
      "Epoch 34/50\n",
      "235/235 [==============================] - 6s 25ms/step - loss: 0.6795 - acc: 0.8802 - val_loss: 1.2522 - val_acc: 0.8099\n",
      "Epoch 35/50\n",
      "235/235 [==============================] - 6s 25ms/step - loss: 0.6707 - acc: 0.8818 - val_loss: 1.2441 - val_acc: 0.8111\n",
      "Epoch 36/50\n",
      "235/235 [==============================] - 6s 25ms/step - loss: 0.6626 - acc: 0.8830 - val_loss: 1.2485 - val_acc: 0.8114\n",
      "Epoch 37/50\n",
      "235/235 [==============================] - 6s 25ms/step - loss: 0.6541 - acc: 0.8846 - val_loss: 1.2425 - val_acc: 0.8122\n",
      "Epoch 38/50\n",
      "235/235 [==============================] - 6s 25ms/step - loss: 0.6462 - acc: 0.8863 - val_loss: 1.2493 - val_acc: 0.8120\n",
      "Epoch 39/50\n",
      "235/235 [==============================] - 6s 25ms/step - loss: 0.6386 - acc: 0.8874 - val_loss: 1.2486 - val_acc: 0.8126\n",
      "Epoch 40/50\n",
      "235/235 [==============================] - 6s 25ms/step - loss: 0.6308 - acc: 0.8888 - val_loss: 1.2440 - val_acc: 0.8137\n",
      "Epoch 41/50\n",
      "235/235 [==============================] - 6s 25ms/step - loss: 0.6227 - acc: 0.8899 - val_loss: 1.2483 - val_acc: 0.8133\n",
      "Epoch 42/50\n",
      "235/235 [==============================] - 6s 25ms/step - loss: 0.6149 - acc: 0.8913 - val_loss: 1.2414 - val_acc: 0.8139\n",
      "Epoch 43/50\n",
      "235/235 [==============================] - 6s 25ms/step - loss: 0.6071 - acc: 0.8925 - val_loss: 1.2455 - val_acc: 0.8132\n",
      "Epoch 44/50\n",
      "235/235 [==============================] - 6s 25ms/step - loss: 0.5999 - acc: 0.8938 - val_loss: 1.2448 - val_acc: 0.8133\n",
      "Epoch 45/50\n",
      "235/235 [==============================] - 6s 25ms/step - loss: 0.5926 - acc: 0.8948 - val_loss: 1.2434 - val_acc: 0.8136\n",
      "Epoch 46/50\n",
      "235/235 [==============================] - 6s 25ms/step - loss: 0.5855 - acc: 0.8961 - val_loss: 1.2462 - val_acc: 0.8144\n",
      "Epoch 47/50\n",
      "235/235 [==============================] - 6s 25ms/step - loss: 0.5793 - acc: 0.8972 - val_loss: 1.2485 - val_acc: 0.8139\n",
      "Epoch 48/50\n",
      "235/235 [==============================] - 6s 25ms/step - loss: 0.5737 - acc: 0.8981 - val_loss: 1.2472 - val_acc: 0.8145\n",
      "Epoch 49/50\n",
      "235/235 [==============================] - 6s 25ms/step - loss: 0.5685 - acc: 0.8992 - val_loss: 1.2489 - val_acc: 0.8143\n",
      "Epoch 50/50\n",
      "235/235 [==============================] - 6s 25ms/step - loss: 0.5638 - acc: 0.9000 - val_loss: 1.2487 - val_acc: 0.8142\n"
     ]
    }
   ],
   "source": [
    "history = model.fit(x=[encoder_input_train, decoder_input_train], y=decoder_target_train, \\\n",
    "          validation_data = ([encoder_input_test, decoder_input_test], decoder_target_test),\n",
    "          batch_size=128, epochs=50)"
   ]
  },
  {
   "cell_type": "code",
   "execution_count": 27,
   "id": "04cedbe8",
   "metadata": {},
   "outputs": [
    {
     "data": {
      "image/png": "[encoded data removed]",
      "text/plain": [
       "<Figure size 432x288 with 1 Axes>"
      ]
     },
     "metadata": {
      "needs_background": "light"
     },
     "output_type": "display_data"
    },
    {
     "data": {
      "image/png": "[encoded data removed]",
      "text/plain": [
       "<Figure size 432x288 with 1 Axes>"
      ]
     },
     "metadata": {
      "needs_background": "light"
     },
     "output_type": "display_data"
    }
   ],
   "source": [
    "import matplotlib.pyplot as plt\n",
    "\n",
    "history_df = pd.DataFrame(history.history)\n",
    "history_df['loss'].plot()\n",
    "history_df['val_loss'].plot()\n",
    "plt.legend()\n",
    "plt.show()\n",
    "\n",
    "\n",
    "history_df = pd.DataFrame(history.history)\n",
    "history_df['acc'].plot()\n",
    "history_df['val_acc'].plot()\n",
    "plt.legend()\n",
    "plt.show()"
   ]
  },
  {
   "cell_type": "markdown",
   "id": "ea208ef3",
   "metadata": {},
   "source": [
    "## 모델 평가하기"
   ]
  },
  {
   "cell_type": "code",
   "execution_count": 28,
   "id": "dcbcf923",
   "metadata": {},
   "outputs": [],
   "source": [
    "# 인코더\n",
    "encoder_model = Model(encoder_inputs, encoder_states)\n",
    "# 디코더\n",
    "decoder_state_input_h = Input(shape=(latent_dim,))\n",
    "decoder_state_input_c = Input(shape=(latent_dim,))\n",
    "decoder_state_inputs = [decoder_state_input_h,decoder_state_input_c]\n",
    "\n",
    "dec_emb2 = decoder_emb_layer(decoder_inputs)\n",
    "\n",
    "decoder_outputs2, state_h2, state_c2 = decoder_lstm(dec_emb2, initial_state= decoder_state_inputs)\n",
    "decoder_states2 = [state_h2, state_c2]\n",
    "\n",
    "decoder_outputs2 = decoder_softmax_layer(decoder_outputs2)"
   ]
  },
  {
   "cell_type": "code",
   "execution_count": 29,
   "id": "ee574fcf",
   "metadata": {},
   "outputs": [],
   "source": [
    "# 디코더 정의\n",
    "decoder_model = Model([decoder_inputs]+decoder_state_inputs,[decoder_outputs2]+decoder_states2)"
   ]
  },
  {
   "cell_type": "code",
   "execution_count": 30,
   "id": "0f429fe3",
   "metadata": {},
   "outputs": [],
   "source": [
    "def decode_sequence(input_seq):\n",
    "    # 입력으로부터 인코더의 상태를 얻음\n",
    "    states_value = encoder_model.predict(input_seq)\n",
    "\n",
    "    # <sos>에 해당하는 원-핫 벡터 생성\n",
    "    target_seq = np.zeros((1,1)) \n",
    "    target_seq[0, 0] = tar_to_index['<sos>']\n",
    "    \n",
    "    stop_condition = False\n",
    "    decoded_sentence = \"\"\n",
    "\n",
    "    # stop_condition이 True가 될 때까지 루프 반복\n",
    "    while not stop_condition:\n",
    "        # 이점 시점의 상태 states_value를 현 시점의 초기 상태로 사용\n",
    "        output_tokens, h, c = decoder_model.predict([target_seq] + states_value)\n",
    "\n",
    "        # 예측 결과를 문자로 변환\n",
    "        sampled_token_index = np.argmax(output_tokens[0, -1, :])\n",
    "        sampled_char = index_to_tar[sampled_token_index]\n",
    "\n",
    "        # 현재 시점의 예측 문자를 예측 문장에 추가\n",
    "        decoded_sentence += ' '+sampled_char\n",
    "\n",
    "        # <eos>에 도달하거나 최대 길이를 넘으면 중단.\n",
    "        if (sampled_char == '<eos>' or\n",
    "           len(decoded_sentence) > max_fra_seq_len):\n",
    "            stop_condition = True\n",
    "\n",
    "        # 현재 시점의 예측 결과를 다음 시점의 입력으로 사용하기 위해 저장     \n",
    "        target_seq = np.zeros((1, 1))\n",
    "        target_seq[0, 0] = sampled_token_index\n",
    "\n",
    "        # 현재 시점의 상태를 다음 시점의 상태로 사용하기 위해 저장\n",
    "        states_value = [h, c]\n",
    "\n",
    "    return decoded_sentence"
   ]
  },
  {
   "cell_type": "code",
   "execution_count": 31,
   "id": "2d305772",
   "metadata": {},
   "outputs": [],
   "source": [
    "# 원문의 정수 시퀀스를 텍스트 시퀀스로 변환\n",
    "def seq2src(input_seq):\n",
    "    temp=''\n",
    "    for i in input_seq:\n",
    "        if(i!=0):\n",
    "            temp=temp+index_to_src[i]+ ' '\n",
    "    return temp\n",
    "# 변역문의 정수 시퀀스를 텍스트 시퀀스로 변환\n",
    "def seq2tar(input_seq):\n",
    "    temp=''\n",
    "    for i in input_seq:\n",
    "        if((i!=0 and i != tar_to_index['<sos>']) and i != tar_to_index['<eos>']):\n",
    "            temp=temp+index_to_tar[i]+ ' '\n",
    "    return temp"
   ]
  },
  {
   "cell_type": "code",
   "execution_count": 32,
   "id": "900488b5",
   "metadata": {},
   "outputs": [
    {
     "name": "stdout",
     "output_type": "stream",
     "text": [
      "-----------------------------------\n",
      "입력 문장: go . \n",
      "정답 문장: bouge ! \n",
      "번역기가 번역한 문장:  va en homme . \n",
      "-----------------------------------\n",
      "입력 문장: hello ! \n",
      "정답 문장: bonjour ! \n",
      "번역기가 번역한 문장:  salut ! \n",
      "-----------------------------------\n",
      "입력 문장: got it ? \n",
      "정답 문장: t'as capt ? \n",
      "번역기가 번역한 문장:  qu'est ce qu\n",
      "-----------------------------------\n",
      "입력 문장: hang on . \n",
      "정답 문장: tiens bon ! \n",
      "번역기가 번역한 문장:  attendez . \n",
      "-----------------------------------\n",
      "입력 문장: here's . \n",
      "정답 문장: voil cinq dollars . \n",
      "번역기가 번역한 문장:  voici l . \n"
     ]
    }
   ],
   "source": [
    "import numpy as np\n",
    "for seq_index in  [3,50,100,300,1001]: # 입력 문장의 인덱스 (자유롭게 선택해 보세요)\n",
    "    input_seq = encoder_input_train[seq_index: seq_index + 1]\n",
    "    decoded_sentence = decode_sequence(input_seq)\n",
    "    print(35 * \"-\")\n",
    "    print('입력 문장:', seq2src(encoder_input_train[seq_index]))\n",
    "    print('정답 문장:', seq2tar(decoder_input_train[seq_index]))\n",
    "    print('번역기가 번역한 문장:', decoded_sentence[:-5])"
   ]
  },
  {
   "cell_type": "code",
   "execution_count": 33,
   "id": "b451bd3b",
   "metadata": {
    "scrolled": true
   },
   "outputs": [
    {
     "name": "stdout",
     "output_type": "stream",
     "text": [
      "-----------------------------------\n",
      "입력 문장: i lost your number . \n",
      "정답 문장: j'ai perdu votre num ro . \n",
      "번역기가 번역한 문장:  j'ai tr s a\n",
      "-----------------------------------\n",
      "입력 문장: i think you did it . \n",
      "정답 문장: je pense que c'est toi qui l'a fait . \n",
      "번역기가 번역한 문장:  je pense que \n",
      "-----------------------------------\n",
      "입력 문장: i won't say a word . \n",
      "정답 문장: je ne dirai pas un mot . \n",
      "번역기가 번역한 문장:  je ne fais pas m\n",
      "-----------------------------------\n",
      "입력 문장: i never was skinny . \n",
      "정답 문장: je n'ai jamais t maigre . \n",
      "번역기가 번역한 문장:  je ne suis pa\n",
      "-----------------------------------\n",
      "입력 문장: i want to tell you . \n",
      "정답 문장: je veux vous le dire . \n",
      "번역기가 번역한 문장:  je veux le v\n"
     ]
    }
   ],
   "source": [
    "for seq_index in  [1, 250, 431, 105,322]: # 입력 문장의 인덱스 (자유롭게 선택해 보세요)\n",
    "    input_seq = encoder_input_test[seq_index: seq_index + 1]\n",
    "    decoded_sentence = decode_sequence(input_seq)\n",
    "    print(35 * \"-\")\n",
    "    print('입력 문장:', seq2src(encoder_input_test[seq_index]))\n",
    "    print('정답 문장:', seq2tar(decoder_input_test[seq_index]))\n",
    "    print('번역기가 번역한 문장:', decoded_sentence[:-5])"
   ]
  },
  {
   "cell_type": "markdown",
   "id": "2193a322",
   "metadata": {},
   "source": [
    "-----------------------------------\n",
    "입력 문장: i lost your number . -> 나는 너의 번호를 잃어버렸다.\n",
    "\n",
    "정답 문장: j'ai perdu votre num ro . -> 나는 너의 번호를 잃어버렸다.\n",
    "\n",
    "번역기가 번역한 문장:  j'ai tr s a -> 난 너무 많아.\n",
    "\n",
    "-----------------------------------\n",
    "입력 문장: i think you did it . -> 네가 해낸 것 같아.\n",
    "\n",
    "정답 문장: je pense que c'est toi qui l'a fait . -> 네가 해낸 것 같아.\n",
    "\n",
    "번역기가 번역한 문장:  je pense que -> 나는 생각한다\n",
    "\n",
    "-----------------------------------\n",
    "입력 문장: i won't say a word . -> 난 한 마디도 안 할 것이다.\n",
    "\n",
    "정답 문장: je ne dirai pas un mot .  -> 난 한 마디도 안 할 것이다.\n",
    "\n",
    "번역기가 번역한 문장:  je ne peux pas m -> 난 안 해.\n",
    "\n",
    "----------------------------------- \n",
    "입력 문장: i never was skinny . -> 나는 결코 말랐던 적이 없다.\n",
    "\n",
    "정답 문장: je n'ai jamais t maigre . -> 나는 결코 말랐던 적이 없다.\n",
    "\n",
    "번역기가 번역한 문장: je ne suis pa -> 전 그렇지 않아요.\n",
    "\n",
    "-----------------------------------\n",
    "입력 문장: i want to tell you . -> 나는 너에게 말하고 싶다.\n",
    "\n",
    "정답 문장: je veux vous le dire . -> 나는 너에게 말하고 싶다.\n",
    "\n",
    "번역기가 번역한 문장:  je veux le v -> 난 그를 원한다."
   ]
  },
  {
   "cell_type": "markdown",
   "id": "a6830147",
   "metadata": {},
   "source": [
    "## 회고\n",
    "- 어려웠던 점 : encoder와 decoder을 구분해서 model을 구현하는게 어려웠다.\n",
    "- 알아낸 점 및 모호한 점 : 마지막 출력 시킬때, encoder_input과 decoder_input을 잘 구분해서 적어야하는 것을 알게 되었다.\n",
    "- 노력한 점 : val_loss가 우하향하는 모습을 보도록 그래프를 그렸다.\n",
    "- 자기다짐 : 번역기를 또 한글로 바꾸는 점이 힘들었지만, 완성도 있는 번역기를 확인 할 수 있어서 좋았다."
   ]
  }
 ],
 "metadata": {
  "kernelspec": {
   "display_name": "Python 3 (ipykernel)",
   "language": "python",
   "name": "python3"
  },
  "language_info": {
   "codemirror_mode": {
    "name": "ipython",
    "version": 3
   },
   "file_extension": ".py",
   "mimetype": "text/x-python",
   "name": "python",
   "nbconvert_exporter": "python",
   "pygments_lexer": "ipython3",
   "version": "3.9.7"
  }
 },
 "nbformat": 4,
 "nbformat_minor": 5
}
