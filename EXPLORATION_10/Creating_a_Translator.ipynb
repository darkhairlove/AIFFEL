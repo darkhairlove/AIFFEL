{
 "cells": [
  {
   "cell_type": "code",
   "execution_count": 36,
   "id": "214bb1fc",
   "metadata": {},
   "outputs": [],
   "source": [
    "import pandas as pd\n",
    "from tensorflow.keras.preprocessing.text import Tokenizer\n",
    "from tensorflow.keras.preprocessing.sequence import pad_sequences\n",
    "from tensorflow.keras.metrics import sparse_categorical_crossentropy\n",
    "import numpy as np"
   ]
  },
  {
   "cell_type": "code",
   "execution_count": 37,
   "id": "2afe6bb2",
   "metadata": {},
   "outputs": [
    {
     "name": "stdout",
     "output_type": "stream",
     "text": [
      "전체 샘플의 수 : 197463\n"
     ]
    },
    {
     "data": {
      "text/html": [
       "<div>\n",
       "<style scoped>\n",
       "    .dataframe tbody tr th:only-of-type {\n",
       "        vertical-align: middle;\n",
       "    }\n",
       "\n",
       "    .dataframe tbody tr th {\n",
       "        vertical-align: top;\n",
       "    }\n",
       "\n",
       "    .dataframe thead th {\n",
       "        text-align: right;\n",
       "    }\n",
       "</style>\n",
       "<table border=\"1\" class=\"dataframe\">\n",
       "  <thead>\n",
       "    <tr style=\"text-align: right;\">\n",
       "      <th></th>\n",
       "      <th>eng</th>\n",
       "      <th>fra</th>\n",
       "      <th>cc</th>\n",
       "    </tr>\n",
       "  </thead>\n",
       "  <tbody>\n",
       "    <tr>\n",
       "      <th>176084</th>\n",
       "      <td>She was ready to give him back all his money.</td>\n",
       "      <td>Elle était prête à lui rendre tout son argent.</td>\n",
       "      <td>CC-BY 2.0 (France) Attribution: tatoeba.org #8...</td>\n",
       "    </tr>\n",
       "    <tr>\n",
       "      <th>181635</th>\n",
       "      <td>Tom would never say something like that to Mary.</td>\n",
       "      <td>Tom ne dirait jamais quelque chose comme ça à ...</td>\n",
       "      <td>CC-BY 2.0 (France) Attribution: tatoeba.org #9...</td>\n",
       "    </tr>\n",
       "    <tr>\n",
       "      <th>181330</th>\n",
       "      <td>Something tells me that you're hiding something.</td>\n",
       "      <td>Mon petit doigt me dit que tu caches quelque c...</td>\n",
       "      <td>CC-BY 2.0 (France) Attribution: tatoeba.org #7...</td>\n",
       "    </tr>\n",
       "    <tr>\n",
       "      <th>72720</th>\n",
       "      <td>I'm a little bit jealous.</td>\n",
       "      <td>Je suis un tantinet jaloux.</td>\n",
       "      <td>CC-BY 2.0 (France) Attribution: tatoeba.org #1...</td>\n",
       "    </tr>\n",
       "    <tr>\n",
       "      <th>128444</th>\n",
       "      <td>Do you ever study in the library?</td>\n",
       "      <td>Est-ce que vous étudiez à la bibliothèque des ...</td>\n",
       "      <td>CC-BY 2.0 (France) Attribution: tatoeba.org #2...</td>\n",
       "    </tr>\n",
       "  </tbody>\n",
       "</table>\n",
       "</div>"
      ],
      "text/plain": [
       "                                                     eng  \\\n",
       "176084     She was ready to give him back all his money.   \n",
       "181635  Tom would never say something like that to Mary.   \n",
       "181330  Something tells me that you're hiding something.   \n",
       "72720                          I'm a little bit jealous.   \n",
       "128444                 Do you ever study in the library?   \n",
       "\n",
       "                                                      fra  \\\n",
       "176084     Elle était prête à lui rendre tout son argent.   \n",
       "181635  Tom ne dirait jamais quelque chose comme ça à ...   \n",
       "181330  Mon petit doigt me dit que tu caches quelque c...   \n",
       "72720                         Je suis un tantinet jaloux.   \n",
       "128444  Est-ce que vous étudiez à la bibliothèque des ...   \n",
       "\n",
       "                                                       cc  \n",
       "176084  CC-BY 2.0 (France) Attribution: tatoeba.org #8...  \n",
       "181635  CC-BY 2.0 (France) Attribution: tatoeba.org #9...  \n",
       "181330  CC-BY 2.0 (France) Attribution: tatoeba.org #7...  \n",
       "72720   CC-BY 2.0 (France) Attribution: tatoeba.org #1...  \n",
       "128444  CC-BY 2.0 (France) Attribution: tatoeba.org #2...  "
      ]
     },
     "execution_count": 37,
     "metadata": {},
     "output_type": "execute_result"
    }
   ],
   "source": [
    "import os\n",
    "file_path = os.getenv('HOME')+'/aiffel/translator_seq2seq/data/fra.txt'\n",
    "lines = pd.read_csv(file_path, names=['eng', 'fra', 'cc'], sep='\\t')\n",
    "print('전체 샘플의 수 :',len(lines))\n",
    "lines.sample(5) #샘플 5개 출력"
   ]
  },
  {
   "cell_type": "code",
   "execution_count": 38,
   "id": "99c6ae5f",
   "metadata": {},
   "outputs": [
    {
     "data": {
      "text/html": [
       "<div>\n",
       "<style scoped>\n",
       "    .dataframe tbody tr th:only-of-type {\n",
       "        vertical-align: middle;\n",
       "    }\n",
       "\n",
       "    .dataframe tbody tr th {\n",
       "        vertical-align: top;\n",
       "    }\n",
       "\n",
       "    .dataframe thead th {\n",
       "        text-align: right;\n",
       "    }\n",
       "</style>\n",
       "<table border=\"1\" class=\"dataframe\">\n",
       "  <thead>\n",
       "    <tr style=\"text-align: right;\">\n",
       "      <th></th>\n",
       "      <th>eng</th>\n",
       "      <th>fra</th>\n",
       "    </tr>\n",
       "  </thead>\n",
       "  <tbody>\n",
       "    <tr>\n",
       "      <th>27274</th>\n",
       "      <td>We're married now.</td>\n",
       "      <td>Nous sommes désormais mariés.</td>\n",
       "    </tr>\n",
       "    <tr>\n",
       "      <th>13739</th>\n",
       "      <td>He plays soccer.</td>\n",
       "      <td>Il joue au football.</td>\n",
       "    </tr>\n",
       "    <tr>\n",
       "      <th>11944</th>\n",
       "      <td>They struggled.</td>\n",
       "      <td>Elles ont morflé.</td>\n",
       "    </tr>\n",
       "    <tr>\n",
       "      <th>30553</th>\n",
       "      <td>I'm at my parents'.</td>\n",
       "      <td>Je suis chez mes parents.</td>\n",
       "    </tr>\n",
       "    <tr>\n",
       "      <th>31447</th>\n",
       "      <td>Now I'm in trouble.</td>\n",
       "      <td>Désormais, j'ai des ennuis.</td>\n",
       "    </tr>\n",
       "  </tbody>\n",
       "</table>\n",
       "</div>"
      ],
      "text/plain": [
       "                       eng                            fra\n",
       "27274   We're married now.  Nous sommes désormais mariés.\n",
       "13739     He plays soccer.           Il joue au football.\n",
       "11944      They struggled.              Elles ont morflé.\n",
       "30553  I'm at my parents'.      Je suis chez mes parents.\n",
       "31447  Now I'm in trouble.    Désormais, j'ai des ennuis."
      ]
     },
     "execution_count": 38,
     "metadata": {},
     "output_type": "execute_result"
    }
   ],
   "source": [
    "lines = lines[['eng', 'fra']][:33000] # 3.3만개 샘플 사용\n",
    "lines.sample(5)"
   ]
  },
  {
   "cell_type": "code",
   "execution_count": 39,
   "id": "0f65a30a",
   "metadata": {},
   "outputs": [
    {
     "name": "stdout",
     "output_type": "stream",
     "text": [
      "전체 샘플의 수 : 33000\n"
     ]
    },
    {
     "data": {
      "text/html": [
       "<div>\n",
       "<style scoped>\n",
       "    .dataframe tbody tr th:only-of-type {\n",
       "        vertical-align: middle;\n",
       "    }\n",
       "\n",
       "    .dataframe tbody tr th {\n",
       "        vertical-align: top;\n",
       "    }\n",
       "\n",
       "    .dataframe thead th {\n",
       "        text-align: right;\n",
       "    }\n",
       "</style>\n",
       "<table border=\"1\" class=\"dataframe\">\n",
       "  <thead>\n",
       "    <tr style=\"text-align: right;\">\n",
       "      <th></th>\n",
       "      <th>eng</th>\n",
       "      <th>fra</th>\n",
       "    </tr>\n",
       "  </thead>\n",
       "  <tbody>\n",
       "    <tr>\n",
       "      <th>16239</th>\n",
       "      <td>Tom is involved.</td>\n",
       "      <td>Tom est impliqué.</td>\n",
       "    </tr>\n",
       "    <tr>\n",
       "      <th>29296</th>\n",
       "      <td>He's pushing fifty.</td>\n",
       "      <td>Il frôle les cinquante ans.</td>\n",
       "    </tr>\n",
       "    <tr>\n",
       "      <th>9660</th>\n",
       "      <td>Be nice to her.</td>\n",
       "      <td>Sois gentil avec elle.</td>\n",
       "    </tr>\n",
       "    <tr>\n",
       "      <th>210</th>\n",
       "      <td>Come in.</td>\n",
       "      <td>Entrez !</td>\n",
       "    </tr>\n",
       "    <tr>\n",
       "      <th>32205</th>\n",
       "      <td>They want to leave.</td>\n",
       "      <td>Ils veulent s'en aller.</td>\n",
       "    </tr>\n",
       "  </tbody>\n",
       "</table>\n",
       "</div>"
      ],
      "text/plain": [
       "                       eng                          fra\n",
       "16239     Tom is involved.            Tom est impliqué.\n",
       "29296  He's pushing fifty.  Il frôle les cinquante ans.\n",
       "9660       Be nice to her.       Sois gentil avec elle.\n",
       "210               Come in.                     Entrez !\n",
       "32205  They want to leave.      Ils veulent s'en aller."
      ]
     },
     "execution_count": 39,
     "metadata": {},
     "output_type": "execute_result"
    }
   ],
   "source": [
    "print('전체 샘플의 수 :',len(lines))\n",
    "lines.sample(5)"
   ]
  },
  {
   "cell_type": "code",
   "execution_count": 40,
   "id": "33d5fc08",
   "metadata": {},
   "outputs": [
    {
     "data": {
      "text/plain": [
       "0                                      Va !\n",
       "1                                   Marche.\n",
       "2                                En route !\n",
       "3                                   Bouge !\n",
       "4                                   Salut !\n",
       "                        ...                \n",
       "32995    Nous avons toutes beaucoup pleuré.\n",
       "32996                Nous avions tous faim.\n",
       "32997         Nous avons aussi trouvé ceci.\n",
       "32998         Nous sommes des gens occupés.\n",
       "32999         Nous regardons la télévision.\n",
       "Name: fra, Length: 33000, dtype: object"
      ]
     },
     "execution_count": 40,
     "metadata": {},
     "output_type": "execute_result"
    }
   ],
   "source": [
    "lines.fra"
   ]
  },
  {
   "cell_type": "markdown",
   "id": "050207df",
   "metadata": {},
   "source": [
    "## 정제, 정규화, 전처리 (영어, 프랑스어 모두!)"
   ]
  },
  {
   "cell_type": "code",
   "execution_count": 41,
   "id": "ae589417",
   "metadata": {},
   "outputs": [],
   "source": [
    "import re\n",
    "def preprocess_sentence(sentence):\n",
    "    sentence = sentence.lower().strip() \n",
    "    sentence = re.sub(r\"([?.!,¿])\", r\" \\1 \", sentence) \n",
    "    sentence = re.sub(r'[\" \"]+', \" \", sentence) \n",
    "    sentence = re.sub(r\"[^a-zA-Z?.!,¿']+\", \" \", sentence) \n",
    "    sentence = sentence.strip() \n",
    "    return sentence\n",
    "\n",
    "import re\n",
    "def preprocess_sentence2(sentence):\n",
    "    sentence = sentence.lower().strip() \n",
    "    sentence = re.sub(r\"([?.!,¿])\", r\" \\1 \", sentence)\n",
    "    sentence = re.sub(r'[\" \"]+', \" \", sentence) \n",
    "    sentence = re.sub(r\"[^a-zA-Z?.!,¿']+\", \" \", sentence) \n",
    "    sentence = sentence.strip()\n",
    "    sentence = \"<sos> \" + sentence + \" <eos>\"\n",
    "    return sentence\n"
   ]
  },
  {
   "cell_type": "code",
   "execution_count": 42,
   "id": "2490203c",
   "metadata": {
    "scrolled": true
   },
   "outputs": [
    {
     "data": {
      "text/plain": [
       "['<sos> va ! <eos>',\n",
       " '<sos> marche . <eos>',\n",
       " '<sos> en route ! <eos>',\n",
       " '<sos> bouge ! <eos>',\n",
       " '<sos> salut ! <eos>',\n",
       " '<sos> salut . <eos>',\n",
       " '<sos> cours ! <eos>',\n",
       " '<sos> courez ! <eos>',\n",
       " '<sos> prenez vos jambes vos cous ! <eos>',\n",
       " '<sos> file ! <eos>']"
      ]
     },
     "execution_count": 42,
     "metadata": {},
     "output_type": "execute_result"
    }
   ],
   "source": [
    "line = []\n",
    "\n",
    "for a in lines.fra:\n",
    "    preprocessed_sentence = preprocess_sentence2(a)\n",
    "    line.append(preprocessed_sentence)\n",
    "line[:10]"
   ]
  },
  {
   "cell_type": "code",
   "execution_count": 43,
   "id": "2b386ac6",
   "metadata": {
    "scrolled": true
   },
   "outputs": [
    {
     "data": {
      "text/plain": [
       "['go .',\n",
       " 'go .',\n",
       " 'go .',\n",
       " 'go .',\n",
       " 'hi .',\n",
       " 'hi .',\n",
       " 'run !',\n",
       " 'run !',\n",
       " 'run !',\n",
       " 'run !']"
      ]
     },
     "execution_count": 43,
     "metadata": {},
     "output_type": "execute_result"
    }
   ],
   "source": [
    "line2 = []\n",
    "\n",
    "for a in lines.eng:\n",
    "    preprocessed_sentence = preprocess_sentence(a)\n",
    "    line2.append(preprocessed_sentence)\n",
    "line2[:10]"
   ]
  },
  {
   "cell_type": "markdown",
   "id": "12c793a4",
   "metadata": {},
   "source": [
    "## 케라스의 토크나이저로 텍스트를 숫자로 바꾸기"
   ]
  },
  {
   "cell_type": "code",
   "execution_count": 44,
   "id": "828676e4",
   "metadata": {},
   "outputs": [
    {
     "data": {
      "text/plain": [
       "[[25, 1],\n",
       " [25, 1],\n",
       " [25, 1],\n",
       " [25, 1],\n",
       " [782, 1],\n",
       " [782, 1],\n",
       " [207, 20],\n",
       " [207, 20],\n",
       " [207, 20],\n",
       " [207, 20]]"
      ]
     },
     "execution_count": 44,
     "metadata": {},
     "output_type": "execute_result"
    }
   ],
   "source": [
    "eng_tokenizer = Tokenizer(char_level=False, filters = '')   # 문자 단위로 Tokenizer를 생성합니다. \n",
    "eng_tokenizer.fit_on_texts(line2)               # 50000개의 행을 가진 eng의 각 행에 토큰화를 수행\n",
    "input_text = eng_tokenizer.texts_to_sequences(line2)    # 단어를 숫자값 인덱스로 변환하여 저장\n",
    "input_text[:10]"
   ]
  },
  {
   "cell_type": "code",
   "execution_count": 45,
   "id": "da42735f",
   "metadata": {},
   "outputs": [
    {
     "data": {
      "text/plain": [
       "[[1, 70, 7, 2],\n",
       " [1, 384, 3, 2],\n",
       " [1, 26, 541, 7, 2],\n",
       " [1, 754, 7, 2],\n",
       " [1, 789, 7, 2],\n",
       " [1, 789, 3, 2],\n",
       " [1, 694, 7, 2],\n",
       " [1, 1953, 7, 2],\n",
       " [1, 194, 282, 1097, 282, 2727, 7, 2],\n",
       " [1, 1541, 7, 2]]"
      ]
     },
     "execution_count": 45,
     "metadata": {},
     "output_type": "execute_result"
    }
   ],
   "source": [
    "fra_tokenizer = Tokenizer(char_level=False, filters = '')  #char_level=False, # 문자 단위로 Tokenizer를 생성합니다. \n",
    "fra_tokenizer.fit_on_texts(line)                 # 50000개의 행을 가진 fra의 각 행에 토큰화를 수행\n",
    "target_text = fra_tokenizer.texts_to_sequences(line)     # 단어를 숫자값 인덱스로 변환하여 저장\n",
    "target_text[:10]"
   ]
  },
  {
   "cell_type": "code",
   "execution_count": 46,
   "id": "390e8036",
   "metadata": {
    "scrolled": true
   },
   "outputs": [
    {
     "name": "stdout",
     "output_type": "stream",
     "text": [
      "영어 단어장의 크기 : 4771\n",
      "프랑스어 단어장의 크기 : 7972\n"
     ]
    }
   ],
   "source": [
    "eng_vocab_size = len(eng_tokenizer.word_index) + 1\n",
    "fra_vocab_size = len(fra_tokenizer.word_index) + 1\n",
    "print('영어 단어장의 크기 :', eng_vocab_size)\n",
    "print('프랑스어 단어장의 크기 :', fra_vocab_size)"
   ]
  },
  {
   "cell_type": "code",
   "execution_count": 47,
   "id": "b463901e",
   "metadata": {},
   "outputs": [],
   "source": [
    "# 훈련 후 결과 비교할때 사용\n",
    "src_to_index= eng_tokenizer.word_index\n",
    "index_to_src= eng_tokenizer.index_word\n",
    "# 훈련 후 예측 과정에서 사용\n",
    "# 훈련 후 결과 비교할 때 사용\n",
    "tar_to_index= fra_tokenizer.word_index\n",
    "index_to_tar= fra_tokenizer.index_word\n"
   ]
  },
  {
   "cell_type": "code",
   "execution_count": 48,
   "id": "5215b7af",
   "metadata": {},
   "outputs": [
    {
     "name": "stdout",
     "output_type": "stream",
     "text": [
      "영어 시퀀스의 최대 길이 8\n",
      "프랑스어 시퀀스의 최대 길이 16\n"
     ]
    }
   ],
   "source": [
    "max_eng_seq_len = max([len(line2) for line2 in input_text])\n",
    "max_fra_seq_len = max([len(line) for line in target_text])\n",
    "print('영어 시퀀스의 최대 길이', max_eng_seq_len)\n",
    "print('프랑스어 시퀀스의 최대 길이', max_fra_seq_len)"
   ]
  },
  {
   "cell_type": "markdown",
   "id": "4d56c2fa",
   "metadata": {},
   "source": [
    "## 디코더의 문장에 시작 토큰과 종료 토큰을 넣고, 종료 토큰, 시작 토큰 제거"
   ]
  },
  {
   "cell_type": "code",
   "execution_count": 49,
   "id": "93375554",
   "metadata": {},
   "outputs": [],
   "source": [
    "encoder_input = input_text\n",
    "# 종료 토큰 제거\n",
    "decoder_input = [[ char for char in line if char != fra_tokenizer.word_index['<eos>'] ] for line in target_text] \n",
    "# 시작 토큰 제거\n",
    "decoder_target = [[ char for char in line if char != fra_tokenizer.word_index['<sos>'] ] for line in target_text]"
   ]
  },
  {
   "cell_type": "code",
   "execution_count": 50,
   "id": "3c92bcd7",
   "metadata": {
    "scrolled": true
   },
   "outputs": [
    {
     "name": "stdout",
     "output_type": "stream",
     "text": [
      "[[25, 1], [25, 1], [25, 1]]\n",
      "[[1, 70, 7], [1, 384, 3], [1, 26, 541, 7]]\n",
      "[[70, 7, 2], [384, 3, 2], [26, 541, 7, 2]]\n"
     ]
    }
   ],
   "source": [
    "print(encoder_input[:3])\n",
    "print(decoder_input[:3])\n",
    "print(decoder_target[:3])"
   ]
  },
  {
   "cell_type": "code",
   "execution_count": 51,
   "id": "81487bf4",
   "metadata": {},
   "outputs": [
    {
     "name": "stdout",
     "output_type": "stream",
     "text": [
      "영어 데이터의 크기(shape) : (33000, 8)\n",
      "프랑스어 입력데이터의 크기(shape) : (33000, 16)\n",
      "프랑스어 출력데이터의 크기(shape) : (33000, 16)\n"
     ]
    }
   ],
   "source": [
    "encoder_input = pad_sequences(encoder_input, maxlen = max_eng_seq_len, padding='post')\n",
    "decoder_input = pad_sequences(decoder_input, maxlen = max_fra_seq_len, padding='post')\n",
    "decoder_target = pad_sequences(decoder_target, maxlen = max_fra_seq_len, padding='post')\n",
    "print('영어 데이터의 크기(shape) :',np.shape(encoder_input))\n",
    "print('프랑스어 입력데이터의 크기(shape) :',np.shape(decoder_input))\n",
    "print('프랑스어 출력데이터의 크기(shape) :',np.shape(decoder_target))"
   ]
  },
  {
   "cell_type": "code",
   "execution_count": 52,
   "id": "cd3aa182",
   "metadata": {},
   "outputs": [
    {
     "name": "stdout",
     "output_type": "stream",
     "text": [
      "[25  1  0  0  0  0  0  0]\n"
     ]
    }
   ],
   "source": [
    "print(encoder_input[0])"
   ]
  },
  {
   "cell_type": "code",
   "execution_count": 71,
   "id": "b8bb7cea",
   "metadata": {
    "scrolled": true
   },
   "outputs": [
    {
     "data": {
      "text/plain": [
       "array([ 80,   4,  45, 944,   1,   0,   0,   0], dtype=int32)"
      ]
     },
     "execution_count": 71,
     "metadata": {},
     "output_type": "execute_result"
    }
   ],
   "source": [
    "encoder_input[0]"
   ]
  },
  {
   "cell_type": "markdown",
   "id": "abe04ecd",
   "metadata": {},
   "source": [
    "셔플을 줘서 섞었다."
   ]
  },
  {
   "cell_type": "code",
   "execution_count": 54,
   "id": "9ce0f391",
   "metadata": {},
   "outputs": [
    {
     "name": "stdout",
     "output_type": "stream",
     "text": [
      "[25637  7082 10396 ... 25940 27460 26414]\n"
     ]
    }
   ],
   "source": [
    "import numpy as np\n",
    "indices = np.arange(encoder_input.shape[0])\n",
    "np.random.shuffle(indices)\n",
    "print(indices)"
   ]
  },
  {
   "cell_type": "code",
   "execution_count": 55,
   "id": "390b21da",
   "metadata": {},
   "outputs": [],
   "source": [
    "encoder_input = encoder_input[indices]\n",
    "decoder_input = decoder_input[indices]\n",
    "decoder_target = decoder_target[indices]"
   ]
  },
  {
   "cell_type": "code",
   "execution_count": 56,
   "id": "54c86eeb",
   "metadata": {
    "scrolled": false
   },
   "outputs": [
    {
     "name": "stdout",
     "output_type": "stream",
     "text": [
      "훈련 source 데이터의 크기 : (30000, 8)\n",
      "훈련 target 데이터의 크기 : (30000, 16)\n",
      "훈련 target 레이블의 크기 : (30000, 16)\n",
      "테스트 source 데이터의 크기 : (3000, 8)\n",
      "테스트 target 데이터의 크기 : (3000, 16)\n",
      "테스트 target 레이블의 크기 : (3000, 16)\n"
     ]
    }
   ],
   "source": [
    "n_of_val = 3000\n",
    "\n",
    "encoder_input_train = encoder_input[:-n_of_val]\n",
    "decoder_input_train = decoder_input[:-n_of_val]\n",
    "decoder_target_train = decoder_target[:-n_of_val]\n",
    "\n",
    "encoder_input_test = encoder_input[-n_of_val:]\n",
    "decoder_input_test = decoder_input[-n_of_val:]\n",
    "decoder_target_test = decoder_target[-n_of_val:]\n",
    "\n",
    "print('훈련 source 데이터의 크기 :',encoder_input_train.shape)\n",
    "print('훈련 target 데이터의 크기 :',decoder_input_train.shape)\n",
    "print('훈련 target 레이블의 크기 :',decoder_target_train.shape)\n",
    "print('테스트 source 데이터의 크기 :',encoder_input_test.shape)\n",
    "print('테스트 target 데이터의 크기 :',decoder_input_test.shape)\n",
    "print('테스트 target 레이블의 크기 :',decoder_target_test.shape)"
   ]
  },
  {
   "cell_type": "markdown",
   "id": "84c8d564",
   "metadata": {},
   "source": [
    "## 임베딩 층(Embedding layer) 사용하기"
   ]
  },
  {
   "cell_type": "code",
   "execution_count": 57,
   "id": "40352325",
   "metadata": {},
   "outputs": [],
   "source": [
    "from tensorflow.keras.layers import Input, LSTM, Embedding, Dense, Masking\n",
    "from tensorflow.keras.models import Model"
   ]
  },
  {
   "cell_type": "code",
   "execution_count": 58,
   "id": "39f32448",
   "metadata": {},
   "outputs": [],
   "source": [
    "latent_dim = 64"
   ]
  },
  {
   "cell_type": "code",
   "execution_count": 59,
   "id": "e7e0b701",
   "metadata": {},
   "outputs": [],
   "source": [
    "# 인코더\n",
    "# 입력 텐서 생성.\n",
    "encoder_inputs = Input(shape=(None,))\n",
    "# hidden size가 256인 인코더의 LSTM 셀 생성\n",
    "encoder_emb = Embedding(eng_vocab_size, latent_dim)(encoder_inputs)\n",
    "encoder_masking =Masking(mask_value=0.0)(encoder_emb)\n",
    "encoder_lstm = LSTM(latent_dim, return_state = True)\n",
    "# 디코더로 전달할 hidden state, cell state를 리턴. encoder_outputs은 여기서는 불필요.\n",
    "encoder_outputs, state_h, state_c = encoder_lstm(encoder_masking)\n",
    "# hidden state와 cell state를 다음 time step으로 전달하기 위해서 별도 저장.\n",
    "encoder_states = [state_h, state_c]"
   ]
  },
  {
   "cell_type": "code",
   "execution_count": 60,
   "id": "5962a7b8",
   "metadata": {},
   "outputs": [],
   "source": [
    "# 디코더\n",
    "# 입력 텐서 생성.\n",
    "decoder_inputs = Input(shape=(None,))\n",
    "# hidden size가 256인 인코더의 LSTM 셀 생성\n",
    "decoder_emb_layer = Embedding(fra_vocab_size, latent_dim)\n",
    "decoder_emb = decoder_emb_layer(decoder_inputs)\n",
    "decoder_masking =Masking(mask_value=0.0)(decoder_emb)\n",
    "\n",
    "decoder_lstm = LSTM(latent_dim, return_sequences = True, return_state=True)\n",
    "# decoder_outputs는 모든 time step의 hidden state\n",
    "decoder_outputs, _, _= decoder_lstm(decoder_masking, initial_state = encoder_states)"
   ]
  },
  {
   "cell_type": "code",
   "execution_count": 61,
   "id": "9c88d9c4",
   "metadata": {},
   "outputs": [],
   "source": [
    "decoder_softmax_layer = Dense(fra_vocab_size, activation='softmax')\n",
    "decoder_outputs = decoder_softmax_layer(decoder_outputs)"
   ]
  },
  {
   "cell_type": "markdown",
   "id": "59e482c8",
   "metadata": {},
   "source": [
    "## 모델 구현"
   ]
  },
  {
   "cell_type": "code",
   "execution_count": 62,
   "id": "c14551e6",
   "metadata": {},
   "outputs": [
    {
     "name": "stdout",
     "output_type": "stream",
     "text": [
      "Model: \"model_3\"\n",
      "__________________________________________________________________________________________________\n",
      "Layer (type)                    Output Shape         Param #     Connected to                     \n",
      "==================================================================================================\n",
      "input_5 (InputLayer)            [(None, None)]       0                                            \n",
      "__________________________________________________________________________________________________\n",
      "input_6 (InputLayer)            [(None, None)]       0                                            \n",
      "__________________________________________________________________________________________________\n",
      "embedding_2 (Embedding)         (None, None, 64)     305344      input_5[0][0]                    \n",
      "__________________________________________________________________________________________________\n",
      "embedding_3 (Embedding)         (None, None, 64)     510208      input_6[0][0]                    \n",
      "__________________________________________________________________________________________________\n",
      "masking_2 (Masking)             (None, None, 64)     0           embedding_2[0][0]                \n",
      "__________________________________________________________________________________________________\n",
      "masking_3 (Masking)             (None, None, 64)     0           embedding_3[0][0]                \n",
      "__________________________________________________________________________________________________\n",
      "lstm_2 (LSTM)                   [(None, 64), (None,  33024       masking_2[0][0]                  \n",
      "__________________________________________________________________________________________________\n",
      "lstm_3 (LSTM)                   [(None, None, 64), ( 33024       masking_3[0][0]                  \n",
      "                                                                 lstm_2[0][1]                     \n",
      "                                                                 lstm_2[0][2]                     \n",
      "__________________________________________________________________________________________________\n",
      "dense_1 (Dense)                 (None, None, 7972)   518180      lstm_3[0][0]                     \n",
      "==================================================================================================\n",
      "Total params: 1,399,780\n",
      "Trainable params: 1,399,780\n",
      "Non-trainable params: 0\n",
      "__________________________________________________________________________________________________\n"
     ]
    }
   ],
   "source": [
    "model = Model([encoder_inputs, decoder_inputs], decoder_outputs)\n",
    "model.compile(optimizer=\"rmsprop\", loss=\"sparse_categorical_crossentropy\", metrics=['acc'])\n",
    "model.summary()"
   ]
  },
  {
   "cell_type": "code",
   "execution_count": 63,
   "id": "8e441842",
   "metadata": {
    "scrolled": true
   },
   "outputs": [
    {
     "name": "stdout",
     "output_type": "stream",
     "text": [
      "Epoch 1/50\n",
      "235/235 [==============================] - 14s 35ms/step - loss: 2.7631 - acc: 0.6482 - val_loss: 1.7784 - val_acc: 0.7409\n",
      "Epoch 2/50\n",
      "235/235 [==============================] - 6s 25ms/step - loss: 1.6406 - acc: 0.7490 - val_loss: 1.5855 - val_acc: 0.7548\n",
      "Epoch 3/50\n",
      "235/235 [==============================] - 6s 26ms/step - loss: 1.5078 - acc: 0.7609 - val_loss: 1.4815 - val_acc: 0.7676\n",
      "Epoch 4/50\n",
      "235/235 [==============================] - 6s 26ms/step - loss: 1.3956 - acc: 0.7787 - val_loss: 1.3853 - val_acc: 0.7861\n",
      "Epoch 5/50\n",
      "235/235 [==============================] - 6s 26ms/step - loss: 1.3048 - acc: 0.7925 - val_loss: 1.3151 - val_acc: 0.7960\n",
      "Epoch 6/50\n",
      "235/235 [==============================] - 6s 25ms/step - loss: 1.2379 - acc: 0.8027 - val_loss: 1.2647 - val_acc: 0.8040\n",
      "Epoch 7/50\n",
      "235/235 [==============================] - 6s 25ms/step - loss: 1.1867 - acc: 0.8099 - val_loss: 1.2179 - val_acc: 0.8100\n",
      "Epoch 8/50\n",
      "235/235 [==============================] - 6s 25ms/step - loss: 1.1446 - acc: 0.8150 - val_loss: 1.1878 - val_acc: 0.8152\n",
      "Epoch 9/50\n",
      "235/235 [==============================] - 6s 26ms/step - loss: 1.1079 - acc: 0.8203 - val_loss: 1.1577 - val_acc: 0.8186\n",
      "Epoch 10/50\n",
      "235/235 [==============================] - 6s 26ms/step - loss: 1.0749 - acc: 0.8244 - val_loss: 1.1313 - val_acc: 0.8216\n",
      "Epoch 11/50\n",
      "235/235 [==============================] - 6s 25ms/step - loss: 1.0449 - acc: 0.8280 - val_loss: 1.1101 - val_acc: 0.8244\n",
      "Epoch 12/50\n",
      "235/235 [==============================] - 6s 25ms/step - loss: 1.0175 - acc: 0.8315 - val_loss: 1.0923 - val_acc: 0.8278\n",
      "Epoch 13/50\n",
      "235/235 [==============================] - 6s 26ms/step - loss: 0.9919 - acc: 0.8349 - val_loss: 1.0667 - val_acc: 0.8307\n",
      "Epoch 14/50\n",
      "235/235 [==============================] - 6s 25ms/step - loss: 0.9669 - acc: 0.8378 - val_loss: 1.0554 - val_acc: 0.8334\n",
      "Epoch 15/50\n",
      "235/235 [==============================] - 6s 25ms/step - loss: 0.9441 - acc: 0.8405 - val_loss: 1.0402 - val_acc: 0.8353\n",
      "Epoch 16/50\n",
      "235/235 [==============================] - 6s 25ms/step - loss: 0.9233 - acc: 0.8428 - val_loss: 1.0304 - val_acc: 0.8357\n",
      "Epoch 17/50\n",
      "235/235 [==============================] - 6s 25ms/step - loss: 0.9037 - acc: 0.8451 - val_loss: 1.0082 - val_acc: 0.8371\n",
      "Epoch 18/50\n",
      "235/235 [==============================] - 6s 25ms/step - loss: 0.8854 - acc: 0.8476 - val_loss: 0.9939 - val_acc: 0.8406\n",
      "Epoch 19/50\n",
      "235/235 [==============================] - 6s 26ms/step - loss: 0.8679 - acc: 0.8502 - val_loss: 0.9794 - val_acc: 0.8416\n",
      "Epoch 20/50\n",
      "235/235 [==============================] - 6s 25ms/step - loss: 0.8515 - acc: 0.8526 - val_loss: 0.9701 - val_acc: 0.8431\n",
      "Epoch 21/50\n",
      "235/235 [==============================] - 6s 25ms/step - loss: 0.8360 - acc: 0.8549 - val_loss: 0.9655 - val_acc: 0.8428\n",
      "Epoch 22/50\n",
      "235/235 [==============================] - 6s 25ms/step - loss: 0.8212 - acc: 0.8572 - val_loss: 0.9524 - val_acc: 0.8454\n",
      "Epoch 23/50\n",
      "235/235 [==============================] - 6s 25ms/step - loss: 0.8073 - acc: 0.8592 - val_loss: 0.9477 - val_acc: 0.8450\n",
      "Epoch 24/50\n",
      "235/235 [==============================] - 6s 25ms/step - loss: 0.7938 - acc: 0.8616 - val_loss: 0.9447 - val_acc: 0.8464\n",
      "Epoch 25/50\n",
      "235/235 [==============================] - 6s 25ms/step - loss: 0.7808 - acc: 0.8635 - val_loss: 0.9290 - val_acc: 0.8488\n",
      "Epoch 26/50\n",
      "235/235 [==============================] - 6s 25ms/step - loss: 0.7680 - acc: 0.8655 - val_loss: 0.9238 - val_acc: 0.8494\n",
      "Epoch 27/50\n",
      "235/235 [==============================] - 6s 25ms/step - loss: 0.7550 - acc: 0.8676 - val_loss: 0.9140 - val_acc: 0.8501\n",
      "Epoch 28/50\n",
      "235/235 [==============================] - 6s 25ms/step - loss: 0.7418 - acc: 0.8695 - val_loss: 0.9040 - val_acc: 0.8520\n",
      "Epoch 29/50\n",
      "235/235 [==============================] - 6s 26ms/step - loss: 0.7295 - acc: 0.8717 - val_loss: 0.9013 - val_acc: 0.8530\n",
      "Epoch 30/50\n",
      "235/235 [==============================] - 6s 25ms/step - loss: 0.7182 - acc: 0.8736 - val_loss: 0.8929 - val_acc: 0.8533\n",
      "Epoch 31/50\n",
      "235/235 [==============================] - 6s 25ms/step - loss: 0.7076 - acc: 0.8752 - val_loss: 0.8863 - val_acc: 0.8551\n",
      "Epoch 32/50\n",
      "235/235 [==============================] - 6s 25ms/step - loss: 0.6972 - acc: 0.8772 - val_loss: 0.8877 - val_acc: 0.8545\n",
      "Epoch 33/50\n",
      "235/235 [==============================] - 6s 25ms/step - loss: 0.6876 - acc: 0.8789 - val_loss: 0.8792 - val_acc: 0.8556\n",
      "Epoch 34/50\n",
      "235/235 [==============================] - 6s 25ms/step - loss: 0.6783 - acc: 0.8805 - val_loss: 0.8794 - val_acc: 0.8558\n",
      "Epoch 35/50\n",
      "235/235 [==============================] - 6s 26ms/step - loss: 0.6692 - acc: 0.8822 - val_loss: 0.8709 - val_acc: 0.8578\n",
      "Epoch 36/50\n",
      "235/235 [==============================] - 6s 25ms/step - loss: 0.6607 - acc: 0.8837 - val_loss: 0.8668 - val_acc: 0.8586\n",
      "Epoch 37/50\n",
      "235/235 [==============================] - 6s 25ms/step - loss: 0.6528 - acc: 0.8851 - val_loss: 0.8650 - val_acc: 0.8592\n",
      "Epoch 38/50\n",
      "235/235 [==============================] - 6s 25ms/step - loss: 0.6452 - acc: 0.8866 - val_loss: 0.8650 - val_acc: 0.8595\n",
      "Epoch 39/50\n",
      "235/235 [==============================] - 6s 26ms/step - loss: 0.6377 - acc: 0.8882 - val_loss: 0.8587 - val_acc: 0.8609\n",
      "Epoch 40/50\n",
      "235/235 [==============================] - 6s 25ms/step - loss: 0.6303 - acc: 0.8896 - val_loss: 0.8554 - val_acc: 0.8613\n",
      "Epoch 41/50\n",
      "235/235 [==============================] - 6s 25ms/step - loss: 0.6232 - acc: 0.8910 - val_loss: 0.8534 - val_acc: 0.8616\n",
      "Epoch 42/50\n",
      "235/235 [==============================] - 6s 25ms/step - loss: 0.6161 - acc: 0.8921 - val_loss: 0.8565 - val_acc: 0.8614\n",
      "Epoch 43/50\n",
      "235/235 [==============================] - 6s 25ms/step - loss: 0.6096 - acc: 0.8936 - val_loss: 0.8522 - val_acc: 0.8620\n",
      "Epoch 44/50\n",
      "235/235 [==============================] - 6s 25ms/step - loss: 0.6029 - acc: 0.8947 - val_loss: 0.8470 - val_acc: 0.8628\n",
      "Epoch 45/50\n",
      "235/235 [==============================] - 6s 25ms/step - loss: 0.5962 - acc: 0.8961 - val_loss: 0.8464 - val_acc: 0.8631\n",
      "Epoch 46/50\n",
      "235/235 [==============================] - 6s 25ms/step - loss: 0.5898 - acc: 0.8974 - val_loss: 0.8463 - val_acc: 0.8625\n",
      "Epoch 47/50\n",
      "235/235 [==============================] - 6s 25ms/step - loss: 0.5838 - acc: 0.8984 - val_loss: 0.8441 - val_acc: 0.8633\n",
      "Epoch 48/50\n",
      "235/235 [==============================] - 6s 25ms/step - loss: 0.5778 - acc: 0.8993 - val_loss: 0.8400 - val_acc: 0.8642\n",
      "Epoch 49/50\n",
      "235/235 [==============================] - 6s 26ms/step - loss: 0.5717 - acc: 0.9005 - val_loss: 0.8449 - val_acc: 0.8635\n",
      "Epoch 50/50\n",
      "235/235 [==============================] - 6s 25ms/step - loss: 0.5658 - acc: 0.9016 - val_loss: 0.8380 - val_acc: 0.8645\n"
     ]
    }
   ],
   "source": [
    "history = model.fit(x=[encoder_input_train, decoder_input_train], y=decoder_target_train, \\\n",
    "          validation_data = ([encoder_input_test, decoder_input_test], decoder_target_test),\n",
    "          batch_size=128, epochs=50)"
   ]
  },
  {
   "cell_type": "code",
   "execution_count": 64,
   "id": "0452b0e3",
   "metadata": {},
   "outputs": [
    {
     "data": {
      "image/png": "[encoded data removed]",
      "text/plain": [
       "<Figure size 432x288 with 1 Axes>"
      ]
     },
     "metadata": {
      "needs_background": "light"
     },
     "output_type": "display_data"
    },
    {
     "data": {
      "image/png": "[encoded data removed]",
      "text/plain": [
       "<Figure size 432x288 with 1 Axes>"
      ]
     },
     "metadata": {
      "needs_background": "light"
     },
     "output_type": "display_data"
    }
   ],
   "source": [
    "import matplotlib.pyplot as plt\n",
    "\n",
    "history_df = pd.DataFrame(history.history)\n",
    "history_df['loss'].plot()\n",
    "history_df['val_loss'].plot()\n",
    "plt.legend()\n",
    "plt.show()\n",
    "\n",
    "\n",
    "history_df = pd.DataFrame(history.history)\n",
    "history_df['acc'].plot()\n",
    "history_df['val_acc'].plot()\n",
    "plt.legend()\n",
    "plt.show()"
   ]
  },
  {
   "cell_type": "markdown",
   "id": "3ddb5978",
   "metadata": {},
   "source": [
    "## 모델 평가하기"
   ]
  },
  {
   "cell_type": "code",
   "execution_count": 65,
   "id": "dbce0e3b",
   "metadata": {},
   "outputs": [],
   "source": [
    "# 인코더\n",
    "encoder_model = Model(encoder_inputs, encoder_states)\n",
    "# 디코더\n",
    "decoder_state_input_h = Input(shape=(latent_dim,))\n",
    "decoder_state_input_c = Input(shape=(latent_dim,))\n",
    "decoder_state_inputs = [decoder_state_input_h,decoder_state_input_c]\n",
    "\n",
    "dec_emb2 = decoder_emb_layer(decoder_inputs)\n",
    "\n",
    "decoder_outputs2, state_h2, state_c2 = decoder_lstm(dec_emb2, initial_state= decoder_state_inputs)\n",
    "decoder_states2 = [state_h2, state_c2]\n",
    "\n",
    "decoder_outputs2 = decoder_softmax_layer(decoder_outputs2)"
   ]
  },
  {
   "cell_type": "code",
   "execution_count": 66,
   "id": "c6cf9d18",
   "metadata": {},
   "outputs": [],
   "source": [
    "# 디코더 정의\n",
    "decoder_model = Model([decoder_inputs]+decoder_state_inputs,[decoder_outputs2]+decoder_states2)"
   ]
  },
  {
   "cell_type": "code",
   "execution_count": 67,
   "id": "41bcd952",
   "metadata": {},
   "outputs": [],
   "source": [
    "def decode_sequence(input_seq):\n",
    "    # 입력으로부터 인코더의 상태를 얻음\n",
    "    states_value = encoder_model.predict(input_seq)\n",
    "\n",
    "    # <sos>에 해당하는 원-핫 벡터 생성\n",
    "    target_seq = np.zeros((1,1)) \n",
    "    target_seq[0, 0] = tar_to_index['<sos>']\n",
    "    \n",
    "    stop_condition = False\n",
    "    decoded_sentence = \"\"\n",
    "\n",
    "    # stop_condition이 True가 될 때까지 루프 반복\n",
    "    while not stop_condition:\n",
    "        # 이점 시점의 상태 states_value를 현 시점의 초기 상태로 사용\n",
    "        output_tokens, h, c = decoder_model.predict([target_seq] + states_value)\n",
    "\n",
    "        # 예측 결과를 문자로 변환\n",
    "        sampled_token_index = np.argmax(output_tokens[0, -1, :])\n",
    "        sampled_char = index_to_tar[sampled_token_index]\n",
    "\n",
    "        # 현재 시점의 예측 문자를 예측 문장에 추가\n",
    "        decoded_sentence += ' '+sampled_char\n",
    "\n",
    "        # <eos>에 도달하거나 최대 길이를 넘으면 중단.\n",
    "        if (sampled_char == '<eos>' or\n",
    "           len(decoded_sentence) > max_fra_seq_len):\n",
    "            stop_condition = True\n",
    "\n",
    "        # 현재 시점의 예측 결과를 다음 시점의 입력으로 사용하기 위해 저장     \n",
    "        target_seq = np.zeros((1, 1))\n",
    "        target_seq[0, 0] = sampled_token_index\n",
    "\n",
    "        # 현재 시점의 상태를 다음 시점의 상태로 사용하기 위해 저장\n",
    "        states_value = [h, c]\n",
    "\n",
    "    return decoded_sentence"
   ]
  },
  {
   "cell_type": "code",
   "execution_count": 68,
   "id": "b31c3caa",
   "metadata": {},
   "outputs": [],
   "source": [
    "# 원문의 정수 시퀀스를 텍스트 시퀀스로 변환\n",
    "def seq2src(input_seq):\n",
    "    temp=''\n",
    "    for i in input_seq:\n",
    "        if(i!=0):\n",
    "            temp=temp+index_to_src[i]+ ' '\n",
    "    return temp\n",
    "# 변역문의 정수 시퀀스를 텍스트 시퀀스로 변환\n",
    "def seq2tar(input_seq):\n",
    "    temp=''\n",
    "    for i in input_seq:\n",
    "        if((i!=0 and i != tar_to_index['<sos>']) and i != tar_to_index['<eos>']):\n",
    "            temp=temp+index_to_tar[i]+ ' '\n",
    "    return temp"
   ]
  },
  {
   "cell_type": "code",
   "execution_count": 69,
   "id": "eb0fdb9e",
   "metadata": {},
   "outputs": [
    {
     "name": "stdout",
     "output_type": "stream",
     "text": [
      "-----------------------------------\n",
      "입력 문장: please try again . \n",
      "정답 문장: veuillez essayer de nouveau . \n",
      "번역기가 번역한 문장:  essaie de ce no\n",
      "-----------------------------------\n",
      "입력 문장: ghosts exist . \n",
      "정답 문장: les fant mes existent . \n",
      "번역기가 번역한 문장:  les enfant . \n",
      "-----------------------------------\n",
      "입력 문장: fry an egg for me . \n",
      "정답 문장: cuis moi un uf . \n",
      "번역기가 번역한 문장:  laissez moi un \n",
      "-----------------------------------\n",
      "입력 문장: go away . \n",
      "정답 문장: disparais ! \n",
      "번역기가 번역한 문장:  d gage ! \n",
      "-----------------------------------\n",
      "입력 문장: it's instinct . \n",
      "정답 문장: c'est l'instinct . \n",
      "번역기가 번역한 문장:  c'est conti\n"
     ]
    }
   ],
   "source": [
    "import numpy as np\n",
    "for seq_index in  [3,50,100,300,1001]: # 입력 문장의 인덱스 (자유롭게 선택해 보세요)\n",
    "    input_seq = encoder_input_train[seq_index: seq_index + 1]\n",
    "    decoded_sentence = decode_sequence(input_seq)\n",
    "    print(35 * \"-\")\n",
    "    print('입력 문장:', seq2src(encoder_input_train[seq_index]))\n",
    "    print('정답 문장:', seq2tar(decoder_input_train[seq_index]))\n",
    "    print('번역기가 번역한 문장:', decoded_sentence[:-5])"
   ]
  },
  {
   "cell_type": "code",
   "execution_count": 70,
   "id": "0a5d8418",
   "metadata": {
    "scrolled": false
   },
   "outputs": [
    {
     "name": "stdout",
     "output_type": "stream",
     "text": [
      "-----------------------------------\n",
      "입력 문장: tell us more . \n",
      "정답 문장: dis nous en plus . \n",
      "번역기가 번역한 문장:  dites nous en\n",
      "-----------------------------------\n",
      "입력 문장: get out of my bed . \n",
      "정답 문장: d gage de mon lit ! \n",
      "번역기가 번역한 문장:  sortez de mo\n",
      "-----------------------------------\n",
      "입력 문장: she is prudish . \n",
      "정답 문장: elle est prude . \n",
      "번역기가 번역한 문장:  elle est en \n",
      "-----------------------------------\n",
      "입력 문장: i miss my wife . \n",
      "정답 문장: ma femme me manque . \n",
      "번역기가 번역한 문장:  ma femme me m\n",
      "-----------------------------------\n",
      "입력 문장: i didn't buy them . \n",
      "정답 문장: je n'ai pas proc d leur acquisition . \n",
      "번역기가 번역한 문장:  je ne les a\n"
     ]
    }
   ],
   "source": [
    "for seq_index in  [1, 250, 431, 105,322]: # 입력 문장의 인덱스 (자유롭게 선택해 보세요)\n",
    "    input_seq = encoder_input_test[seq_index: seq_index + 1]\n",
    "    decoded_sentence = decode_sequence(input_seq)\n",
    "    print(35 * \"-\")\n",
    "    print('입력 문장:', seq2src(encoder_input_test[seq_index]))\n",
    "    print('정답 문장:', seq2tar(decoder_input_test[seq_index]))\n",
    "    print('번역기가 번역한 문장:', decoded_sentence[:-5])"
   ]
  },
  {
   "cell_type": "markdown",
   "id": "a89c2be6",
   "metadata": {},
   "source": [
    "-----------------------------------\n",
    "입력 문장: tell us more . -> 자세히 말해 주세요.\n",
    "\n",
    "정답 문장: dis nous en plus . -> 자세히 말해 주세요.\n",
    "\n",
    "번역기가 번역한 문장:  dites nous en -> 얘기해 주세요.\n",
    "\n",
    "-----------------------------------\n",
    "입력 문장: get out of my bed . -> 내 침대에서 일어나다\n",
    "\n",
    "정답 문장: d gage de mon lit ! -> 내 침대에서 일어나다\n",
    "\n",
    "번역기가 번역한 문장:  sortez de mo -> 탈피하다\n",
    "\n",
    "-----------------------------------\n",
    "입력 문장: she is prudish . -> 그녀는 교활하다.\n",
    "\n",
    "정답 문장: elle est prude . -> 그녀는 교활하다.\n",
    "\n",
    "번역기가 번역한 문장:  elle est en -> 그녀는 안에있다.\n",
    "\n",
    "-----------------------------------\n",
    "입력 문장: i miss my wife . -> 내 아내가 그리워. \n",
    "\n",
    "정답 문장: ma femme me manque . -> 내 아내가 그리워.\n",
    "\n",
    "번역기가 번역한 문장:  ma femme me m -> 내 아내는 날 좋아해.\n",
    "\n",
    "-----------------------------------\n",
    "입력 문장: i didn't buy them . -> 나는 그것들을 사지 않았다.\n",
    "\n",
    "정답 문장: je n'ai pas proc d leur acquisition . -> 나는 그것들을 사지 않았다.\n",
    "\n",
    "번역기가 번역한 문장:  je ne les a -> 난 그것들이 없다."
   ]
  },
  {
   "cell_type": "markdown",
   "id": "becd3886",
   "metadata": {},
   "source": [
    "## 회고\n",
    "- 어려웠던 점 : encoder와 decoder을 구분해서 model을 구현하는게 어려웠다.\n",
    "- 알아낸 점 및 모호한 점 : 마지막 출력 시킬때, encoder_input과 decoder_input을 잘 구분해서 적어야하는 것을 알게 되었다.\n",
    "- 노력한 점 : val_loss가 우하향하는 모습을 보도록 그래프를 그렸다. shaffle을 해서 두 loss 그래프 사이의 차이가 줄어들게 했다.\n",
    "- 자기다짐 : 번역기를 또 한글로 바꾸는 점이 힘들었지만, 완성도 있는 번역기를 확인 할 수 있어서 좋았다."
   ]
  }
 ],
 "metadata": {
  "kernelspec": {
   "display_name": "Python 3 (ipykernel)",
   "language": "python",
   "name": "python3"
  },
  "language_info": {
   "codemirror_mode": {
    "name": "ipython",
    "version": 3
   },
   "file_extension": ".py",
   "mimetype": "text/x-python",
   "name": "python",
   "nbconvert_exporter": "python",
   "pygments_lexer": "ipython3",
   "version": "3.9.7"
  }
 },
 "nbformat": 4,
 "nbformat_minor": 5
}
