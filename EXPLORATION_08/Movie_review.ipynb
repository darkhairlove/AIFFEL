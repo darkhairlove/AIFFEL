{
 "cells": [
  {
   "cell_type": "code",
   "execution_count": 1,
   "id": "252123e9",
   "metadata": {},
   "outputs": [
    {
     "name": "stdout",
     "output_type": "stream",
     "text": [
      "1.3.3\n",
      "0.5.2\n",
      "4.1.2\n"
     ]
    }
   ],
   "source": [
    "import pandas\n",
    "import konlpy\n",
    "import gensim\n",
    "\n",
    "print(pandas.__version__)\n",
    "print(konlpy.__version__)\n",
    "print(gensim.__version__)"
   ]
  },
  {
   "cell_type": "markdown",
   "id": "ba77c02f",
   "metadata": {},
   "source": [
    "## 1. 데이터 준비와 확인"
   ]
  },
  {
   "cell_type": "code",
   "execution_count": 2,
   "id": "9770736e",
   "metadata": {},
   "outputs": [
    {
     "data": {
      "text/html": [
       "<div>\n",
       "<style scoped>\n",
       "    .dataframe tbody tr th:only-of-type {\n",
       "        vertical-align: middle;\n",
       "    }\n",
       "\n",
       "    .dataframe tbody tr th {\n",
       "        vertical-align: top;\n",
       "    }\n",
       "\n",
       "    .dataframe thead th {\n",
       "        text-align: right;\n",
       "    }\n",
       "</style>\n",
       "<table border=\"1\" class=\"dataframe\">\n",
       "  <thead>\n",
       "    <tr style=\"text-align: right;\">\n",
       "      <th></th>\n",
       "      <th>id</th>\n",
       "      <th>document</th>\n",
       "      <th>label</th>\n",
       "    </tr>\n",
       "  </thead>\n",
       "  <tbody>\n",
       "    <tr>\n",
       "      <th>0</th>\n",
       "      <td>9976970</td>\n",
       "      <td>아 더빙.. 진짜 짜증나네요 목소리</td>\n",
       "      <td>0</td>\n",
       "    </tr>\n",
       "    <tr>\n",
       "      <th>1</th>\n",
       "      <td>3819312</td>\n",
       "      <td>흠...포스터보고 초딩영화줄....오버연기조차 가볍지 않구나</td>\n",
       "      <td>1</td>\n",
       "    </tr>\n",
       "    <tr>\n",
       "      <th>2</th>\n",
       "      <td>10265843</td>\n",
       "      <td>너무재밓었다그래서보는것을추천한다</td>\n",
       "      <td>0</td>\n",
       "    </tr>\n",
       "    <tr>\n",
       "      <th>3</th>\n",
       "      <td>9045019</td>\n",
       "      <td>교도소 이야기구먼 ..솔직히 재미는 없다..평점 조정</td>\n",
       "      <td>0</td>\n",
       "    </tr>\n",
       "    <tr>\n",
       "      <th>4</th>\n",
       "      <td>6483659</td>\n",
       "      <td>사이몬페그의 익살스런 연기가 돋보였던 영화!스파이더맨에서 늙어보이기만 했던 커스틴 ...</td>\n",
       "      <td>1</td>\n",
       "    </tr>\n",
       "  </tbody>\n",
       "</table>\n",
       "</div>"
      ],
      "text/plain": [
       "         id                                           document  label\n",
       "0   9976970                                아 더빙.. 진짜 짜증나네요 목소리      0\n",
       "1   3819312                  흠...포스터보고 초딩영화줄....오버연기조차 가볍지 않구나      1\n",
       "2  10265843                                  너무재밓었다그래서보는것을추천한다      0\n",
       "3   9045019                      교도소 이야기구먼 ..솔직히 재미는 없다..평점 조정      0\n",
       "4   6483659  사이몬페그의 익살스런 연기가 돋보였던 영화!스파이더맨에서 늙어보이기만 했던 커스틴 ...      1"
      ]
     },
     "execution_count": 2,
     "metadata": {},
     "output_type": "execute_result"
    }
   ],
   "source": [
    "import pandas as pd\n",
    "\n",
    "# 데이터를 읽어봅시다. \n",
    "train_data = pd.read_table('~/aiffel/sentiment_classification/data/ratings_train.txt')\n",
    "test_data = pd.read_table('~/aiffel/sentiment_classification/data/ratings_test.txt')\n",
    "\n",
    "train_data.head()"
   ]
  },
  {
   "cell_type": "markdown",
   "id": "26dc21d3",
   "metadata": {},
   "source": [
    "## 2. 데이터로더 구성"
   ]
  },
  {
   "cell_type": "code",
   "execution_count": 3,
   "id": "9e1cbbb6",
   "metadata": {},
   "outputs": [],
   "source": [
    "from konlpy.tag import Mecab\n",
    "import numpy as np\n",
    "from collections import Counter\n",
    "\n",
    "tokenizer = Mecab()\n",
    "stopwords = ['의','가','이','은','들','는','좀','잘','걍','과','도','를','으로','자','에','와','한','하다']\n",
    "\n",
    "def load_data(train_data, test_data, num_words=10000):\n",
    "    train_data.drop_duplicates(subset=['document'], inplace=True)\n",
    "    train_data = train_data.dropna(how = 'any') \n",
    "    test_data.drop_duplicates(subset=['document'], inplace=True)\n",
    "    test_data = test_data.dropna(how = 'any') \n",
    "    \n",
    "    X_train = []\n",
    "    for sentence in train_data['document']:\n",
    "        temp_X = tokenizer.morphs(sentence) # 토큰화\n",
    "        temp_X = [word for word in temp_X if not word in stopwords] # 불용어 제거\n",
    "        X_train.append(temp_X)\n",
    "\n",
    "    X_test = []\n",
    "    for sentence in test_data['document']:\n",
    "        temp_X = tokenizer.morphs(sentence) # 토큰화\n",
    "        temp_X = [word for word in temp_X if not word in stopwords] # 불용어 제거\n",
    "        X_test.append(temp_X)\n",
    "    \n",
    "    words = np.concatenate(X_train).tolist()\n",
    "    counter = Counter(words)\n",
    "    counter = counter.most_common(10000-4)\n",
    "    vocab = ['<PAD>', '<BOS>', '<UNK>', '<UNUSED>'] + [key for key, _ in counter]\n",
    "    word_to_index = {word:index for index, word in enumerate(vocab)}\n",
    "        \n",
    "    def wordlist_to_indexlist(wordlist):\n",
    "        return [word_to_index[word] if word in word_to_index else word_to_index['<UNUSED>'] for word in wordlist]\n",
    "        \n",
    "    X_train = list(map(wordlist_to_indexlist, X_train))\n",
    "    X_test = list(map(wordlist_to_indexlist, X_test))\n",
    "        \n",
    "    return X_train, np.array(list(train_data['label'])), X_test, np.array(list(test_data['label'])), word_to_index\n",
    "    \n",
    "X_train, y_train, X_test, y_test, word_to_index = load_data(train_data, test_data) \n"
   ]
  },
  {
   "cell_type": "code",
   "execution_count": 4,
   "id": "15a0714c",
   "metadata": {},
   "outputs": [],
   "source": [
    "word_to_index[\"<PAD>\"] = 0\n",
    "word_to_index[\"<BOS>\"] = 1\n",
    "word_to_index[\"<UNK>\"] = 2  # unknown\n",
    "index_to_word = {index:word for word, index in word_to_index.items()}"
   ]
  },
  {
   "cell_type": "code",
   "execution_count": 5,
   "id": "622f3810",
   "metadata": {},
   "outputs": [],
   "source": [
    "# 문장 1개를 활용할 딕셔너리와 함께 주면, 단어 인덱스 리스트 벡터로 변환해 주는 함수 \n",
    "# 단, 모든 문장은 <BOS>로 시작. \n",
    "def get_encoded_sentence(sentence, word_to_index):\n",
    "    return [word_to_index['<BOS>']]+[word_to_index[word] if word in word_to_index else word_to_index['<UNK>'] for word in sentence.split()]\n",
    "\n",
    "# 여러 개의 문장 리스트를 한꺼번에 단어 인덱스 리스트 벡터로 encode해 주는 함수. \n",
    "def get_encoded_sentences(sentences, word_to_index):\n",
    "    return [get_encoded_sentence(sentence, word_to_index) for sentence in sentences]\n",
    "\n",
    "# 숫자 벡터로 encode된 문장을 원래대로 decode하는 함수. \n",
    "def get_decoded_sentence(encoded_sentence, index_to_word):\n",
    "    return ' '.join(index_to_word[index] if index in index_to_word else '<UNK>' for index in encoded_sentence[1:])  #[1:]를 통해 <BOS>를 제외\n",
    "\n",
    "# 여러 개의 숫자 벡터로 encode된 문장을 한꺼번에 원래대로 decode하는 함수. \n",
    "def get_decoded_sentences(encoded_sentences, index_to_word):\n",
    "    return [get_decoded_sentence(encoded_sentence, index_to_word) for encoded_sentence in encoded_sentences]"
   ]
  },
  {
   "cell_type": "markdown",
   "id": "034333c5",
   "metadata": {},
   "source": [
    "## 3. 모델 구성을 위한 데이터 분석 및 가공"
   ]
  },
  {
   "cell_type": "markdown",
   "id": "0d24b7be",
   "metadata": {},
   "source": [
    "- 데이터셋 내 문장 길이 분포\n",
    "- 적절한 최대 문장 길이 지정\n",
    "- keras.preprocessing.sequence.pad_sequences 을 활용한 패딩 추가\n"
   ]
  },
  {
   "cell_type": "code",
   "execution_count": 6,
   "id": "816d50cc",
   "metadata": {},
   "outputs": [
    {
     "name": "stdout",
     "output_type": "stream",
     "text": [
      "문장길이 평균 :  15.96940191154864\n",
      "문장길이 최대 :  116\n",
      "문장길이 표준편차 :  12.843571191092\n",
      "pad_sequences maxlen :  41\n",
      "전체 문장의 0.9342988343341575%가 maxlen 설정값 이내에 포함됩니다. \n"
     ]
    }
   ],
   "source": [
    "total_data_text = list(X_train) + list(X_test)\n",
    "num_tokens = [len(tokens) for tokens in total_data_text]\n",
    "num_tokens = np.array(num_tokens)\n",
    "print('문장길이 평균 : ', np.mean(num_tokens))\n",
    "print('문장길이 최대 : ', np.max(num_tokens))\n",
    "print('문장길이 표준편차 : ', np.std(num_tokens))\n",
    "max_tokens = np.mean(num_tokens) + 2 * np.std(num_tokens)\n",
    "maxlen = int(max_tokens)\n",
    "print('pad_sequences maxlen : ', maxlen)\n",
    "print('전체 문장의 {}%가 maxlen 설정값 이내에 포함됩니다. '.format(np.sum(num_tokens < max_tokens) / len(num_tokens)))"
   ]
  },
  {
   "cell_type": "code",
   "execution_count": 7,
   "id": "967b8022",
   "metadata": {},
   "outputs": [
    {
     "name": "stdout",
     "output_type": "stream",
     "text": [
      "(146182, 41)\n"
     ]
    }
   ],
   "source": [
    "import numpy as np\n",
    "import tensorflow as tf\n",
    "\n",
    "X_train = tf.keras.preprocessing.sequence.pad_sequences(X_train,\n",
    "                                                        value=word_to_index[\"<PAD>\"],\n",
    "                                                        padding='pre',\n",
    "                                                        maxlen=maxlen)\n",
    "\n",
    "X_test = tf.keras.preprocessing.sequence.pad_sequences(X_test,\n",
    "                                                       value=word_to_index[\"<PAD>\"],\n",
    "                                                       padding='pre', \n",
    "                                                       maxlen=maxlen)\n",
    "\n",
    "print(X_train.shape)"
   ]
  },
  {
   "cell_type": "markdown",
   "id": "f00ddf55",
   "metadata": {},
   "source": [
    "## 4. 모델 구성 및 validation set 구성"
   ]
  },
  {
   "cell_type": "markdown",
   "id": "e30649f3",
   "metadata": {},
   "source": [
    "### 1) LSTM 모델"
   ]
  },
  {
   "cell_type": "code",
   "execution_count": 8,
   "id": "268c86be",
   "metadata": {},
   "outputs": [
    {
     "name": "stdout",
     "output_type": "stream",
     "text": [
      "Model: \"sequential\"\n",
      "_________________________________________________________________\n",
      "Layer (type)                 Output Shape              Param #   \n",
      "=================================================================\n",
      "embedding (Embedding)        (None, None, 16)          160000    \n",
      "_________________________________________________________________\n",
      "lstm (LSTM)                  (None, 8)                 800       \n",
      "_________________________________________________________________\n",
      "dense (Dense)                (None, 8)                 72        \n",
      "_________________________________________________________________\n",
      "dense_1 (Dense)              (None, 1)                 9         \n",
      "=================================================================\n",
      "Total params: 160,881\n",
      "Trainable params: 160,881\n",
      "Non-trainable params: 0\n",
      "_________________________________________________________________\n"
     ]
    }
   ],
   "source": [
    "vocab_size = 10000    # 어휘 사전의 크기\n",
    "word_vector_dim = 16  # 워드 벡터의 차원 수\n",
    "\n",
    "model_1 = tf.keras.Sequential()\n",
    "model_1.add(tf.keras.layers.Embedding(vocab_size, word_vector_dim, input_shape=(None,)))\n",
    "model_1.add(tf.keras.layers.LSTM(8))\n",
    "model_1.add(tf.keras.layers.Dense(8, activation='relu'))\n",
    "model_1.add(tf.keras.layers.Dense(1, activation='sigmoid'))  # 최종 출력은 긍정/부정을 나타내는 1dim \n",
    "\n",
    "model_1.summary()"
   ]
  },
  {
   "cell_type": "code",
   "execution_count": 9,
   "id": "4b1230b5",
   "metadata": {},
   "outputs": [
    {
     "name": "stdout",
     "output_type": "stream",
     "text": [
      "(45000, 41)\n",
      "(45000,)\n",
      "(101182, 41)\n",
      "(101182,)\n"
     ]
    }
   ],
   "source": [
    "# 대략 1/3로 나눠지기 위해  train set(101182), val set(45000)으로 정하였다\n",
    "X_val = X_train[:45000]   \n",
    "y_val = y_train[:45000]\n",
    "\n",
    "partial_X_train = X_train[45000:]  \n",
    "partial_y_train = y_train[45000:]\n",
    "\n",
    "print(X_val.shape)\n",
    "print(y_val.shape)\n",
    "print(partial_X_train.shape)\n",
    "print(partial_y_train.shape)"
   ]
  },
  {
   "cell_type": "code",
   "execution_count": 10,
   "id": "032e8bed",
   "metadata": {},
   "outputs": [
    {
     "name": "stdout",
     "output_type": "stream",
     "text": [
      "Epoch 1/10\n",
      "198/198 [==============================] - 5s 9ms/step - loss: 0.5401 - accuracy: 0.7277 - val_loss: 0.3765 - val_accuracy: 0.8405\n",
      "Epoch 2/10\n",
      "198/198 [==============================] - 1s 6ms/step - loss: 0.3487 - accuracy: 0.8540 - val_loss: 0.3520 - val_accuracy: 0.8485\n",
      "Epoch 3/10\n",
      "198/198 [==============================] - 1s 6ms/step - loss: 0.3210 - accuracy: 0.8683 - val_loss: 0.3603 - val_accuracy: 0.8444\n",
      "Epoch 4/10\n",
      "198/198 [==============================] - 1s 6ms/step - loss: 0.3076 - accuracy: 0.8741 - val_loss: 0.3543 - val_accuracy: 0.8486\n",
      "Epoch 5/10\n",
      "198/198 [==============================] - 1s 6ms/step - loss: 0.2968 - accuracy: 0.8789 - val_loss: 0.3591 - val_accuracy: 0.8484\n",
      "Epoch 6/10\n",
      "198/198 [==============================] - 1s 6ms/step - loss: 0.2882 - accuracy: 0.8834 - val_loss: 0.3624 - val_accuracy: 0.8469\n",
      "Epoch 7/10\n",
      "198/198 [==============================] - 1s 6ms/step - loss: 0.2805 - accuracy: 0.8879 - val_loss: 0.3647 - val_accuracy: 0.8467\n",
      "Epoch 8/10\n",
      "198/198 [==============================] - 1s 6ms/step - loss: 0.2712 - accuracy: 0.8936 - val_loss: 0.3693 - val_accuracy: 0.8474\n",
      "Epoch 9/10\n",
      "198/198 [==============================] - 1s 6ms/step - loss: 0.2625 - accuracy: 0.8972 - val_loss: 0.3766 - val_accuracy: 0.8446\n",
      "Epoch 10/10\n",
      "198/198 [==============================] - 1s 6ms/step - loss: 0.2546 - accuracy: 0.9018 - val_loss: 0.3789 - val_accuracy: 0.8456\n"
     ]
    }
   ],
   "source": [
    "model_1.compile(optimizer='adam',\n",
    "              loss='binary_crossentropy',\n",
    "              metrics=['accuracy'])\n",
    "              \n",
    "epochs=10 \n",
    "\n",
    "history = model_1.fit(partial_X_train,\n",
    "                    partial_y_train,\n",
    "                    epochs=epochs,\n",
    "                    batch_size=512,\n",
    "                    validation_data=(X_val, y_val),\n",
    "                    verbose=1)"
   ]
  },
  {
   "cell_type": "code",
   "execution_count": 11,
   "id": "dd3c43a6",
   "metadata": {},
   "outputs": [
    {
     "name": "stdout",
     "output_type": "stream",
     "text": [
      "1537/1537 - 3s - loss: 0.3897 - accuracy: 0.8400\n",
      "[0.38972318172454834, 0.8400024175643921]\n"
     ]
    }
   ],
   "source": [
    "results = model_1.evaluate(X_test,  y_test, verbose=2)\n",
    "\n",
    "print(results)"
   ]
  },
  {
   "cell_type": "code",
   "execution_count": 12,
   "id": "c060e161",
   "metadata": {},
   "outputs": [
    {
     "name": "stdout",
     "output_type": "stream",
     "text": [
      "dict_keys(['loss', 'accuracy', 'val_loss', 'val_accuracy'])\n"
     ]
    }
   ],
   "source": [
    "history_dict = history.history\n",
    "print(history_dict.keys())"
   ]
  },
  {
   "cell_type": "code",
   "execution_count": 13,
   "id": "c68a0967",
   "metadata": {},
   "outputs": [
    {
     "data": {
      "image/png": "[encoded data removed]",
      "text/plain": [
       "<Figure size 432x288 with 1 Axes>"
      ]
     },
     "metadata": {
      "needs_background": "light"
     },
     "output_type": "display_data"
    }
   ],
   "source": [
    "import matplotlib.pyplot as plt\n",
    "\n",
    "acc = history_dict['accuracy']\n",
    "val_acc = history_dict['val_accuracy']\n",
    "loss = history_dict['loss']\n",
    "val_loss = history_dict['val_loss']\n",
    "\n",
    "epochs = range(1, len(acc) + 1)\n",
    "\n",
    "# \"bo\"는 \"파란색 점\"\n",
    "plt.plot(epochs, loss, 'bo', label='Training loss')\n",
    "# b는 \"파란 실선\"\n",
    "plt.plot(epochs, val_loss, 'b', label='Validation loss')\n",
    "plt.title('Training and validation loss')\n",
    "plt.xlabel('Epochs')\n",
    "plt.ylabel('Loss')\n",
    "plt.legend()\n",
    "\n",
    "plt.show()"
   ]
  },
  {
   "cell_type": "code",
   "execution_count": 14,
   "id": "3e37b2f7",
   "metadata": {
    "scrolled": false
   },
   "outputs": [
    {
     "data": {
      "image/png": "[encoded data removed]",
      "text/plain": [
       "<Figure size 432x288 with 1 Axes>"
      ]
     },
     "metadata": {
      "needs_background": "light"
     },
     "output_type": "display_data"
    }
   ],
   "source": [
    "plt.clf()\n",
    "\n",
    "plt.plot(epochs, acc, 'bo', label='Training acc')\n",
    "plt.plot(epochs, val_acc, 'b', label='Validation acc')\n",
    "plt.title('Training and validation accuracy')\n",
    "plt.xlabel('Epochs')\n",
    "plt.ylabel('Accuracy')\n",
    "plt.legend()\n",
    "\n",
    "plt.show()"
   ]
  },
  {
   "cell_type": "markdown",
   "id": "f5e9fb99",
   "metadata": {},
   "source": [
    "## 4. 학습된 Embedding 레이어 분석"
   ]
  },
  {
   "cell_type": "code",
   "execution_count": 15,
   "id": "6c470dc8",
   "metadata": {},
   "outputs": [
    {
     "name": "stdout",
     "output_type": "stream",
     "text": [
      "(10000, 16)\n"
     ]
    }
   ],
   "source": [
    "embedding_layer = model_1.layers[0]\n",
    "weights = embedding_layer.get_weights()[0]\n",
    "print(weights.shape) "
   ]
  },
  {
   "cell_type": "code",
   "execution_count": 16,
   "id": "2d92032f",
   "metadata": {},
   "outputs": [],
   "source": [
    "import os\n",
    "\n",
    "word2vec_file_path = os.getenv('HOME')+'/aiffel/sentiment_classification/data/word2vec.txt'\n",
    "f = open(word2vec_file_path, 'w')\n",
    "f.write('{} {}\\n'.format(vocab_size-4, word_vector_dim))\n",
    "\n",
    "vectors = model_1.get_weights()[0]\n",
    "for i in range(4,vocab_size):\n",
    "    f.write('{} {}\\n'.format(index_to_word[i], ' '.join(map(str, list(vectors[i, :])))))\n",
    "f.close()"
   ]
  },
  {
   "cell_type": "code",
   "execution_count": 17,
   "id": "a400f057",
   "metadata": {},
   "outputs": [
    {
     "data": {
      "text/plain": [
       "array([ 0.18022242,  0.28261063, -0.216854  ,  0.11110672,  0.08888896,\n",
       "       -0.22014211, -0.18545398, -0.1524901 ,  0.15901783,  0.4181139 ,\n",
       "       -0.15559661,  0.15551078,  0.21464992, -0.07638977,  0.11691546,\n",
       "        0.24782524], dtype=float32)"
      ]
     },
     "execution_count": 17,
     "metadata": {},
     "output_type": "execute_result"
    }
   ],
   "source": [
    "from gensim.models.keyedvectors import Word2VecKeyedVectors\n",
    "\n",
    "word_vectors = Word2VecKeyedVectors.load_word2vec_format(word2vec_file_path, binary=False)\n",
    "vector = word_vectors['지루']\n",
    "vector"
   ]
  },
  {
   "cell_type": "code",
   "execution_count": 18,
   "id": "c56dcb22",
   "metadata": {},
   "outputs": [
    {
     "data": {
      "text/plain": [
       "[('별로', 0.9796247482299805),\n",
       " ('유치', 0.9796197414398193),\n",
       " ('.??', 0.9676722288131714),\n",
       " ('실패', 0.9665553569793701),\n",
       " ('필름', 0.9634224772453308),\n",
       " ('모를까', 0.9632226824760437),\n",
       " ('지루함', 0.9627510905265808),\n",
       " ('-;', 0.9617817997932434),\n",
       " ('개밥', 0.9611238241195679),\n",
       " ('효', 0.959922730922699)]"
      ]
     },
     "execution_count": 18,
     "metadata": {},
     "output_type": "execute_result"
    }
   ],
   "source": [
    "word_vectors.similar_by_word(\"지루\")"
   ]
  },
  {
   "cell_type": "markdown",
   "id": "df479826",
   "metadata": {},
   "source": [
    "### 2) Convolution Neural Network(1-D CNN)모델"
   ]
  },
  {
   "cell_type": "code",
   "execution_count": 19,
   "id": "a73f61d4",
   "metadata": {
    "scrolled": false
   },
   "outputs": [
    {
     "name": "stdout",
     "output_type": "stream",
     "text": [
      "Model: \"sequential_1\"\n",
      "_________________________________________________________________\n",
      "Layer (type)                 Output Shape              Param #   \n",
      "=================================================================\n",
      "embedding_1 (Embedding)      (None, None, 16)          160000    \n",
      "_________________________________________________________________\n",
      "conv1d (Conv1D)              (None, None, 16)          1808      \n",
      "_________________________________________________________________\n",
      "max_pooling1d (MaxPooling1D) (None, None, 16)          0         \n",
      "_________________________________________________________________\n",
      "conv1d_1 (Conv1D)            (None, None, 16)          1808      \n",
      "_________________________________________________________________\n",
      "global_max_pooling1d (Global (None, 16)                0         \n",
      "_________________________________________________________________\n",
      "dense_2 (Dense)              (None, 8)                 136       \n",
      "_________________________________________________________________\n",
      "dense_3 (Dense)              (None, 1)                 9         \n",
      "=================================================================\n",
      "Total params: 163,761\n",
      "Trainable params: 163,761\n",
      "Non-trainable params: 0\n",
      "_________________________________________________________________\n"
     ]
    }
   ],
   "source": [
    "vocab_size = 10000  \n",
    "word_vector_dim = 16   \n",
    "\n",
    "model_2 = tf.keras.Sequential()\n",
    "model_2.add(tf.keras.layers.Embedding(vocab_size, word_vector_dim, input_shape=(None,)))\n",
    "model_2.add(tf.keras.layers.Conv1D(16, 7, activation='relu'))\n",
    "model_2.add(tf.keras.layers.MaxPooling1D(5))\n",
    "model_2.add(tf.keras.layers.Conv1D(16, 7, activation='relu'))\n",
    "model_2.add(tf.keras.layers.GlobalMaxPooling1D())\n",
    "model_2.add(tf.keras.layers.Dense(8, activation='relu'))\n",
    "model_2.add(tf.keras.layers.Dense(1, activation='sigmoid'))\n",
    "model_2.summary()"
   ]
  },
  {
   "cell_type": "code",
   "execution_count": 20,
   "id": "0198a3f6",
   "metadata": {},
   "outputs": [
    {
     "name": "stdout",
     "output_type": "stream",
     "text": [
      "Epoch 1/10\n",
      "198/198 [==============================] - 3s 7ms/step - loss: 0.5238 - accuracy: 0.7288 - val_loss: 0.3656 - val_accuracy: 0.8402\n",
      "Epoch 2/10\n",
      "198/198 [==============================] - 1s 5ms/step - loss: 0.3370 - accuracy: 0.8570 - val_loss: 0.3487 - val_accuracy: 0.8481\n",
      "Epoch 3/10\n",
      "198/198 [==============================] - 1s 5ms/step - loss: 0.2990 - accuracy: 0.8754 - val_loss: 0.3452 - val_accuracy: 0.8490\n",
      "Epoch 4/10\n",
      "198/198 [==============================] - 1s 5ms/step - loss: 0.2711 - accuracy: 0.8905 - val_loss: 0.3475 - val_accuracy: 0.8509\n",
      "Epoch 5/10\n",
      "198/198 [==============================] - 1s 5ms/step - loss: 0.2423 - accuracy: 0.9052 - val_loss: 0.3574 - val_accuracy: 0.8497\n",
      "Epoch 6/10\n",
      "198/198 [==============================] - 1s 5ms/step - loss: 0.2104 - accuracy: 0.9208 - val_loss: 0.3779 - val_accuracy: 0.8458\n",
      "Epoch 7/10\n",
      "198/198 [==============================] - 1s 5ms/step - loss: 0.1799 - accuracy: 0.9353 - val_loss: 0.4080 - val_accuracy: 0.8422\n",
      "Epoch 8/10\n",
      "198/198 [==============================] - 1s 5ms/step - loss: 0.1503 - accuracy: 0.9490 - val_loss: 0.4362 - val_accuracy: 0.8393\n",
      "Epoch 9/10\n",
      "198/198 [==============================] - 1s 5ms/step - loss: 0.1258 - accuracy: 0.9594 - val_loss: 0.4824 - val_accuracy: 0.8329\n",
      "Epoch 10/10\n",
      "198/198 [==============================] - 1s 5ms/step - loss: 0.1077 - accuracy: 0.9665 - val_loss: 0.5162 - val_accuracy: 0.8344\n"
     ]
    }
   ],
   "source": [
    "model_2.compile(optimizer='adam',\n",
    "              loss='binary_crossentropy',\n",
    "              metrics=['accuracy'])\n",
    "              \n",
    "epochs=10  # 몇 epoch를 훈련하면 좋을지 결과를 보면서 바꾸어 봅시다. \n",
    "\n",
    "history = model_2.fit(partial_X_train,\n",
    "                    partial_y_train,\n",
    "                    epochs=epochs,\n",
    "                    batch_size=512,\n",
    "                    validation_data=(X_val, y_val),\n",
    "                    verbose=1)"
   ]
  },
  {
   "cell_type": "code",
   "execution_count": 21,
   "id": "47250985",
   "metadata": {
    "scrolled": true
   },
   "outputs": [
    {
     "name": "stdout",
     "output_type": "stream",
     "text": [
      "1537/1537 - 2s - loss: 0.5291 - accuracy: 0.8310\n",
      "[0.5290991067886353, 0.8310312032699585]\n"
     ]
    }
   ],
   "source": [
    "results = model_2.evaluate(X_test,  y_test, verbose=2)\n",
    "\n",
    "print(results)"
   ]
  },
  {
   "cell_type": "code",
   "execution_count": 22,
   "id": "94a4406e",
   "metadata": {},
   "outputs": [
    {
     "name": "stdout",
     "output_type": "stream",
     "text": [
      "dict_keys(['loss', 'accuracy', 'val_loss', 'val_accuracy'])\n"
     ]
    }
   ],
   "source": [
    "history_dict = history.history\n",
    "print(history_dict.keys())"
   ]
  },
  {
   "cell_type": "code",
   "execution_count": 23,
   "id": "99f6d40c",
   "metadata": {},
   "outputs": [
    {
     "data": {
      "image/png": "[encoded data removed]",
      "text/plain": [
       "<Figure size 432x288 with 1 Axes>"
      ]
     },
     "metadata": {
      "needs_background": "light"
     },
     "output_type": "display_data"
    }
   ],
   "source": [
    "import matplotlib.pyplot as plt\n",
    "\n",
    "acc = history_dict['accuracy']\n",
    "val_acc = history_dict['val_accuracy']\n",
    "loss = history_dict['loss']\n",
    "val_loss = history_dict['val_loss']\n",
    "\n",
    "epochs = range(1, len(acc) + 1)\n",
    "\n",
    "# \"bo\"는 \"파란색 점\"\n",
    "plt.plot(epochs, loss, 'bo', label='Training loss')\n",
    "# b는 \"파란 실선\"\n",
    "plt.plot(epochs, val_loss, 'b', label='Validation loss')\n",
    "plt.title('Training and validation loss')\n",
    "plt.xlabel('Epochs')\n",
    "plt.ylabel('Loss')\n",
    "plt.legend()\n",
    "\n",
    "plt.show()"
   ]
  },
  {
   "cell_type": "code",
   "execution_count": 24,
   "id": "2f1d659f",
   "metadata": {},
   "outputs": [
    {
     "data": {
      "image/png": "[encoded data removed]",
      "text/plain": [
       "<Figure size 432x288 with 1 Axes>"
      ]
     },
     "metadata": {
      "needs_background": "light"
     },
     "output_type": "display_data"
    }
   ],
   "source": [
    "plt.clf()  \n",
    "\n",
    "plt.plot(epochs, acc, 'bo', label='Training acc')\n",
    "plt.plot(epochs, val_acc, 'b', label='Validation acc')\n",
    "plt.title('Training and validation accuracy')\n",
    "plt.xlabel('Epochs')\n",
    "plt.ylabel('Accuracy')\n",
    "plt.legend()\n",
    "\n",
    "plt.show()"
   ]
  },
  {
   "cell_type": "markdown",
   "id": "ec430c51",
   "metadata": {},
   "source": [
    "## 4. 학습된 Embedding 레이어 분석"
   ]
  },
  {
   "cell_type": "code",
   "execution_count": 25,
   "id": "8e74b251",
   "metadata": {},
   "outputs": [
    {
     "name": "stdout",
     "output_type": "stream",
     "text": [
      "(10000, 16)\n"
     ]
    }
   ],
   "source": [
    "embedding_layer = model_2.layers[0]\n",
    "weights = embedding_layer.get_weights()[0]\n",
    "print(weights.shape) "
   ]
  },
  {
   "cell_type": "code",
   "execution_count": 26,
   "id": "fbddc91f",
   "metadata": {},
   "outputs": [],
   "source": [
    "word2vec_file_path = os.getenv('HOME')+'/aiffel/sentiment_classification/data/word2vec.txt'\n",
    "f = open(word2vec_file_path, 'w')\n",
    "f.write('{} {}\\n'.format(vocab_size-4, word_vector_dim))\n",
    "\n",
    "vectors = model_2.get_weights()[0]\n",
    "for i in range(4,vocab_size):\n",
    "    f.write('{} {}\\n'.format(index_to_word[i], ' '.join(map(str, list(vectors[i, :])))))\n",
    "f.close()"
   ]
  },
  {
   "cell_type": "code",
   "execution_count": 27,
   "id": "00e4c4b7",
   "metadata": {},
   "outputs": [
    {
     "data": {
      "text/plain": [
       "array([ 0.15324566, -0.13098714,  0.10458431,  0.15322952,  0.12449092,\n",
       "       -0.01569067,  0.12061573, -0.09456939, -0.04858581,  0.03824122,\n",
       "       -0.07549305,  0.02208417,  0.00646362,  0.14541739, -0.09010288,\n",
       "       -0.02977668], dtype=float32)"
      ]
     },
     "execution_count": 27,
     "metadata": {},
     "output_type": "execute_result"
    }
   ],
   "source": [
    "from gensim.models.keyedvectors import Word2VecKeyedVectors\n",
    "\n",
    "word_vectors = Word2VecKeyedVectors.load_word2vec_format(word2vec_file_path, binary=False)\n",
    "vector = word_vectors['지루']\n",
    "vector"
   ]
  },
  {
   "cell_type": "code",
   "execution_count": 28,
   "id": "9af9ec80",
   "metadata": {
    "scrolled": true
   },
   "outputs": [
    {
     "data": {
      "text/plain": [
       "[('성적', 0.89200758934021),\n",
       " ('부리', 0.8892272114753723),\n",
       " ('철없', 0.8622621297836304),\n",
       " ('우월주의', 0.8583727478981018),\n",
       " ('바닥', 0.855747401714325),\n",
       " ('간신히', 0.8553895354270935),\n",
       " ('결핍', 0.8543521761894226),\n",
       " ('강도', 0.8535979390144348),\n",
       " ('광신도', 0.8494659662246704),\n",
       " ('썰렁', 0.8488237857818604)]"
      ]
     },
     "execution_count": 28,
     "metadata": {},
     "output_type": "execute_result"
    }
   ],
   "source": [
    "word_vectors.similar_by_word(\"지루\")"
   ]
  },
  {
   "cell_type": "markdown",
   "id": "6e2aa8d5",
   "metadata": {},
   "source": [
    "### 3) max pooling 모델"
   ]
  },
  {
   "cell_type": "code",
   "execution_count": 29,
   "id": "449bc2de",
   "metadata": {},
   "outputs": [
    {
     "name": "stdout",
     "output_type": "stream",
     "text": [
      "Model: \"sequential_2\"\n",
      "_________________________________________________________________\n",
      "Layer (type)                 Output Shape              Param #   \n",
      "=================================================================\n",
      "embedding_2 (Embedding)      (None, None, 16)          160000    \n",
      "_________________________________________________________________\n",
      "global_max_pooling1d_1 (Glob (None, 16)                0         \n",
      "_________________________________________________________________\n",
      "dense_4 (Dense)              (None, 8)                 136       \n",
      "_________________________________________________________________\n",
      "dense_5 (Dense)              (None, 1)                 9         \n",
      "=================================================================\n",
      "Total params: 160,145\n",
      "Trainable params: 160,145\n",
      "Non-trainable params: 0\n",
      "_________________________________________________________________\n"
     ]
    }
   ],
   "source": [
    "vocab_size = 10000 \n",
    "word_vector_dim = 16\n",
    "\n",
    "model_3 = tf.keras.Sequential()\n",
    "model_3.add(tf.keras.layers.Embedding(vocab_size, word_vector_dim, input_shape=(None,)))\n",
    "model_3.add(tf.keras.layers.GlobalMaxPooling1D())\n",
    "model_3.add(tf.keras.layers.Dense(8, activation='relu'))\n",
    "model_3.add(tf.keras.layers.Dense(1, activation='sigmoid'))\n",
    "\n",
    "\n",
    "model_3.summary()"
   ]
  },
  {
   "cell_type": "code",
   "execution_count": 30,
   "id": "aa991d43",
   "metadata": {
    "scrolled": true
   },
   "outputs": [
    {
     "name": "stdout",
     "output_type": "stream",
     "text": [
      "Epoch 1/10\n",
      "198/198 [==============================] - 1s 4ms/step - loss: 0.5963 - accuracy: 0.7630 - val_loss: 0.4528 - val_accuracy: 0.8171\n",
      "Epoch 2/10\n",
      "198/198 [==============================] - 1s 4ms/step - loss: 0.3930 - accuracy: 0.8354 - val_loss: 0.3686 - val_accuracy: 0.8378\n",
      "Epoch 3/10\n",
      "198/198 [==============================] - 1s 4ms/step - loss: 0.3338 - accuracy: 0.8602 - val_loss: 0.3532 - val_accuracy: 0.8457\n",
      "Epoch 4/10\n",
      "198/198 [==============================] - 1s 4ms/step - loss: 0.3023 - accuracy: 0.8754 - val_loss: 0.3510 - val_accuracy: 0.8467\n",
      "Epoch 5/10\n",
      "198/198 [==============================] - 1s 4ms/step - loss: 0.2791 - accuracy: 0.8869 - val_loss: 0.3539 - val_accuracy: 0.8468\n",
      "Epoch 6/10\n",
      "198/198 [==============================] - 1s 4ms/step - loss: 0.2598 - accuracy: 0.8955 - val_loss: 0.3608 - val_accuracy: 0.8459\n",
      "Epoch 7/10\n",
      "198/198 [==============================] - 1s 4ms/step - loss: 0.2433 - accuracy: 0.9034 - val_loss: 0.3701 - val_accuracy: 0.8454\n",
      "Epoch 8/10\n",
      "198/198 [==============================] - 1s 4ms/step - loss: 0.2290 - accuracy: 0.9105 - val_loss: 0.3806 - val_accuracy: 0.8429\n",
      "Epoch 9/10\n",
      "198/198 [==============================] - 1s 4ms/step - loss: 0.2159 - accuracy: 0.9167 - val_loss: 0.3924 - val_accuracy: 0.8422\n",
      "Epoch 10/10\n",
      "198/198 [==============================] - 1s 4ms/step - loss: 0.2041 - accuracy: 0.9225 - val_loss: 0.4051 - val_accuracy: 0.8400\n"
     ]
    }
   ],
   "source": [
    "model_3.compile(optimizer='adam',\n",
    "              loss='binary_crossentropy',\n",
    "              metrics=['accuracy'])\n",
    "              \n",
    "epochs=10  \n",
    "\n",
    "history = model_3.fit(partial_X_train,\n",
    "                    partial_y_train,\n",
    "                    epochs=epochs,\n",
    "                    batch_size=512,\n",
    "                    validation_data=(X_val, y_val),\n",
    "                    verbose=1)"
   ]
  },
  {
   "cell_type": "code",
   "execution_count": 31,
   "id": "6243c80d",
   "metadata": {},
   "outputs": [
    {
     "name": "stdout",
     "output_type": "stream",
     "text": [
      "1537/1537 - 2s - loss: 0.4187 - accuracy: 0.8348\n",
      "[0.41868147253990173, 0.8347539305686951]\n"
     ]
    }
   ],
   "source": [
    "results = model_3.evaluate(X_test,  y_test, verbose=2)\n",
    "\n",
    "print(results)"
   ]
  },
  {
   "cell_type": "code",
   "execution_count": 32,
   "id": "da3cc6f8",
   "metadata": {},
   "outputs": [
    {
     "name": "stdout",
     "output_type": "stream",
     "text": [
      "dict_keys(['loss', 'accuracy', 'val_loss', 'val_accuracy'])\n"
     ]
    }
   ],
   "source": [
    "history_dict = history.history\n",
    "print(history_dict.keys()) "
   ]
  },
  {
   "cell_type": "code",
   "execution_count": 33,
   "id": "2e583b96",
   "metadata": {},
   "outputs": [
    {
     "data": {
      "image/png": "[encoded data removed]",
      "text/plain": [
       "<Figure size 432x288 with 1 Axes>"
      ]
     },
     "metadata": {
      "needs_background": "light"
     },
     "output_type": "display_data"
    }
   ],
   "source": [
    "import matplotlib.pyplot as plt\n",
    "\n",
    "acc = history_dict['accuracy']\n",
    "val_acc = history_dict['val_accuracy']\n",
    "loss = history_dict['loss']\n",
    "val_loss = history_dict['val_loss']\n",
    "\n",
    "epochs = range(1, len(acc) + 1)\n",
    "\n",
    "# \"bo\"는 \"파란색 점\"\n",
    "plt.plot(epochs, loss, 'bo', label='Training loss')\n",
    "# b는 \"파란 실선\"\n",
    "plt.plot(epochs, val_loss, 'b', label='Validation loss')\n",
    "plt.title('Training and validation loss')\n",
    "plt.xlabel('Epochs')\n",
    "plt.ylabel('Loss')\n",
    "plt.legend()\n",
    "\n",
    "plt.show()"
   ]
  },
  {
   "cell_type": "code",
   "execution_count": 34,
   "id": "d435717e",
   "metadata": {},
   "outputs": [
    {
     "data": {
      "image/png": "[encoded data removed]",
      "text/plain": [
       "<Figure size 432x288 with 1 Axes>"
      ]
     },
     "metadata": {
      "needs_background": "light"
     },
     "output_type": "display_data"
    }
   ],
   "source": [
    "plt.clf()\n",
    "\n",
    "plt.plot(epochs, acc, 'bo', label='Training acc')\n",
    "plt.plot(epochs, val_acc, 'b', label='Validation acc')\n",
    "plt.title('Training and validation accuracy')\n",
    "plt.xlabel('Epochs')\n",
    "plt.ylabel('Accuracy')\n",
    "plt.legend()\n",
    "\n",
    "plt.show()"
   ]
  },
  {
   "cell_type": "markdown",
   "id": "d39da386",
   "metadata": {},
   "source": [
    "## 4. 학습된 Embedding 레이어 분석"
   ]
  },
  {
   "cell_type": "code",
   "execution_count": 35,
   "id": "0f94e54e",
   "metadata": {},
   "outputs": [
    {
     "name": "stdout",
     "output_type": "stream",
     "text": [
      "(10000, 16)\n"
     ]
    }
   ],
   "source": [
    "embedding_layer = model_2.layers[0]\n",
    "weights = embedding_layer.get_weights()[0]\n",
    "print(weights.shape) "
   ]
  },
  {
   "cell_type": "code",
   "execution_count": 36,
   "id": "108ec677",
   "metadata": {},
   "outputs": [],
   "source": [
    "\n",
    "word2vec_file_path = os.getenv('HOME')+'/aiffel/sentiment_classification/data/word2vec.txt'\n",
    "f = open(word2vec_file_path, 'w')\n",
    "f.write('{} {}\\n'.format(vocab_size-4, word_vector_dim))\n",
    "\n",
    "vectors = model_2.get_weights()[0]\n",
    "for i in range(4,vocab_size):\n",
    "    f.write('{} {}\\n'.format(index_to_word[i], ' '.join(map(str, list(vectors[i, :])))))\n",
    "f.close()"
   ]
  },
  {
   "cell_type": "code",
   "execution_count": 37,
   "id": "b6911589",
   "metadata": {},
   "outputs": [
    {
     "data": {
      "text/plain": [
       "array([ 0.15324566, -0.13098714,  0.10458431,  0.15322952,  0.12449092,\n",
       "       -0.01569067,  0.12061573, -0.09456939, -0.04858581,  0.03824122,\n",
       "       -0.07549305,  0.02208417,  0.00646362,  0.14541739, -0.09010288,\n",
       "       -0.02977668], dtype=float32)"
      ]
     },
     "execution_count": 37,
     "metadata": {},
     "output_type": "execute_result"
    }
   ],
   "source": [
    "from gensim.models.keyedvectors import Word2VecKeyedVectors\n",
    "\n",
    "word_vectors = Word2VecKeyedVectors.load_word2vec_format(word2vec_file_path, binary=False)\n",
    "vector = word_vectors['지루']\n",
    "vector"
   ]
  },
  {
   "cell_type": "code",
   "execution_count": 38,
   "id": "814a68dd",
   "metadata": {
    "scrolled": true
   },
   "outputs": [
    {
     "data": {
      "text/plain": [
       "[('성적', 0.89200758934021),\n",
       " ('부리', 0.8892272114753723),\n",
       " ('철없', 0.8622621297836304),\n",
       " ('우월주의', 0.8583727478981018),\n",
       " ('바닥', 0.855747401714325),\n",
       " ('간신히', 0.8553895354270935),\n",
       " ('결핍', 0.8543521761894226),\n",
       " ('강도', 0.8535979390144348),\n",
       " ('광신도', 0.8494659662246704),\n",
       " ('썰렁', 0.8488237857818604)]"
      ]
     },
     "execution_count": 38,
     "metadata": {},
     "output_type": "execute_result"
    }
   ],
   "source": [
    "word_vectors.similar_by_word(\"지루\")"
   ]
  },
  {
   "cell_type": "markdown",
   "id": "8e1c3e46",
   "metadata": {},
   "source": [
    "## 5. 한국어 Word2Vec 임베딩 활용하여 성능 개선"
   ]
  },
  {
   "cell_type": "code",
   "execution_count": 39,
   "id": "a28b6b89",
   "metadata": {},
   "outputs": [],
   "source": [
    "from gensim.models import KeyedVectors\n",
    "\n",
    "word2vec_file_path = os.getenv('HOME')+'/data/word2vec_ko.model' "
   ]
  },
  {
   "cell_type": "code",
   "execution_count": 40,
   "id": "27f42ab4",
   "metadata": {},
   "outputs": [],
   "source": [
    "word_vectors.save('vectors.kv')\n",
    "reloaded_word_vectors = KeyedVectors.load('vectors.kv')\n"
   ]
  },
  {
   "cell_type": "code",
   "execution_count": 41,
   "id": "6007262f",
   "metadata": {
    "scrolled": true
   },
   "outputs": [
    {
     "name": "stdout",
     "output_type": "stream",
     "text": [
      "[ 0.04174887 -0.21894366 -1.441043   -0.65588135  0.5381777  -0.24932627\n",
      " -1.2721392  -0.9349011  -0.99750704  0.29246134  1.3961207  -0.42496732\n",
      " -0.8030965  -0.01296767  2.397268    1.4943933  -0.32043195 -0.37196487\n",
      "  0.63323635  1.3366741  -2.4578457   1.6403297   2.098323    0.6416305\n",
      "  1.0303649   1.0531819   0.5380543   1.3501654   1.9899552  -0.078539\n",
      " -0.13185968 -0.5480784  -1.8893849  -0.9229791   0.4664928   1.3092248\n",
      " -2.2880766   0.37046084  1.2550128  -0.05545815  0.23954934 -0.93439806\n",
      " -0.6775805   2.4420333  -0.55737174 -0.81948894 -0.06877042 -1.2745227\n",
      "  1.7742481   0.8814029  -0.33158144 -0.518086   -0.7392571  -0.62477165\n",
      "  0.5336477  -1.080377    1.4759496  -0.56383216  1.0778964  -0.1535129\n",
      "  0.28932756  0.0729184   0.5195994  -1.480617   -0.6663279  -0.8334627\n",
      "  0.9109524  -0.9392463  -0.40699846 -0.38619068  3.2585053  -0.18726757\n",
      " -0.19806731 -1.2285595  -2.0928824   0.0425626   0.45743722  0.3735978\n",
      "  0.1352734  -0.9122646   0.689723    0.56783    -0.257061   -0.43724728\n",
      "  0.60907525 -0.2182443   0.02720627 -0.6175132   0.21462306 -2.4343266\n",
      " -0.91486853 -1.3672453   1.3939533  -0.68677825 -0.20010297  0.63391876\n",
      "  0.8463178   0.4526958   1.9717907  -1.2808446 ]\n"
     ]
    }
   ],
   "source": [
    "from gensim.models.keyedvectors import Word2VecKeyedVectors\n",
    "\n",
    "word_vectors = Word2VecKeyedVectors.load(word2vec_file_path)\n",
    "print(word_vectors.wv[\"지루\"])"
   ]
  },
  {
   "cell_type": "code",
   "execution_count": 42,
   "id": "8d1f2efe",
   "metadata": {
    "scrolled": true
   },
   "outputs": [
    {
     "name": "stdout",
     "output_type": "stream",
     "text": [
      "[('묘미', 0.6163142919540405), ('취미', 0.6034970283508301), ('흥미', 0.5939850211143494), ('유머', 0.5888698101043701), ('보람', 0.5689517259597778), ('즐거움', 0.5631207823753357), ('개그', 0.5552946329116821), ('이야기', 0.5536993741989136), ('연애', 0.552293598651886), ('열의', 0.546456515789032)]\n"
     ]
    }
   ],
   "source": [
    "print(word_vectors.wv.most_similar(\"재미\"))"
   ]
  },
  {
   "cell_type": "code",
   "execution_count": 43,
   "id": "cb049596",
   "metadata": {
    "scrolled": true
   },
   "outputs": [],
   "source": [
    "vocab_size = 10000    \n",
    "word_vector_dim = 100\n",
    "embedding_matrix = np.random.rand(vocab_size, word_vector_dim)\n",
    "\n",
    "for i in range(4,vocab_size):\n",
    "    if index_to_word[i] in word_vectors.wv:\n",
    "        embedding_matrix[i] = word_vectors.wv[index_to_word[i]]"
   ]
  },
  {
   "cell_type": "markdown",
   "id": "cbcbdaec",
   "metadata": {},
   "source": [
    "- 1. LSTM"
   ]
  },
  {
   "cell_type": "code",
   "execution_count": 44,
   "id": "6a9602fd",
   "metadata": {},
   "outputs": [
    {
     "name": "stdout",
     "output_type": "stream",
     "text": [
      "Model: \"sequential_3\"\n",
      "_________________________________________________________________\n",
      "Layer (type)                 Output Shape              Param #   \n",
      "=================================================================\n",
      "embedding_3 (Embedding)      (None, 41, 100)           1000000   \n",
      "_________________________________________________________________\n",
      "lstm_1 (LSTM)                (None, 128)               117248    \n",
      "_________________________________________________________________\n",
      "dense_6 (Dense)              (None, 1)                 129       \n",
      "=================================================================\n",
      "Total params: 1,117,377\n",
      "Trainable params: 1,117,377\n",
      "Non-trainable params: 0\n",
      "_________________________________________________________________\n"
     ]
    }
   ],
   "source": [
    "from tensorflow.keras.initializers import Constant\n",
    "\n",
    "#LSTM 모델 구성\n",
    "model_4 = tf.keras.Sequential()\n",
    "model_4.add(tf.keras.layers.Embedding(vocab_size, \n",
    "                                 word_vector_dim, \n",
    "                                 embeddings_initializer=Constant(embedding_matrix),  \n",
    "                                 input_length=maxlen, \n",
    "                                 trainable=True))   \n",
    "model_4.add(tf.keras.layers.LSTM(128))\n",
    "model_4.add(tf.keras.layers.Dense(1, activation='sigmoid'))\n",
    "\n",
    "model_4.summary()"
   ]
  },
  {
   "cell_type": "code",
   "execution_count": 45,
   "id": "0029b3d5",
   "metadata": {
    "scrolled": true
   },
   "outputs": [
    {
     "name": "stdout",
     "output_type": "stream",
     "text": [
      "Epoch 1/10\n",
      "198/198 [==============================] - 4s 13ms/step - loss: 0.4858 - accuracy: 0.7616 - val_loss: 0.4162 - val_accuracy: 0.8119\n",
      "Epoch 2/10\n",
      "198/198 [==============================] - 2s 11ms/step - loss: 0.3666 - accuracy: 0.8362 - val_loss: 0.3489 - val_accuracy: 0.8461\n",
      "Epoch 3/10\n",
      "198/198 [==============================] - 2s 11ms/step - loss: 0.3148 - accuracy: 0.8637 - val_loss: 0.3313 - val_accuracy: 0.8552\n",
      "Epoch 4/10\n",
      "198/198 [==============================] - 2s 11ms/step - loss: 0.2789 - accuracy: 0.8826 - val_loss: 0.3261 - val_accuracy: 0.8583\n",
      "Epoch 5/10\n",
      "198/198 [==============================] - 2s 11ms/step - loss: 0.2531 - accuracy: 0.8962 - val_loss: 0.3255 - val_accuracy: 0.8618\n",
      "Epoch 6/10\n",
      "198/198 [==============================] - 2s 11ms/step - loss: 0.2257 - accuracy: 0.9093 - val_loss: 0.3375 - val_accuracy: 0.8578\n",
      "Epoch 7/10\n",
      "198/198 [==============================] - 2s 11ms/step - loss: 0.2039 - accuracy: 0.9189 - val_loss: 0.3415 - val_accuracy: 0.8601\n",
      "Epoch 8/10\n",
      "198/198 [==============================] - 2s 11ms/step - loss: 0.1808 - accuracy: 0.9291 - val_loss: 0.3671 - val_accuracy: 0.8577\n",
      "Epoch 9/10\n",
      "198/198 [==============================] - 2s 11ms/step - loss: 0.1581 - accuracy: 0.9406 - val_loss: 0.3927 - val_accuracy: 0.8564\n",
      "Epoch 10/10\n",
      "198/198 [==============================] - 2s 11ms/step - loss: 0.1358 - accuracy: 0.9493 - val_loss: 0.4285 - val_accuracy: 0.8556\n"
     ]
    }
   ],
   "source": [
    "# 학습의 진행\n",
    "model_4.compile(optimizer='adam',\n",
    "              loss='binary_crossentropy',\n",
    "              metrics=['accuracy'])\n",
    "              \n",
    "epochs=10\n",
    "\n",
    "history = model_4.fit(partial_X_train,\n",
    "                    partial_y_train,\n",
    "                    epochs=epochs,\n",
    "                    batch_size=512,\n",
    "                    validation_data=(X_val, y_val),\n",
    "                    verbose=1)"
   ]
  },
  {
   "cell_type": "code",
   "execution_count": 46,
   "id": "0733a2ef",
   "metadata": {},
   "outputs": [
    {
     "name": "stdout",
     "output_type": "stream",
     "text": [
      "1537/1537 - 3s - loss: 0.4398 - accuracy: 0.8531\n",
      "[0.4397776126861572, 0.8531033396720886]\n"
     ]
    }
   ],
   "source": [
    "results = model_4.evaluate(X_test, y_test, verbose=2)\n",
    "\n",
    "print(results)"
   ]
  },
  {
   "cell_type": "markdown",
   "id": "c6cc1207",
   "metadata": {},
   "source": [
    "- Embedding"
   ]
  },
  {
   "cell_type": "code",
   "execution_count": 47,
   "id": "8a195528",
   "metadata": {},
   "outputs": [
    {
     "name": "stdout",
     "output_type": "stream",
     "text": [
      "(10000, 100)\n"
     ]
    }
   ],
   "source": [
    "embedding_layer = model_4.layers[0]\n",
    "weights = embedding_layer.get_weights()[0]\n",
    "print(weights.shape) "
   ]
  },
  {
   "cell_type": "code",
   "execution_count": 48,
   "id": "ff849a42",
   "metadata": {},
   "outputs": [],
   "source": [
    "word2vec_file_path = os.getenv('HOME')+'/aiffel/sentiment_classification/data/word2vec.txt'\n",
    "f = open(word2vec_file_path, 'w')\n",
    "f.write('{} {}\\n'.format(vocab_size-4, word_vector_dim))\n",
    "\n",
    "vectors = model_4.get_weights()[0]\n",
    "for i in range(4,vocab_size):\n",
    "    f.write('{} {}\\n'.format(index_to_word[i], ' '.join(map(str, list(vectors[i, :])))))\n",
    "f.close()"
   ]
  },
  {
   "cell_type": "code",
   "execution_count": 49,
   "id": "8cbb8a1a",
   "metadata": {
    "scrolled": true
   },
   "outputs": [
    {
     "data": {
      "text/plain": [
       "array([-0.45958686, -1.601573  , -3.4878547 ,  1.454709  ,  0.23673673,\n",
       "        1.639266  ,  0.08901233, -2.9346669 , -0.9054664 ,  1.2206489 ,\n",
       "        0.40650648,  1.1962968 , -3.019989  , -0.11251885,  0.59873974,\n",
       "        0.3061168 ,  1.2528764 ,  0.5936597 ,  2.073961  , -2.2969108 ,\n",
       "        0.7798964 ,  1.6257489 ,  1.1709113 , -2.0648015 , -2.5925426 ,\n",
       "       -0.38106653,  0.9447873 ,  0.5080243 ,  1.795718  , -1.1872504 ,\n",
       "       -2.9187498 , -0.6708434 , -2.2165742 ,  1.6507351 , -0.32736728,\n",
       "       -1.2981687 , -1.4701825 ,  1.0513557 , -2.3198268 ,  0.682717  ,\n",
       "       -0.12583236,  0.90590364, -0.5238785 ,  4.008282  ,  1.1221327 ,\n",
       "        0.49109992,  1.8677002 , -0.09359022,  2.4385908 , -2.6189897 ,\n",
       "        0.80338866,  3.193386  ,  0.97337264, -0.5866932 , -0.9776467 ,\n",
       "       -1.3814433 ,  1.0396596 , -0.6146893 ,  1.0162638 ,  1.1344126 ,\n",
       "        2.8343618 , -0.83703756, -1.3972175 , -1.6713805 , -0.9871903 ,\n",
       "        2.0700092 ,  0.03405891,  0.02439094, -1.2233745 , -0.9286003 ,\n",
       "        0.7061114 ,  0.75069433, -0.70534676,  1.7802413 , -1.5507574 ,\n",
       "       -1.3667693 ,  0.28358778,  1.2422564 ,  0.3822687 , -2.0347981 ,\n",
       "        1.1155591 ,  0.46021158,  1.8476324 , -0.009149  ,  1.876415  ,\n",
       "        0.07019906, -0.06389921, -1.0065407 ,  3.5834095 ,  0.7977951 ,\n",
       "       -0.5537618 , -2.42813   ,  2.5073807 , -1.882888  ,  0.1683988 ,\n",
       "        0.1282448 , -2.3279164 , -0.35198626,  2.0094428 , -0.23821828],\n",
       "      dtype=float32)"
      ]
     },
     "execution_count": 49,
     "metadata": {},
     "output_type": "execute_result"
    }
   ],
   "source": [
    "from gensim.models.keyedvectors import Word2VecKeyedVectors\n",
    "\n",
    "word_vectors = Word2VecKeyedVectors.load_word2vec_format(word2vec_file_path, binary=False)\n",
    "vector = word_vectors['재미']\n",
    "vector"
   ]
  },
  {
   "cell_type": "code",
   "execution_count": 50,
   "id": "99b17804",
   "metadata": {
    "scrolled": false
   },
   "outputs": [
    {
     "data": {
      "text/plain": [
       "[('묘미', 0.6184396147727966),\n",
       " ('취미', 0.601413369178772),\n",
       " ('흥미', 0.5938342809677124),\n",
       " ('유머', 0.5822902321815491),\n",
       " ('보람', 0.5606368184089661),\n",
       " ('공감', 0.5517803430557251),\n",
       " ('개그', 0.5474673509597778),\n",
       " ('즐거움', 0.5472301244735718),\n",
       " ('연애', 0.54562908411026),\n",
       " ('이야기', 0.5362117290496826)]"
      ]
     },
     "execution_count": 50,
     "metadata": {},
     "output_type": "execute_result"
    }
   ],
   "source": [
    "word_vectors.similar_by_word(\"재미\")"
   ]
  },
  {
   "cell_type": "markdown",
   "id": "85b46731",
   "metadata": {},
   "source": [
    "- Convolution Neural Network(1-D CNN)"
   ]
  },
  {
   "cell_type": "code",
   "execution_count": 51,
   "id": "5d52ba6d",
   "metadata": {
    "scrolled": false
   },
   "outputs": [
    {
     "name": "stdout",
     "output_type": "stream",
     "text": [
      "Model: \"sequential_4\"\n",
      "_________________________________________________________________\n",
      "Layer (type)                 Output Shape              Param #   \n",
      "=================================================================\n",
      "embedding_4 (Embedding)      (None, 41, 100)           1000000   \n",
      "_________________________________________________________________\n",
      "conv1d_2 (Conv1D)            (None, 35, 16)            11216     \n",
      "_________________________________________________________________\n",
      "max_pooling1d_1 (MaxPooling1 (None, 7, 16)             0         \n",
      "_________________________________________________________________\n",
      "conv1d_3 (Conv1D)            (None, 1, 16)             1808      \n",
      "_________________________________________________________________\n",
      "global_max_pooling1d_2 (Glob (None, 16)                0         \n",
      "_________________________________________________________________\n",
      "dense_7 (Dense)              (None, 8)                 136       \n",
      "_________________________________________________________________\n",
      "dense_8 (Dense)              (None, 1)                 9         \n",
      "=================================================================\n",
      "Total params: 1,013,169\n",
      "Trainable params: 1,013,169\n",
      "Non-trainable params: 0\n",
      "_________________________________________________________________\n"
     ]
    }
   ],
   "source": [
    "model_5 = tf.keras.Sequential()\n",
    "model_5.add(tf.keras.layers.Embedding(vocab_size, \n",
    "                                 word_vector_dim, \n",
    "                                 embeddings_initializer=Constant(embedding_matrix),  \n",
    "                                 input_length=maxlen, \n",
    "                                 trainable=True))\n",
    "model_5.add(tf.keras.layers.Conv1D(16, 7, activation='relu'))\n",
    "model_5.add(tf.keras.layers.MaxPooling1D(5))\n",
    "model_5.add(tf.keras.layers.Conv1D(16, 7, activation='relu'))\n",
    "model_5.add(tf.keras.layers.GlobalMaxPooling1D())\n",
    "model_5.add(tf.keras.layers.Dense(8, activation='relu'))\n",
    "model_5.add(tf.keras.layers.Dense(1, activation='sigmoid'))\n",
    "model_5.summary()"
   ]
  },
  {
   "cell_type": "code",
   "execution_count": 52,
   "id": "412deb55",
   "metadata": {
    "scrolled": true
   },
   "outputs": [
    {
     "name": "stdout",
     "output_type": "stream",
     "text": [
      "Epoch 1/10\n",
      "198/198 [==============================] - 2s 7ms/step - loss: 0.6134 - accuracy: 0.6475 - val_loss: 0.5181 - val_accuracy: 0.7445\n",
      "Epoch 2/10\n",
      "198/198 [==============================] - 1s 6ms/step - loss: 0.4739 - accuracy: 0.7760 - val_loss: 0.4457 - val_accuracy: 0.7956\n",
      "Epoch 3/10\n",
      "198/198 [==============================] - 1s 6ms/step - loss: 0.4121 - accuracy: 0.8137 - val_loss: 0.4126 - val_accuracy: 0.8150\n",
      "Epoch 4/10\n",
      "198/198 [==============================] - 1s 6ms/step - loss: 0.3675 - accuracy: 0.8377 - val_loss: 0.3882 - val_accuracy: 0.8271\n",
      "Epoch 5/10\n",
      "198/198 [==============================] - 1s 6ms/step - loss: 0.3368 - accuracy: 0.8543 - val_loss: 0.3788 - val_accuracy: 0.8330\n",
      "Epoch 6/10\n",
      "198/198 [==============================] - 1s 6ms/step - loss: 0.3146 - accuracy: 0.8659 - val_loss: 0.3800 - val_accuracy: 0.8332\n",
      "Epoch 7/10\n",
      "198/198 [==============================] - 1s 6ms/step - loss: 0.2929 - accuracy: 0.8770 - val_loss: 0.3723 - val_accuracy: 0.8388\n",
      "Epoch 8/10\n",
      "198/198 [==============================] - 1s 6ms/step - loss: 0.2771 - accuracy: 0.8849 - val_loss: 0.3756 - val_accuracy: 0.8398\n",
      "Epoch 9/10\n",
      "198/198 [==============================] - 1s 6ms/step - loss: 0.2608 - accuracy: 0.8937 - val_loss: 0.3775 - val_accuracy: 0.8419\n",
      "Epoch 10/10\n",
      "198/198 [==============================] - 1s 6ms/step - loss: 0.2486 - accuracy: 0.8991 - val_loss: 0.3873 - val_accuracy: 0.8391\n"
     ]
    }
   ],
   "source": [
    "model_5.compile(optimizer='adam',\n",
    "              loss='binary_crossentropy',\n",
    "              metrics=['accuracy'])\n",
    "              \n",
    "epochs=10  \n",
    "\n",
    "history = model_5.fit(partial_X_train,\n",
    "                    partial_y_train,\n",
    "                    epochs=epochs,\n",
    "                    batch_size=512,\n",
    "                    validation_data=(X_val, y_val),\n",
    "                    verbose=1)"
   ]
  },
  {
   "cell_type": "code",
   "execution_count": 53,
   "id": "02e02de2",
   "metadata": {
    "scrolled": false
   },
   "outputs": [
    {
     "name": "stdout",
     "output_type": "stream",
     "text": [
      "1537/1537 - 3s - loss: 0.3978 - accuracy: 0.8350\n",
      "[0.3977825939655304, 0.8349980711936951]\n"
     ]
    }
   ],
   "source": [
    "results = model_5.evaluate(X_test,  y_test, verbose=2)\n",
    "\n",
    "print(results)"
   ]
  },
  {
   "cell_type": "markdown",
   "id": "248531dc",
   "metadata": {},
   "source": [
    "- Embedding"
   ]
  },
  {
   "cell_type": "code",
   "execution_count": 54,
   "id": "1151db8c",
   "metadata": {},
   "outputs": [
    {
     "name": "stdout",
     "output_type": "stream",
     "text": [
      "(10000, 100)\n"
     ]
    }
   ],
   "source": [
    "embedding_layer = model_5.layers[0]\n",
    "weights = embedding_layer.get_weights()[0]\n",
    "print(weights.shape) "
   ]
  },
  {
   "cell_type": "code",
   "execution_count": 55,
   "id": "5cdcef0c",
   "metadata": {},
   "outputs": [],
   "source": [
    "word2vec_file_path = os.getenv('HOME')+'/aiffel/sentiment_classification/data/word2vec.txt'\n",
    "f = open(word2vec_file_path, 'w')\n",
    "f.write('{} {}\\n'.format(vocab_size-4, word_vector_dim))\n",
    "\n",
    "vectors = model_5.get_weights()[0]\n",
    "for i in range(4,vocab_size):\n",
    "    f.write('{} {}\\n'.format(index_to_word[i], ' '.join(map(str, list(vectors[i, :])))))\n",
    "f.close()"
   ]
  },
  {
   "cell_type": "code",
   "execution_count": 56,
   "id": "7e280414",
   "metadata": {
    "scrolled": true
   },
   "outputs": [
    {
     "data": {
      "text/plain": [
       "array([-0.4617663 , -1.3990711 , -3.3223274 ,  1.4396347 ,  0.16329455,\n",
       "        1.5552385 ,  0.05046738, -2.5381346 , -1.1072984 ,  1.2693486 ,\n",
       "        0.9654916 ,  0.8063761 , -3.1520877 ,  0.15037203,  0.67874026,\n",
       "        0.4438124 ,  1.5075983 ,  0.80786914,  2.50622   , -2.6075916 ,\n",
       "        0.7965966 ,  1.9871999 ,  1.3102884 , -1.882547  , -2.842563  ,\n",
       "       -0.51336706,  1.1101793 ,  0.12842244,  1.8514721 , -1.2667698 ,\n",
       "       -2.8324432 , -1.1315594 , -1.9900172 ,  1.2764349 , -0.3782124 ,\n",
       "       -1.1942608 , -1.9431773 ,  1.0395497 , -2.0929723 ,  0.98212475,\n",
       "       -0.05481824,  0.5398856 , -0.7447538 ,  3.7208648 ,  1.2084625 ,\n",
       "        0.4607436 ,  1.6559074 , -0.13702649,  2.3683093 , -2.7270455 ,\n",
       "        1.1321144 ,  2.6316276 ,  0.94724816, -0.92420864, -0.92097867,\n",
       "       -1.477497  ,  1.0452442 , -0.85884523,  1.2103629 ,  1.4940842 ,\n",
       "        2.520919  , -0.78357315, -1.6722168 , -1.4454374 , -0.99462956,\n",
       "        1.494977  , -0.240971  ,  0.17329858, -1.3990008 , -0.8586819 ,\n",
       "        0.6577444 ,  0.7186972 , -0.7589313 ,  1.8185486 , -1.1773127 ,\n",
       "       -1.163152  ,  0.47320175,  1.1070602 ,  0.5524502 , -2.0135021 ,\n",
       "        1.0725251 ,  0.4314653 ,  1.7818869 , -0.12975535,  1.7155937 ,\n",
       "        0.02848444, -0.03957495, -0.94996184,  3.4210184 ,  0.83257526,\n",
       "       -0.80723554, -2.234348  ,  2.3244145 , -1.8891734 , -0.12830096,\n",
       "        0.24452491, -2.313423  , -0.42344302,  2.2488327 , -0.2500473 ],\n",
       "      dtype=float32)"
      ]
     },
     "execution_count": 56,
     "metadata": {},
     "output_type": "execute_result"
    }
   ],
   "source": [
    "from gensim.models.keyedvectors import Word2VecKeyedVectors\n",
    "\n",
    "word_vectors = Word2VecKeyedVectors.load_word2vec_format(word2vec_file_path, binary=False)\n",
    "vector = word_vectors['재미']\n",
    "vector"
   ]
  },
  {
   "cell_type": "code",
   "execution_count": 57,
   "id": "6dfdf844",
   "metadata": {
    "scrolled": false
   },
   "outputs": [
    {
     "data": {
      "text/plain": [
       "[('흥미', 0.5894554257392883),\n",
       " ('유머', 0.5884160399436951),\n",
       " ('취미', 0.5843777656555176),\n",
       " ('즐거움', 0.569054365158081),\n",
       " ('보람', 0.5675650835037231),\n",
       " ('개그', 0.5542932748794556),\n",
       " ('연애', 0.5506496429443359),\n",
       " ('이야기', 0.5425036549568176),\n",
       " ('묘미', 0.5418617725372314),\n",
       " ('감성', 0.5406346321105957)]"
      ]
     },
     "execution_count": 57,
     "metadata": {},
     "output_type": "execute_result"
    }
   ],
   "source": [
    "word_vectors.similar_by_word(\"재미\")"
   ]
  },
  {
   "cell_type": "markdown",
   "id": "e8d9c62e",
   "metadata": {},
   "source": [
    "- 3) Global max pooling 모델"
   ]
  },
  {
   "cell_type": "code",
   "execution_count": 58,
   "id": "c9e49d86",
   "metadata": {},
   "outputs": [
    {
     "name": "stdout",
     "output_type": "stream",
     "text": [
      "Model: \"sequential_5\"\n",
      "_________________________________________________________________\n",
      "Layer (type)                 Output Shape              Param #   \n",
      "=================================================================\n",
      "embedding_5 (Embedding)      (None, 41, 100)           1000000   \n",
      "_________________________________________________________________\n",
      "global_max_pooling1d_3 (Glob (None, 100)               0         \n",
      "_________________________________________________________________\n",
      "dense_9 (Dense)              (None, 8)                 808       \n",
      "_________________________________________________________________\n",
      "dense_10 (Dense)             (None, 1)                 9         \n",
      "=================================================================\n",
      "Total params: 1,000,817\n",
      "Trainable params: 1,000,817\n",
      "Non-trainable params: 0\n",
      "_________________________________________________________________\n"
     ]
    }
   ],
   "source": [
    "model_6 = tf.keras.Sequential()\n",
    "model_6.add(tf.keras.layers.Embedding(vocab_size, \n",
    "                                 word_vector_dim, \n",
    "                                 embeddings_initializer=Constant(embedding_matrix),  \n",
    "                                 input_length=maxlen, \n",
    "                                 trainable=True))   \n",
    "model_6.add(tf.keras.layers.GlobalMaxPooling1D())\n",
    "model_6.add(tf.keras.layers.Dense(8, activation='relu'))\n",
    "model_6.add(tf.keras.layers.Dense(1, activation='sigmoid'))\n",
    "\n",
    "\n",
    "model_6.summary()"
   ]
  },
  {
   "cell_type": "code",
   "execution_count": 59,
   "id": "fcf31e74",
   "metadata": {
    "scrolled": true
   },
   "outputs": [
    {
     "name": "stdout",
     "output_type": "stream",
     "text": [
      "Epoch 1/10\n",
      "198/198 [==============================] - 1s 5ms/step - loss: 0.7027 - accuracy: 0.5757 - val_loss: 0.6396 - val_accuracy: 0.6360\n",
      "Epoch 2/10\n",
      "198/198 [==============================] - 1s 4ms/step - loss: 0.6213 - accuracy: 0.6553 - val_loss: 0.6019 - val_accuracy: 0.6767\n",
      "Epoch 3/10\n",
      "198/198 [==============================] - 1s 4ms/step - loss: 0.5886 - accuracy: 0.6878 - val_loss: 0.5746 - val_accuracy: 0.7008\n",
      "Epoch 4/10\n",
      "198/198 [==============================] - 1s 4ms/step - loss: 0.5631 - accuracy: 0.7106 - val_loss: 0.5523 - val_accuracy: 0.7199\n",
      "Epoch 5/10\n",
      "198/198 [==============================] - 1s 4ms/step - loss: 0.5405 - accuracy: 0.7288 - val_loss: 0.5366 - val_accuracy: 0.7311\n",
      "Epoch 6/10\n",
      "198/198 [==============================] - 1s 4ms/step - loss: 0.5203 - accuracy: 0.7433 - val_loss: 0.5168 - val_accuracy: 0.7447\n",
      "Epoch 7/10\n",
      "198/198 [==============================] - 1s 4ms/step - loss: 0.5029 - accuracy: 0.7547 - val_loss: 0.5035 - val_accuracy: 0.7545\n",
      "Epoch 8/10\n",
      "198/198 [==============================] - 1s 4ms/step - loss: 0.4868 - accuracy: 0.7647 - val_loss: 0.4934 - val_accuracy: 0.7627\n",
      "Epoch 9/10\n",
      "198/198 [==============================] - 1s 4ms/step - loss: 0.4730 - accuracy: 0.7744 - val_loss: 0.4828 - val_accuracy: 0.7676\n",
      "Epoch 10/10\n",
      "198/198 [==============================] - 1s 4ms/step - loss: 0.4606 - accuracy: 0.7813 - val_loss: 0.4723 - val_accuracy: 0.7751\n"
     ]
    }
   ],
   "source": [
    "# 학습의 진행\n",
    "model_6.compile(optimizer='adam',\n",
    "              loss='binary_crossentropy',\n",
    "              metrics=['accuracy'])\n",
    "              \n",
    "epochs=10  \n",
    "\n",
    "history = model_6.fit(partial_X_train,\n",
    "                    partial_y_train,\n",
    "                    epochs=epochs,\n",
    "                    batch_size=512,\n",
    "                    validation_data=(X_val, y_val),\n",
    "                    verbose=1)"
   ]
  },
  {
   "cell_type": "code",
   "execution_count": 60,
   "id": "88d57c99",
   "metadata": {
    "scrolled": true
   },
   "outputs": [
    {
     "name": "stdout",
     "output_type": "stream",
     "text": [
      "1537/1537 - 2s - loss: 0.4793 - accuracy: 0.7702\n",
      "[0.47932443022727966, 0.7702056765556335]\n"
     ]
    }
   ],
   "source": [
    "results = model_6.evaluate(X_test,  y_test, verbose=2)\n",
    "\n",
    "print(results)"
   ]
  },
  {
   "cell_type": "markdown",
   "id": "76ee0f42",
   "metadata": {},
   "source": [
    "- Embedding"
   ]
  },
  {
   "cell_type": "code",
   "execution_count": 61,
   "id": "746e6179",
   "metadata": {},
   "outputs": [
    {
     "name": "stdout",
     "output_type": "stream",
     "text": [
      "(10000, 100)\n"
     ]
    }
   ],
   "source": [
    "embedding_layer = model_6.layers[0]\n",
    "weights = embedding_layer.get_weights()[0]\n",
    "print(weights.shape) "
   ]
  },
  {
   "cell_type": "code",
   "execution_count": 62,
   "id": "0d6a1f20",
   "metadata": {},
   "outputs": [],
   "source": [
    "word2vec_file_path = os.getenv('HOME')+'/aiffel/sentiment_classification/data/word2vec.txt'\n",
    "f = open(word2vec_file_path, 'w')\n",
    "f.write('{} {}\\n'.format(vocab_size-4, word_vector_dim))\n",
    "\n",
    "vectors = model_6.get_weights()[0]\n",
    "for i in range(4,vocab_size):\n",
    "    f.write('{} {}\\n'.format(index_to_word[i], ' '.join(map(str, list(vectors[i, :])))))\n",
    "f.close()"
   ]
  },
  {
   "cell_type": "code",
   "execution_count": 63,
   "id": "c0713def",
   "metadata": {
    "scrolled": true
   },
   "outputs": [
    {
     "data": {
      "text/plain": [
       "array([-4.4878754e-01, -1.4467459e+00, -3.2494924e+00,  1.2573234e+00,\n",
       "        1.8947068e-01,  1.3727838e+00,  1.6719986e-01, -2.6990793e+00,\n",
       "       -9.3271405e-01,  9.8711437e-01,  2.6287699e-01,  1.2217263e+00,\n",
       "       -3.0392289e+00, -1.7037337e-01,  1.0140899e+00,  2.3719741e-01,\n",
       "        1.2767925e+00,  6.4384866e-01,  2.2712181e+00, -2.3775148e+00,\n",
       "        5.0424111e-01,  1.3037276e+00,  1.4887810e+00, -1.9011835e+00,\n",
       "       -2.2861602e+00, -5.0139570e-01,  7.2444344e-01,  2.8450629e-01,\n",
       "        1.5825648e+00, -1.1265730e+00, -2.8436053e+00, -7.2911263e-01,\n",
       "       -2.2095640e+00,  1.8859230e+00, -2.8752780e-01, -1.2616376e+00,\n",
       "       -1.2107424e+00,  8.8700169e-01, -2.1216857e+00,  8.5556918e-01,\n",
       "       -7.7485077e-02,  8.7227386e-01, -5.3655195e-01,  4.0678658e+00,\n",
       "        1.6169792e+00,  8.5914320e-01,  1.5715870e+00, -8.7751158e-02,\n",
       "        2.3042886e+00, -2.6211133e+00,  7.8341722e-01,  3.2191529e+00,\n",
       "        1.0066509e+00, -5.9529799e-01, -9.9486661e-01, -1.4266366e+00,\n",
       "        9.9559158e-01, -7.8239524e-01,  1.1018946e+00,  1.2054231e+00,\n",
       "        2.4807177e+00, -6.3052535e-01, -1.5303712e+00, -1.5156096e+00,\n",
       "       -1.1029292e+00,  1.7987809e+00, -4.7174625e-02, -1.5884762e-01,\n",
       "       -1.2140204e+00, -8.9623594e-01,  8.7174636e-01,  1.0526742e+00,\n",
       "       -8.0339634e-01,  1.9939590e+00, -1.6415786e+00, -1.3310703e+00,\n",
       "        3.6141968e-01,  8.0331844e-01,  1.0380247e-01, -2.0857103e+00,\n",
       "        1.3083217e+00,  7.6285022e-01,  1.7996985e+00,  7.8668017e-03,\n",
       "        1.8323408e+00,  1.4519804e-03, -1.0631537e-01, -9.6005017e-01,\n",
       "        4.0738468e+00,  5.8922172e-01, -6.2010121e-01, -2.5276523e+00,\n",
       "        2.5923903e+00, -1.6941985e+00,  3.6329749e-01, -2.2940915e-02,\n",
       "       -2.4332192e+00, -3.1440321e-01,  2.0505769e+00, -3.2010970e-01],\n",
       "      dtype=float32)"
      ]
     },
     "execution_count": 63,
     "metadata": {},
     "output_type": "execute_result"
    }
   ],
   "source": [
    "from gensim.models.keyedvectors import Word2VecKeyedVectors\n",
    "\n",
    "word_vectors = Word2VecKeyedVectors.load_word2vec_format(word2vec_file_path, binary=False)\n",
    "vector = word_vectors['재미']\n",
    "vector"
   ]
  },
  {
   "cell_type": "code",
   "execution_count": 64,
   "id": "c10795ae",
   "metadata": {
    "scrolled": false
   },
   "outputs": [
    {
     "data": {
      "text/plain": [
       "[('묘미', 0.6152012944221497),\n",
       " ('취미', 0.597612738609314),\n",
       " ('흥미', 0.588805615901947),\n",
       " ('유머', 0.5813016891479492),\n",
       " ('보람', 0.5715156197547913),\n",
       " ('이야기', 0.5625768899917603),\n",
       " ('즐거움', 0.552841067314148),\n",
       " ('개그', 0.5514690279960632),\n",
       " ('재주', 0.5455477833747864),\n",
       " ('연애', 0.5446282029151917)]"
      ]
     },
     "execution_count": 64,
     "metadata": {},
     "output_type": "execute_result"
    }
   ],
   "source": [
    "word_vectors.similar_by_word(\"재미\")"
   ]
  },
  {
   "cell_type": "markdown",
   "id": "6387e77c",
   "metadata": {},
   "source": [
    "#### 리뷰 예측 해보기"
   ]
  },
  {
   "cell_type": "code",
   "execution_count": 65,
   "id": "6a04b2ae",
   "metadata": {},
   "outputs": [],
   "source": [
    "Tokenizer = Mecab()\n",
    "\n",
    "def sentiment_predict(new_sentence):\n",
    "    new_sentence = tokenizer.morphs(new_sentence) # 토큰화\n",
    "    new_sentence.insert(0, '<BOS>')\n",
    "    new_sentence = [word for word in new_sentence if not word in stopwords] # 불용어 제거\n",
    "\n",
    "    def wordlist_to_indexlist(wordlist):\n",
    "        return [word_to_index[word] if word in word_to_index else word_to_index['<UNK>'] for word in wordlist]\n",
    "\n",
    "    new_sentence = wordlist_to_indexlist(new_sentence) # encoding\n",
    "    new_sentence = [new_sentence]\n",
    "\n",
    "    new_sentence = tf.keras.preprocessing.sequence.pad_sequences(new_sentence,\n",
    "                                                    value=word_to_index[\"<PAD>\"],\n",
    "                                                    padding='pre',\n",
    "                                                    maxlen=maxlen)\n",
    "    \n",
    "    score = float(model_4.predict(new_sentence)) # 예측\n",
    "    \n",
    "    if score > 0.5:\n",
    "        print(\"{:.2f}% 확률로 긍정 리뷰입니다.\\n\".format(score * 100))\n",
    "    else:\n",
    "        print(\"{:.2f}% 확률로 부정 리뷰입니다.\\n\".format((1 - score) * 100))"
   ]
  },
  {
   "cell_type": "code",
   "execution_count": 66,
   "id": "74dfcb97",
   "metadata": {},
   "outputs": [
    {
     "name": "stdout",
     "output_type": "stream",
     "text": [
      "이건 신의 걸작이다 정말 재밌음.\n",
      "99.74% 확률로 긍정 리뷰입니다.\n",
      "\n",
      "None\n",
      "배우분들 연기는 좋아요~소재가 신박해서 봤는데 처음엔 픽픽 웃으며 재밌었으나 중반부턴 루즈한 감이,,,ㅠㅠㅠ\n",
      "83.29% 확률로 긍정 리뷰입니다.\n",
      "\n",
      "None\n",
      "시간아까워서 중간에나옴\n",
      "99.99% 확률로 부정 리뷰입니다.\n",
      "\n",
      "None\n",
      "90년대식 전라도식 꼴통 무비 개핵노잼ㅜ\n",
      "99.77% 확률로 부정 리뷰입니다.\n",
      "\n",
      "None\n",
      "어줍짢은 마블 영화보다 훨씬 재밌었음\n",
      "95.84% 확률로 긍정 리뷰입니다.\n",
      "\n",
      "None\n",
      "저예산 영화임에도 주인공들 연기가 넘 자연스럽고 음향.효과가 영화분위기 압도...사람과 사회에 대해 생각을 많이 하게 하는 작품이었습니다.\n",
      "99.69% 확률로 긍정 리뷰입니다.\n",
      "\n",
      "None\n",
      "일상생활에 있는 스토리로 스릴러를 만들어서 그런지 이입이 더 잘되었으며 오랜만에 긴장하면서 영화 본것같다.\n",
      "99.96% 확률로 긍정 리뷰입니다.\n",
      "\n",
      "None\n"
     ]
    }
   ],
   "source": [
    "def scores():\n",
    "    text_arr = [\n",
    "    '이건 신의 걸작이다 정말 재밌음.',\n",
    "    '배우분들 연기는 좋아요~소재가 신박해서 봤는데 처음엔 픽픽 웃으며 재밌었으나 중반부턴 루즈한 감이,,,ㅠㅠㅠ',\n",
    "    '시간아까워서 중간에나옴',\n",
    "    '90년대식 전라도식 꼴통 무비 개핵노잼ㅜ',\n",
    "    '어줍짢은 마블 영화보다 훨씬 재밌었음',\n",
    "    '저예산 영화임에도 주인공들 연기가 넘 자연스럽고 음향.효과가 영화분위기 압도...사람과 사회에 대해 생각을 많이 하게 하는 작품이었습니다.',\n",
    "    '일상생활에 있는 스토리로 스릴러를 만들어서 그런지 이입이 더 잘되었으며 오랜만에 긴장하면서 영화 본것같다.'\n",
    "    ]\n",
    "    \n",
    "    for i in text_arr:\n",
    "        print(i)\n",
    "        score = sentiment_predict(i)\n",
    "        print(score)\n",
    "    \n",
    "scores()"
   ]
  },
  {
   "cell_type": "markdown",
   "id": "d6218d0c",
   "metadata": {},
   "source": [
    "## 회고"
   ]
  },
  {
   "cell_type": "markdown",
   "id": "61f61f37",
   "metadata": {},
   "source": [
    "- 어려웠던 점 : 한국어 Word2Vec 임베딩 활용하여 성능 개선을 했을때 처음 설정하는 법이 어려웠다.\n",
    "- 알아낸 점 및 모호한 점 : 사전에 학습된 한국어 embedding 한 결과가 '재미' 라는 단어에 더 유사성이 있는 결과가 나왔다. 결과적으로 한국어 Word2Vec을 하기 전에는 정확도가 85%가 넘지 않았는데, 하고나서 LSTM만 정확도가 85%을 넘었다.\n",
    "- 노력한 점 : epoch에 따라 정확도가 달라져서 최대한 정확도를 높게 받을 수 있도록 찾아봤다. \n",
    "- 자기다짐 : 주로 리뷰 긍정, 부정 예측하는데 있어서 토큰화를 하는 과정을 자세히 알아야 겠다. model의 shape을 설정하는 것을 조금 더 공부해야겠다."
   ]
  }
 ],
 "metadata": {
  "kernelspec": {
   "display_name": "Python 3 (ipykernel)",
   "language": "python",
   "name": "python3"
  },
  "language_info": {
   "codemirror_mode": {
    "name": "ipython",
    "version": 3
   },
   "file_extension": ".py",
   "mimetype": "text/x-python",
   "name": "python",
   "nbconvert_exporter": "python",
   "pygments_lexer": "ipython3",
   "version": "3.9.7"
  }
 },
 "nbformat": 4,
 "nbformat_minor": 5
}
