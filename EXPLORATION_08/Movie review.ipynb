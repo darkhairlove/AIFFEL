{
 "cells": [
  {
   "cell_type": "code",
   "execution_count": 1,
   "id": "c0e879a7",
   "metadata": {},
   "outputs": [
    {
     "name": "stdout",
     "output_type": "stream",
     "text": [
      "1.3.3\n",
      "0.5.2\n",
      "4.1.2\n"
     ]
    }
   ],
   "source": [
    "import pandas\n",
    "import konlpy\n",
    "import gensim\n",
    "\n",
    "print(pandas.__version__)\n",
    "print(konlpy.__version__)\n",
    "print(gensim.__version__)"
   ]
  },
  {
   "cell_type": "markdown",
   "id": "cb784f05",
   "metadata": {},
   "source": [
    "## 1. 데이터 준비와 확인"
   ]
  },
  {
   "cell_type": "code",
   "execution_count": 2,
   "id": "1785e357",
   "metadata": {},
   "outputs": [
    {
     "data": {
      "text/html": [
       "<div>\n",
       "<style scoped>\n",
       "    .dataframe tbody tr th:only-of-type {\n",
       "        vertical-align: middle;\n",
       "    }\n",
       "\n",
       "    .dataframe tbody tr th {\n",
       "        vertical-align: top;\n",
       "    }\n",
       "\n",
       "    .dataframe thead th {\n",
       "        text-align: right;\n",
       "    }\n",
       "</style>\n",
       "<table border=\"1\" class=\"dataframe\">\n",
       "  <thead>\n",
       "    <tr style=\"text-align: right;\">\n",
       "      <th></th>\n",
       "      <th>id</th>\n",
       "      <th>document</th>\n",
       "      <th>label</th>\n",
       "    </tr>\n",
       "  </thead>\n",
       "  <tbody>\n",
       "    <tr>\n",
       "      <th>0</th>\n",
       "      <td>9976970</td>\n",
       "      <td>아 더빙.. 진짜 짜증나네요 목소리</td>\n",
       "      <td>0</td>\n",
       "    </tr>\n",
       "    <tr>\n",
       "      <th>1</th>\n",
       "      <td>3819312</td>\n",
       "      <td>흠...포스터보고 초딩영화줄....오버연기조차 가볍지 않구나</td>\n",
       "      <td>1</td>\n",
       "    </tr>\n",
       "    <tr>\n",
       "      <th>2</th>\n",
       "      <td>10265843</td>\n",
       "      <td>너무재밓었다그래서보는것을추천한다</td>\n",
       "      <td>0</td>\n",
       "    </tr>\n",
       "    <tr>\n",
       "      <th>3</th>\n",
       "      <td>9045019</td>\n",
       "      <td>교도소 이야기구먼 ..솔직히 재미는 없다..평점 조정</td>\n",
       "      <td>0</td>\n",
       "    </tr>\n",
       "    <tr>\n",
       "      <th>4</th>\n",
       "      <td>6483659</td>\n",
       "      <td>사이몬페그의 익살스런 연기가 돋보였던 영화!스파이더맨에서 늙어보이기만 했던 커스틴 ...</td>\n",
       "      <td>1</td>\n",
       "    </tr>\n",
       "  </tbody>\n",
       "</table>\n",
       "</div>"
      ],
      "text/plain": [
       "         id                                           document  label\n",
       "0   9976970                                아 더빙.. 진짜 짜증나네요 목소리      0\n",
       "1   3819312                  흠...포스터보고 초딩영화줄....오버연기조차 가볍지 않구나      1\n",
       "2  10265843                                  너무재밓었다그래서보는것을추천한다      0\n",
       "3   9045019                      교도소 이야기구먼 ..솔직히 재미는 없다..평점 조정      0\n",
       "4   6483659  사이몬페그의 익살스런 연기가 돋보였던 영화!스파이더맨에서 늙어보이기만 했던 커스틴 ...      1"
      ]
     },
     "execution_count": 2,
     "metadata": {},
     "output_type": "execute_result"
    }
   ],
   "source": [
    "import pandas as pd\n",
    "\n",
    "# 데이터를 읽어봅시다. \n",
    "train_data = pd.read_table('~/aiffel/sentiment_classification/data/ratings_train.txt')\n",
    "test_data = pd.read_table('~/aiffel/sentiment_classification/data/ratings_test.txt')\n",
    "\n",
    "train_data.head()"
   ]
  },
  {
   "cell_type": "markdown",
   "id": "7b69fa81",
   "metadata": {},
   "source": [
    "## 2. 데이터로더 구성"
   ]
  },
  {
   "cell_type": "code",
   "execution_count": 3,
   "id": "bc74ffaa",
   "metadata": {},
   "outputs": [],
   "source": [
    "from konlpy.tag import Mecab\n",
    "import numpy as np\n",
    "from collections import Counter\n",
    "\n",
    "tokenizer = Mecab()\n",
    "stopwords = ['의','가','이','은','들','는','좀','잘','걍','과','도','를','으로','자','에','와','한','하다']\n",
    "\n",
    "def load_data(train_data, test_data, num_words=10000):\n",
    "    train_data.drop_duplicates(subset=['document'], inplace=True)\n",
    "    train_data = train_data.dropna(how = 'any') \n",
    "    test_data.drop_duplicates(subset=['document'], inplace=True)\n",
    "    test_data = test_data.dropna(how = 'any') \n",
    "    \n",
    "    X_train = []\n",
    "    for sentence in train_data['document']:\n",
    "        temp_X = tokenizer.morphs(sentence) # 토큰화\n",
    "        temp_X = [word for word in temp_X if not word in stopwords] # 불용어 제거\n",
    "        X_train.append(temp_X)\n",
    "\n",
    "    X_test = []\n",
    "    for sentence in test_data['document']:\n",
    "        temp_X = tokenizer.morphs(sentence) # 토큰화\n",
    "        temp_X = [word for word in temp_X if not word in stopwords] # 불용어 제거\n",
    "        X_test.append(temp_X)\n",
    "    \n",
    "    words = np.concatenate(X_train).tolist()\n",
    "    counter = Counter(words)\n",
    "    counter = counter.most_common(10000-4)\n",
    "    vocab = ['<PAD>', '<BOS>', '<UNK>', '<UNUSED>'] + [key for key, _ in counter]\n",
    "    word_to_index = {word:index for index, word in enumerate(vocab)}\n",
    "        \n",
    "    def wordlist_to_indexlist(wordlist):\n",
    "        return [word_to_index[word] if word in word_to_index else word_to_index['<UNUSED>'] for word in wordlist]\n",
    "        \n",
    "    X_train = list(map(wordlist_to_indexlist, X_train))\n",
    "    X_test = list(map(wordlist_to_indexlist, X_test))\n",
    "        \n",
    "    return X_train, np.array(list(train_data['label'])), X_test, np.array(list(test_data['label'])), word_to_index\n",
    "    \n",
    "X_train, y_train, X_test, y_test, word_to_index = load_data(train_data, test_data) \n"
   ]
  },
  {
   "cell_type": "code",
   "execution_count": 4,
   "id": "9b63f302",
   "metadata": {},
   "outputs": [],
   "source": [
    "word_to_index[\"<PAD>\"] = 0\n",
    "word_to_index[\"<BOS>\"] = 1\n",
    "word_to_index[\"<UNK>\"] = 2  # unknown\n",
    "index_to_word = {index:word for word, index in word_to_index.items()}"
   ]
  },
  {
   "cell_type": "code",
   "execution_count": 5,
   "id": "76420cfe",
   "metadata": {},
   "outputs": [],
   "source": [
    "# 문장 1개를 활용할 딕셔너리와 함께 주면, 단어 인덱스 리스트 벡터로 변환해 주는 함수 \n",
    "# 단, 모든 문장은 <BOS>로 시작. \n",
    "def get_encoded_sentence(sentence, word_to_index):\n",
    "    return [word_to_index['<BOS>']]+[word_to_index[word] if word in word_to_index else word_to_index['<UNK>'] for word in sentence.split()]\n",
    "\n",
    "# 여러 개의 문장 리스트를 한꺼번에 단어 인덱스 리스트 벡터로 encode해 주는 함수. \n",
    "def get_encoded_sentences(sentences, word_to_index):\n",
    "    return [get_encoded_sentence(sentence, word_to_index) for sentence in sentences]\n",
    "\n",
    "# 숫자 벡터로 encode된 문장을 원래대로 decode하는 함수. \n",
    "def get_decoded_sentence(encoded_sentence, index_to_word):\n",
    "    return ' '.join(index_to_word[index] if index in index_to_word else '<UNK>' for index in encoded_sentence[1:])  #[1:]를 통해 <BOS>를 제외\n",
    "\n",
    "# 여러 개의 숫자 벡터로 encode된 문장을 한꺼번에 원래대로 decode하는 함수. \n",
    "def get_decoded_sentences(encoded_sentences, index_to_word):\n",
    "    return [get_decoded_sentence(encoded_sentence, index_to_word) for encoded_sentence in encoded_sentences]"
   ]
  },
  {
   "cell_type": "markdown",
   "id": "81d1c687",
   "metadata": {},
   "source": [
    "## 3. 모델 구성을 위한 데이터 분석 및 가공"
   ]
  },
  {
   "cell_type": "markdown",
   "id": "c7c48ba9",
   "metadata": {},
   "source": [
    "- 데이터셋 내 문장 길이 분포\n",
    "- 적절한 최대 문장 길이 지정\n",
    "- keras.preprocessing.sequence.pad_sequences 을 활용한 패딩 추가\n"
   ]
  },
  {
   "cell_type": "code",
   "execution_count": 6,
   "id": "9ae7e632",
   "metadata": {},
   "outputs": [
    {
     "name": "stdout",
     "output_type": "stream",
     "text": [
      "문장길이 평균 :  15.96940191154864\n",
      "문장길이 최대 :  116\n",
      "문장길이 표준편차 :  12.843571191092\n",
      "pad_sequences maxlen :  41\n",
      "전체 문장의 0.9342988343341575%가 maxlen 설정값 이내에 포함됩니다. \n"
     ]
    }
   ],
   "source": [
    "total_data_text = list(X_train) + list(X_test)\n",
    "num_tokens = [len(tokens) for tokens in total_data_text]\n",
    "num_tokens = np.array(num_tokens)\n",
    "print('문장길이 평균 : ', np.mean(num_tokens))\n",
    "print('문장길이 최대 : ', np.max(num_tokens))\n",
    "print('문장길이 표준편차 : ', np.std(num_tokens))\n",
    "max_tokens = np.mean(num_tokens) + 2 * np.std(num_tokens)\n",
    "maxlen = int(max_tokens)\n",
    "print('pad_sequences maxlen : ', maxlen)\n",
    "print('전체 문장의 {}%가 maxlen 설정값 이내에 포함됩니다. '.format(np.sum(num_tokens < max_tokens) / len(num_tokens)))"
   ]
  },
  {
   "cell_type": "code",
   "execution_count": 7,
   "id": "8f9eb12e",
   "metadata": {},
   "outputs": [
    {
     "name": "stdout",
     "output_type": "stream",
     "text": [
      "(146182, 41)\n"
     ]
    }
   ],
   "source": [
    "import numpy as np\n",
    "import tensorflow as tf\n",
    "\n",
    "X_train = tf.keras.preprocessing.sequence.pad_sequences(X_train,\n",
    "                                                        value=word_to_index[\"<PAD>\"],\n",
    "                                                        padding='pre',\n",
    "                                                        maxlen=maxlen)\n",
    "\n",
    "X_test = tf.keras.preprocessing.sequence.pad_sequences(X_test,\n",
    "                                                       value=word_to_index[\"<PAD>\"],\n",
    "                                                       padding='pre', \n",
    "                                                       maxlen=maxlen)\n",
    "\n",
    "print(X_train.shape)"
   ]
  },
  {
   "cell_type": "markdown",
   "id": "cfd4cc41",
   "metadata": {},
   "source": [
    "## 4. 모델 구성 및 validation set 구성"
   ]
  },
  {
   "cell_type": "markdown",
   "id": "08499c8b",
   "metadata": {},
   "source": [
    "### 1) LSTM 모델"
   ]
  },
  {
   "cell_type": "code",
   "execution_count": 8,
   "id": "cc936bb8",
   "metadata": {},
   "outputs": [
    {
     "name": "stdout",
     "output_type": "stream",
     "text": [
      "Model: \"sequential\"\n",
      "_________________________________________________________________\n",
      "Layer (type)                 Output Shape              Param #   \n",
      "=================================================================\n",
      "embedding (Embedding)        (None, None, 16)          160000    \n",
      "_________________________________________________________________\n",
      "lstm (LSTM)                  (None, 8)                 800       \n",
      "_________________________________________________________________\n",
      "dense (Dense)                (None, 8)                 72        \n",
      "_________________________________________________________________\n",
      "dense_1 (Dense)              (None, 1)                 9         \n",
      "=================================================================\n",
      "Total params: 160,881\n",
      "Trainable params: 160,881\n",
      "Non-trainable params: 0\n",
      "_________________________________________________________________\n"
     ]
    }
   ],
   "source": [
    "vocab_size = 10000    # 어휘 사전의 크기\n",
    "word_vector_dim = 16  # 워드 벡터의 차원 수\n",
    "\n",
    "model_1 = tf.keras.Sequential()\n",
    "model_1.add(tf.keras.layers.Embedding(vocab_size, word_vector_dim, input_shape=(None,)))\n",
    "model_1.add(tf.keras.layers.LSTM(8))\n",
    "model_1.add(tf.keras.layers.Dense(8, activation='relu'))\n",
    "model_1.add(tf.keras.layers.Dense(1, activation='sigmoid'))  # 최종 출력은 긍정/부정을 나타내는 1dim \n",
    "\n",
    "model_1.summary()"
   ]
  },
  {
   "cell_type": "code",
   "execution_count": 9,
   "id": "f2942045",
   "metadata": {},
   "outputs": [
    {
     "name": "stdout",
     "output_type": "stream",
     "text": [
      "(45000, 41)\n",
      "(45000,)\n",
      "(101182, 41)\n",
      "(101182,)\n"
     ]
    }
   ],
   "source": [
    "# 대략 1/3로 나눠지기 위해  train set(101182), val set(45000)으로 정하였다\n",
    "X_val = X_train[:45000]   \n",
    "y_val = y_train[:45000]\n",
    "\n",
    "partial_X_train = X_train[45000:]  \n",
    "partial_y_train = y_train[45000:]\n",
    "\n",
    "print(X_val.shape)\n",
    "print(y_val.shape)\n",
    "print(partial_X_train.shape)\n",
    "print(partial_y_train.shape)"
   ]
  },
  {
   "cell_type": "code",
   "execution_count": 10,
   "id": "93cbcdbd",
   "metadata": {},
   "outputs": [
    {
     "name": "stdout",
     "output_type": "stream",
     "text": [
      "Epoch 1/10\n",
      "198/198 [==============================] - 5s 8ms/step - loss: 0.5486 - accuracy: 0.7379 - val_loss: 0.4018 - val_accuracy: 0.8314\n",
      "Epoch 2/10\n",
      "198/198 [==============================] - 1s 6ms/step - loss: 0.3557 - accuracy: 0.8530 - val_loss: 0.3505 - val_accuracy: 0.8496\n",
      "Epoch 3/10\n",
      "198/198 [==============================] - 1s 6ms/step - loss: 0.3194 - accuracy: 0.8667 - val_loss: 0.3476 - val_accuracy: 0.8502\n",
      "Epoch 4/10\n",
      "198/198 [==============================] - 1s 6ms/step - loss: 0.3015 - accuracy: 0.8756 - val_loss: 0.3488 - val_accuracy: 0.8512\n",
      "Epoch 5/10\n",
      "198/198 [==============================] - 1s 6ms/step - loss: 0.2893 - accuracy: 0.8818 - val_loss: 0.3522 - val_accuracy: 0.8494\n",
      "Epoch 6/10\n",
      "198/198 [==============================] - 1s 6ms/step - loss: 0.2780 - accuracy: 0.8874 - val_loss: 0.3566 - val_accuracy: 0.8507\n",
      "Epoch 7/10\n",
      "198/198 [==============================] - 1s 6ms/step - loss: 0.2666 - accuracy: 0.8930 - val_loss: 0.3636 - val_accuracy: 0.8475\n",
      "Epoch 8/10\n",
      "198/198 [==============================] - 1s 6ms/step - loss: 0.2572 - accuracy: 0.8972 - val_loss: 0.3702 - val_accuracy: 0.8461\n",
      "Epoch 9/10\n",
      "198/198 [==============================] - 1s 6ms/step - loss: 0.2495 - accuracy: 0.9013 - val_loss: 0.3823 - val_accuracy: 0.8456\n",
      "Epoch 10/10\n",
      "198/198 [==============================] - 1s 6ms/step - loss: 0.2406 - accuracy: 0.9053 - val_loss: 0.3933 - val_accuracy: 0.8450\n"
     ]
    }
   ],
   "source": [
    "model_1.compile(optimizer='adam',\n",
    "              loss='binary_crossentropy',\n",
    "              metrics=['accuracy'])\n",
    "              \n",
    "epochs=10 \n",
    "\n",
    "history = model_1.fit(partial_X_train,\n",
    "                    partial_y_train,\n",
    "                    epochs=epochs,\n",
    "                    batch_size=512,\n",
    "                    validation_data=(X_val, y_val),\n",
    "                    verbose=1)"
   ]
  },
  {
   "cell_type": "code",
   "execution_count": 11,
   "id": "dfee83a8",
   "metadata": {},
   "outputs": [
    {
     "name": "stdout",
     "output_type": "stream",
     "text": [
      "1537/1537 - 3s - loss: 0.4044 - accuracy: 0.8399\n",
      "[0.40438413619995117, 0.8399007320404053]\n"
     ]
    }
   ],
   "source": [
    "results = model_1.evaluate(X_test,  y_test, verbose=2)\n",
    "\n",
    "print(results)"
   ]
  },
  {
   "cell_type": "code",
   "execution_count": 12,
   "id": "4cba3cb4",
   "metadata": {},
   "outputs": [
    {
     "name": "stdout",
     "output_type": "stream",
     "text": [
      "dict_keys(['loss', 'accuracy', 'val_loss', 'val_accuracy'])\n"
     ]
    }
   ],
   "source": [
    "history_dict = history.history\n",
    "print(history_dict.keys())"
   ]
  },
  {
   "cell_type": "code",
   "execution_count": 13,
   "id": "bc8e635e",
   "metadata": {},
   "outputs": [
    {
     "data": {
      "image/png": "[encoded data removed]",
      "text/plain": [
       "<Figure size 432x288 with 1 Axes>"
      ]
     },
     "metadata": {
      "needs_background": "light"
     },
     "output_type": "display_data"
    }
   ],
   "source": [
    "import matplotlib.pyplot as plt\n",
    "\n",
    "acc = history_dict['accuracy']\n",
    "val_acc = history_dict['val_accuracy']\n",
    "loss = history_dict['loss']\n",
    "val_loss = history_dict['val_loss']\n",
    "\n",
    "epochs = range(1, len(acc) + 1)\n",
    "\n",
    "# \"bo\"는 \"파란색 점\"\n",
    "plt.plot(epochs, loss, 'bo', label='Training loss')\n",
    "# b는 \"파란 실선\"\n",
    "plt.plot(epochs, val_loss, 'b', label='Validation loss')\n",
    "plt.title('Training and validation loss')\n",
    "plt.xlabel('Epochs')\n",
    "plt.ylabel('Loss')\n",
    "plt.legend()\n",
    "\n",
    "plt.show()"
   ]
  },
  {
   "cell_type": "code",
   "execution_count": 14,
   "id": "67257b6e",
   "metadata": {
    "scrolled": false
   },
   "outputs": [
    {
     "data": {
      "image/png": "[encoded data removed]",
      "text/plain": [
       "<Figure size 432x288 with 1 Axes>"
      ]
     },
     "metadata": {
      "needs_background": "light"
     },
     "output_type": "display_data"
    }
   ],
   "source": [
    "plt.clf()\n",
    "\n",
    "plt.plot(epochs, acc, 'bo', label='Training acc')\n",
    "plt.plot(epochs, val_acc, 'b', label='Validation acc')\n",
    "plt.title('Training and validation accuracy')\n",
    "plt.xlabel('Epochs')\n",
    "plt.ylabel('Accuracy')\n",
    "plt.legend()\n",
    "\n",
    "plt.show()"
   ]
  },
  {
   "cell_type": "markdown",
   "id": "c25c97f9",
   "metadata": {},
   "source": [
    "## 4. 학습된 Embedding 레이어 분석"
   ]
  },
  {
   "cell_type": "code",
   "execution_count": 15,
   "id": "4d41e2e9",
   "metadata": {},
   "outputs": [
    {
     "name": "stdout",
     "output_type": "stream",
     "text": [
      "(10000, 16)\n"
     ]
    }
   ],
   "source": [
    "embedding_layer = model_1.layers[0]\n",
    "weights = embedding_layer.get_weights()[0]\n",
    "print(weights.shape) "
   ]
  },
  {
   "cell_type": "code",
   "execution_count": 16,
   "id": "f3c7f2f1",
   "metadata": {},
   "outputs": [],
   "source": [
    "import os\n",
    "\n",
    "word2vec_file_path = os.getenv('HOME')+'/aiffel/sentiment_classification/data/word2vec.txt'\n",
    "f = open(word2vec_file_path, 'w')\n",
    "f.write('{} {}\\n'.format(vocab_size-4, word_vector_dim))\n",
    "\n",
    "vectors = model_1.get_weights()[0]\n",
    "for i in range(4,vocab_size):\n",
    "    f.write('{} {}\\n'.format(index_to_word[i], ' '.join(map(str, list(vectors[i, :])))))\n",
    "f.close()"
   ]
  },
  {
   "cell_type": "code",
   "execution_count": 17,
   "id": "328b2b16",
   "metadata": {},
   "outputs": [
    {
     "data": {
      "text/plain": [
       "array([-0.4913856 ,  0.15468393,  0.137691  , -0.13577399,  0.01035729,\n",
       "        0.14501767, -0.45673418, -0.194047  , -0.12340724,  0.11523084,\n",
       "       -0.15800294,  0.10638116, -0.05362372, -0.14107382,  0.14487956,\n",
       "       -0.14236735], dtype=float32)"
      ]
     },
     "execution_count": 17,
     "metadata": {},
     "output_type": "execute_result"
    }
   ],
   "source": [
    "from gensim.models.keyedvectors import Word2VecKeyedVectors\n",
    "\n",
    "word_vectors = Word2VecKeyedVectors.load_word2vec_format(word2vec_file_path, binary=False)\n",
    "vector = word_vectors['지루']\n",
    "vector"
   ]
  },
  {
   "cell_type": "code",
   "execution_count": 18,
   "id": "eb27d0d1",
   "metadata": {},
   "outputs": [
    {
     "data": {
      "text/plain": [
       "[('별로', 0.9574987292289734),\n",
       " ('1', 0.9536287188529968),\n",
       " ('싫', 0.9477510452270508),\n",
       " ('재미없', 0.9469181299209595),\n",
       " ('욕', 0.9438011646270752),\n",
       " ('관가', 0.9427165389060974),\n",
       " ('실망', 0.941396951675415),\n",
       " ('고문', 0.9389563798904419),\n",
       " ('약하', 0.9373999238014221),\n",
       " ('멸망', 0.9330126643180847)]"
      ]
     },
     "execution_count": 18,
     "metadata": {},
     "output_type": "execute_result"
    }
   ],
   "source": [
    "word_vectors.similar_by_word(\"지루\")"
   ]
  },
  {
   "cell_type": "markdown",
   "id": "d3e8367c",
   "metadata": {},
   "source": [
    "### 2) Convolution Neural Network(1-D CNN)모델"
   ]
  },
  {
   "cell_type": "code",
   "execution_count": 19,
   "id": "f0a04802",
   "metadata": {
    "scrolled": false
   },
   "outputs": [
    {
     "name": "stdout",
     "output_type": "stream",
     "text": [
      "Model: \"sequential_1\"\n",
      "_________________________________________________________________\n",
      "Layer (type)                 Output Shape              Param #   \n",
      "=================================================================\n",
      "embedding_1 (Embedding)      (None, None, 16)          160000    \n",
      "_________________________________________________________________\n",
      "conv1d (Conv1D)              (None, None, 16)          1808      \n",
      "_________________________________________________________________\n",
      "max_pooling1d (MaxPooling1D) (None, None, 16)          0         \n",
      "_________________________________________________________________\n",
      "conv1d_1 (Conv1D)            (None, None, 16)          1808      \n",
      "_________________________________________________________________\n",
      "global_max_pooling1d (Global (None, 16)                0         \n",
      "_________________________________________________________________\n",
      "dense_2 (Dense)              (None, 8)                 136       \n",
      "_________________________________________________________________\n",
      "dense_3 (Dense)              (None, 1)                 9         \n",
      "=================================================================\n",
      "Total params: 163,761\n",
      "Trainable params: 163,761\n",
      "Non-trainable params: 0\n",
      "_________________________________________________________________\n"
     ]
    }
   ],
   "source": [
    "vocab_size = 10000  \n",
    "word_vector_dim = 16   \n",
    "\n",
    "model_2 = tf.keras.Sequential()\n",
    "model_2.add(tf.keras.layers.Embedding(vocab_size, word_vector_dim, input_shape=(None,)))\n",
    "model_2.add(tf.keras.layers.Conv1D(16, 7, activation='relu'))\n",
    "model_2.add(tf.keras.layers.MaxPooling1D(5))\n",
    "model_2.add(tf.keras.layers.Conv1D(16, 7, activation='relu'))\n",
    "model_2.add(tf.keras.layers.GlobalMaxPooling1D())\n",
    "model_2.add(tf.keras.layers.Dense(8, activation='relu'))\n",
    "model_2.add(tf.keras.layers.Dense(1, activation='sigmoid'))\n",
    "model_2.summary()"
   ]
  },
  {
   "cell_type": "code",
   "execution_count": 20,
   "id": "4d53faf5",
   "metadata": {},
   "outputs": [
    {
     "name": "stdout",
     "output_type": "stream",
     "text": [
      "Epoch 1/10\n",
      "198/198 [==============================] - 3s 6ms/step - loss: 0.5108 - accuracy: 0.7432 - val_loss: 0.3572 - val_accuracy: 0.8446\n",
      "Epoch 2/10\n",
      "198/198 [==============================] - 1s 5ms/step - loss: 0.3298 - accuracy: 0.8588 - val_loss: 0.3401 - val_accuracy: 0.8507\n",
      "Epoch 3/10\n",
      "198/198 [==============================] - 1s 5ms/step - loss: 0.2927 - accuracy: 0.8773 - val_loss: 0.3398 - val_accuracy: 0.8525\n",
      "Epoch 4/10\n",
      "198/198 [==============================] - 1s 5ms/step - loss: 0.2638 - accuracy: 0.8929 - val_loss: 0.3482 - val_accuracy: 0.8514\n",
      "Epoch 5/10\n",
      "198/198 [==============================] - 1s 5ms/step - loss: 0.2329 - accuracy: 0.9082 - val_loss: 0.3553 - val_accuracy: 0.8507\n",
      "Epoch 6/10\n",
      "198/198 [==============================] - 1s 5ms/step - loss: 0.1996 - accuracy: 0.9251 - val_loss: 0.3815 - val_accuracy: 0.8491\n",
      "Epoch 7/10\n",
      "198/198 [==============================] - 1s 5ms/step - loss: 0.1669 - accuracy: 0.9399 - val_loss: 0.4156 - val_accuracy: 0.8433\n",
      "Epoch 8/10\n",
      "198/198 [==============================] - 1s 5ms/step - loss: 0.1361 - accuracy: 0.9539 - val_loss: 0.4574 - val_accuracy: 0.8414\n",
      "Epoch 9/10\n",
      "198/198 [==============================] - 1s 5ms/step - loss: 0.1107 - accuracy: 0.9639 - val_loss: 0.5056 - val_accuracy: 0.8369\n",
      "Epoch 10/10\n",
      "198/198 [==============================] - 1s 5ms/step - loss: 0.0907 - accuracy: 0.9721 - val_loss: 0.5565 - val_accuracy: 0.8333\n"
     ]
    }
   ],
   "source": [
    "model_2.compile(optimizer='adam',\n",
    "              loss='binary_crossentropy',\n",
    "              metrics=['accuracy'])\n",
    "              \n",
    "epochs=10  # 몇 epoch를 훈련하면 좋을지 결과를 보면서 바꾸어 봅시다. \n",
    "\n",
    "history = model_2.fit(partial_X_train,\n",
    "                    partial_y_train,\n",
    "                    epochs=epochs,\n",
    "                    batch_size=512,\n",
    "                    validation_data=(X_val, y_val),\n",
    "                    verbose=1)"
   ]
  },
  {
   "cell_type": "code",
   "execution_count": 21,
   "id": "27b7f460",
   "metadata": {
    "scrolled": true
   },
   "outputs": [
    {
     "name": "stdout",
     "output_type": "stream",
     "text": [
      "1537/1537 - 2s - loss: 0.5747 - accuracy: 0.8282\n",
      "[0.5747007727622986, 0.8281628489494324]\n"
     ]
    }
   ],
   "source": [
    "results = model_2.evaluate(X_test,  y_test, verbose=2)\n",
    "\n",
    "print(results)"
   ]
  },
  {
   "cell_type": "code",
   "execution_count": 22,
   "id": "aed8d8ff",
   "metadata": {},
   "outputs": [
    {
     "name": "stdout",
     "output_type": "stream",
     "text": [
      "dict_keys(['loss', 'accuracy', 'val_loss', 'val_accuracy'])\n"
     ]
    }
   ],
   "source": [
    "history_dict = history.history\n",
    "print(history_dict.keys())"
   ]
  },
  {
   "cell_type": "code",
   "execution_count": 23,
   "id": "fde091f8",
   "metadata": {},
   "outputs": [
    {
     "data": {
      "image/png": "[encoded data removed]",
      "text/plain": [
       "<Figure size 432x288 with 1 Axes>"
      ]
     },
     "metadata": {
      "needs_background": "light"
     },
     "output_type": "display_data"
    }
   ],
   "source": [
    "import matplotlib.pyplot as plt\n",
    "\n",
    "acc = history_dict['accuracy']\n",
    "val_acc = history_dict['val_accuracy']\n",
    "loss = history_dict['loss']\n",
    "val_loss = history_dict['val_loss']\n",
    "\n",
    "epochs = range(1, len(acc) + 1)\n",
    "\n",
    "# \"bo\"는 \"파란색 점\"\n",
    "plt.plot(epochs, loss, 'bo', label='Training loss')\n",
    "# b는 \"파란 실선\"\n",
    "plt.plot(epochs, val_loss, 'b', label='Validation loss')\n",
    "plt.title('Training and validation loss')\n",
    "plt.xlabel('Epochs')\n",
    "plt.ylabel('Loss')\n",
    "plt.legend()\n",
    "\n",
    "plt.show()"
   ]
  },
  {
   "cell_type": "code",
   "execution_count": 24,
   "id": "09e6f955",
   "metadata": {},
   "outputs": [
    {
     "data": {
      "image/png": "[encoded data removed]",
      "text/plain": [
       "<Figure size 432x288 with 1 Axes>"
      ]
     },
     "metadata": {
      "needs_background": "light"
     },
     "output_type": "display_data"
    }
   ],
   "source": [
    "plt.clf()  \n",
    "\n",
    "plt.plot(epochs, acc, 'bo', label='Training acc')\n",
    "plt.plot(epochs, val_acc, 'b', label='Validation acc')\n",
    "plt.title('Training and validation accuracy')\n",
    "plt.xlabel('Epochs')\n",
    "plt.ylabel('Accuracy')\n",
    "plt.legend()\n",
    "\n",
    "plt.show()"
   ]
  },
  {
   "cell_type": "markdown",
   "id": "5daf4980",
   "metadata": {},
   "source": [
    "## 4. 학습된 Embedding 레이어 분석"
   ]
  },
  {
   "cell_type": "code",
   "execution_count": 25,
   "id": "6357ef59",
   "metadata": {},
   "outputs": [
    {
     "name": "stdout",
     "output_type": "stream",
     "text": [
      "(10000, 16)\n"
     ]
    }
   ],
   "source": [
    "embedding_layer = model_2.layers[0]\n",
    "weights = embedding_layer.get_weights()[0]\n",
    "print(weights.shape) "
   ]
  },
  {
   "cell_type": "code",
   "execution_count": 26,
   "id": "9ec5dae7",
   "metadata": {},
   "outputs": [],
   "source": [
    "word2vec_file_path = os.getenv('HOME')+'/aiffel/sentiment_classification/data/word2vec.txt'\n",
    "f = open(word2vec_file_path, 'w')\n",
    "f.write('{} {}\\n'.format(vocab_size-4, word_vector_dim))\n",
    "\n",
    "vectors = model_2.get_weights()[0]\n",
    "for i in range(4,vocab_size):\n",
    "    f.write('{} {}\\n'.format(index_to_word[i], ' '.join(map(str, list(vectors[i, :])))))\n",
    "f.close()"
   ]
  },
  {
   "cell_type": "code",
   "execution_count": 27,
   "id": "d804030e",
   "metadata": {},
   "outputs": [
    {
     "data": {
      "text/plain": [
       "array([-0.01396566,  0.07248216,  0.20068118, -0.03973668,  0.06981758,\n",
       "       -0.08252893, -0.05610181,  0.11596408,  0.01271981,  0.05280447,\n",
       "       -0.06659499, -0.098772  , -0.05811134,  0.12422171,  0.2966578 ,\n",
       "       -0.07819936], dtype=float32)"
      ]
     },
     "execution_count": 27,
     "metadata": {},
     "output_type": "execute_result"
    }
   ],
   "source": [
    "from gensim.models.keyedvectors import Word2VecKeyedVectors\n",
    "\n",
    "word_vectors = Word2VecKeyedVectors.load_word2vec_format(word2vec_file_path, binary=False)\n",
    "vector = word_vectors['지루']\n",
    "vector"
   ]
  },
  {
   "cell_type": "code",
   "execution_count": 28,
   "id": "c6b1be2a",
   "metadata": {
    "scrolled": true
   },
   "outputs": [
    {
     "data": {
      "text/plain": [
       "[('하도', 0.9155529737472534),\n",
       " ('과한', 0.9136767387390137),\n",
       " ('막장', 0.9109800457954407),\n",
       " ('희생자', 0.8817278146743774),\n",
       " ('우베볼', 0.8816925883293152),\n",
       " ('사이코', 0.8812400698661804),\n",
       " ('폐지', 0.8792954683303833),\n",
       " ('구려', 0.8669778108596802),\n",
       " ('목적', 0.8621705174446106),\n",
       " ('흑역사', 0.8602960705757141)]"
      ]
     },
     "execution_count": 28,
     "metadata": {},
     "output_type": "execute_result"
    }
   ],
   "source": [
    "word_vectors.similar_by_word(\"지루\")"
   ]
  },
  {
   "cell_type": "markdown",
   "id": "0971c159",
   "metadata": {},
   "source": [
    "### 3) max pooling 모델"
   ]
  },
  {
   "cell_type": "code",
   "execution_count": 29,
   "id": "93fc71b4",
   "metadata": {},
   "outputs": [
    {
     "name": "stdout",
     "output_type": "stream",
     "text": [
      "Model: \"sequential_2\"\n",
      "_________________________________________________________________\n",
      "Layer (type)                 Output Shape              Param #   \n",
      "=================================================================\n",
      "embedding_2 (Embedding)      (None, None, 16)          160000    \n",
      "_________________________________________________________________\n",
      "global_max_pooling1d_1 (Glob (None, 16)                0         \n",
      "_________________________________________________________________\n",
      "dense_4 (Dense)              (None, 8)                 136       \n",
      "_________________________________________________________________\n",
      "dense_5 (Dense)              (None, 1)                 9         \n",
      "=================================================================\n",
      "Total params: 160,145\n",
      "Trainable params: 160,145\n",
      "Non-trainable params: 0\n",
      "_________________________________________________________________\n"
     ]
    }
   ],
   "source": [
    "vocab_size = 10000 \n",
    "word_vector_dim = 16\n",
    "\n",
    "model_3 = tf.keras.Sequential()\n",
    "model_3.add(tf.keras.layers.Embedding(vocab_size, word_vector_dim, input_shape=(None,)))\n",
    "model_3.add(tf.keras.layers.GlobalMaxPooling1D())\n",
    "model_3.add(tf.keras.layers.Dense(8, activation='relu'))\n",
    "model_3.add(tf.keras.layers.Dense(1, activation='sigmoid'))\n",
    "\n",
    "\n",
    "model_3.summary()"
   ]
  },
  {
   "cell_type": "code",
   "execution_count": 30,
   "id": "b33d65f9",
   "metadata": {
    "scrolled": true
   },
   "outputs": [
    {
     "name": "stdout",
     "output_type": "stream",
     "text": [
      "Epoch 1/10\n",
      "198/198 [==============================] - 1s 4ms/step - loss: 0.6193 - accuracy: 0.7428 - val_loss: 0.4987 - val_accuracy: 0.8119\n",
      "Epoch 2/10\n",
      "198/198 [==============================] - 1s 4ms/step - loss: 0.4184 - accuracy: 0.8292 - val_loss: 0.3784 - val_accuracy: 0.8349\n",
      "Epoch 3/10\n",
      "198/198 [==============================] - 1s 4ms/step - loss: 0.3439 - accuracy: 0.8557 - val_loss: 0.3562 - val_accuracy: 0.8434\n",
      "Epoch 4/10\n",
      "198/198 [==============================] - 1s 4ms/step - loss: 0.3094 - accuracy: 0.8717 - val_loss: 0.3510 - val_accuracy: 0.8461\n",
      "Epoch 5/10\n",
      "198/198 [==============================] - 1s 4ms/step - loss: 0.2852 - accuracy: 0.8834 - val_loss: 0.3529 - val_accuracy: 0.8465\n",
      "Epoch 6/10\n",
      "198/198 [==============================] - 1s 4ms/step - loss: 0.2660 - accuracy: 0.8926 - val_loss: 0.3587 - val_accuracy: 0.8464\n",
      "Epoch 7/10\n",
      "198/198 [==============================] - 1s 4ms/step - loss: 0.2497 - accuracy: 0.9006 - val_loss: 0.3661 - val_accuracy: 0.8461\n",
      "Epoch 8/10\n",
      "198/198 [==============================] - 1s 4ms/step - loss: 0.2357 - accuracy: 0.9071 - val_loss: 0.3751 - val_accuracy: 0.8449\n",
      "Epoch 9/10\n",
      "198/198 [==============================] - 1s 4ms/step - loss: 0.2232 - accuracy: 0.9127 - val_loss: 0.3848 - val_accuracy: 0.8440\n",
      "Epoch 10/10\n",
      "198/198 [==============================] - 1s 4ms/step - loss: 0.2118 - accuracy: 0.9189 - val_loss: 0.3967 - val_accuracy: 0.8422\n"
     ]
    }
   ],
   "source": [
    "model_3.compile(optimizer='adam',\n",
    "              loss='binary_crossentropy',\n",
    "              metrics=['accuracy'])\n",
    "              \n",
    "epochs=10  \n",
    "\n",
    "history = model_3.fit(partial_X_train,\n",
    "                    partial_y_train,\n",
    "                    epochs=epochs,\n",
    "                    batch_size=512,\n",
    "                    validation_data=(X_val, y_val),\n",
    "                    verbose=1)"
   ]
  },
  {
   "cell_type": "code",
   "execution_count": 31,
   "id": "7618f1ef",
   "metadata": {},
   "outputs": [
    {
     "name": "stdout",
     "output_type": "stream",
     "text": [
      "1537/1537 - 2s - loss: 0.4097 - accuracy: 0.8360\n",
      "[0.4097215235233307, 0.8359541893005371]\n"
     ]
    }
   ],
   "source": [
    "results = model_3.evaluate(X_test,  y_test, verbose=2)\n",
    "\n",
    "print(results)"
   ]
  },
  {
   "cell_type": "code",
   "execution_count": 32,
   "id": "932fc356",
   "metadata": {},
   "outputs": [
    {
     "name": "stdout",
     "output_type": "stream",
     "text": [
      "dict_keys(['loss', 'accuracy', 'val_loss', 'val_accuracy'])\n"
     ]
    }
   ],
   "source": [
    "history_dict = history.history\n",
    "print(history_dict.keys()) "
   ]
  },
  {
   "cell_type": "code",
   "execution_count": 33,
   "id": "52f2ec25",
   "metadata": {},
   "outputs": [
    {
     "data": {
      "image/png": "[encoded data removed]",
      "text/plain": [
       "<Figure size 432x288 with 1 Axes>"
      ]
     },
     "metadata": {
      "needs_background": "light"
     },
     "output_type": "display_data"
    }
   ],
   "source": [
    "import matplotlib.pyplot as plt\n",
    "\n",
    "acc = history_dict['accuracy']\n",
    "val_acc = history_dict['val_accuracy']\n",
    "loss = history_dict['loss']\n",
    "val_loss = history_dict['val_loss']\n",
    "\n",
    "epochs = range(1, len(acc) + 1)\n",
    "\n",
    "# \"bo\"는 \"파란색 점\"\n",
    "plt.plot(epochs, loss, 'bo', label='Training loss')\n",
    "# b는 \"파란 실선\"\n",
    "plt.plot(epochs, val_loss, 'b', label='Validation loss')\n",
    "plt.title('Training and validation loss')\n",
    "plt.xlabel('Epochs')\n",
    "plt.ylabel('Loss')\n",
    "plt.legend()\n",
    "\n",
    "plt.show()"
   ]
  },
  {
   "cell_type": "code",
   "execution_count": 34,
   "id": "b659c1c3",
   "metadata": {},
   "outputs": [
    {
     "data": {
      "image/png": "[encoded data removed]",
      "text/plain": [
       "<Figure size 432x288 with 1 Axes>"
      ]
     },
     "metadata": {
      "needs_background": "light"
     },
     "output_type": "display_data"
    }
   ],
   "source": [
    "plt.clf()\n",
    "\n",
    "plt.plot(epochs, acc, 'bo', label='Training acc')\n",
    "plt.plot(epochs, val_acc, 'b', label='Validation acc')\n",
    "plt.title('Training and validation accuracy')\n",
    "plt.xlabel('Epochs')\n",
    "plt.ylabel('Accuracy')\n",
    "plt.legend()\n",
    "\n",
    "plt.show()"
   ]
  },
  {
   "cell_type": "markdown",
   "id": "d3768cf0",
   "metadata": {},
   "source": [
    "## 4. 학습된 Embedding 레이어 분석"
   ]
  },
  {
   "cell_type": "code",
   "execution_count": 35,
   "id": "68912dcf",
   "metadata": {},
   "outputs": [
    {
     "name": "stdout",
     "output_type": "stream",
     "text": [
      "(10000, 16)\n"
     ]
    }
   ],
   "source": [
    "embedding_layer = model_2.layers[0]\n",
    "weights = embedding_layer.get_weights()[0]\n",
    "print(weights.shape) "
   ]
  },
  {
   "cell_type": "code",
   "execution_count": 36,
   "id": "d0b6fe82",
   "metadata": {},
   "outputs": [],
   "source": [
    "\n",
    "word2vec_file_path = os.getenv('HOME')+'/aiffel/sentiment_classification/data/word2vec.txt'\n",
    "f = open(word2vec_file_path, 'w')\n",
    "f.write('{} {}\\n'.format(vocab_size-4, word_vector_dim))\n",
    "\n",
    "vectors = model_2.get_weights()[0]\n",
    "for i in range(4,vocab_size):\n",
    "    f.write('{} {}\\n'.format(index_to_word[i], ' '.join(map(str, list(vectors[i, :])))))\n",
    "f.close()"
   ]
  },
  {
   "cell_type": "code",
   "execution_count": 37,
   "id": "02ba9e57",
   "metadata": {},
   "outputs": [
    {
     "data": {
      "text/plain": [
       "array([-0.01396566,  0.07248216,  0.20068118, -0.03973668,  0.06981758,\n",
       "       -0.08252893, -0.05610181,  0.11596408,  0.01271981,  0.05280447,\n",
       "       -0.06659499, -0.098772  , -0.05811134,  0.12422171,  0.2966578 ,\n",
       "       -0.07819936], dtype=float32)"
      ]
     },
     "execution_count": 37,
     "metadata": {},
     "output_type": "execute_result"
    }
   ],
   "source": [
    "from gensim.models.keyedvectors import Word2VecKeyedVectors\n",
    "\n",
    "word_vectors = Word2VecKeyedVectors.load_word2vec_format(word2vec_file_path, binary=False)\n",
    "vector = word_vectors['지루']\n",
    "vector"
   ]
  },
  {
   "cell_type": "code",
   "execution_count": 38,
   "id": "3f7b819e",
   "metadata": {
    "scrolled": true
   },
   "outputs": [
    {
     "data": {
      "text/plain": [
       "[('하도', 0.9155529737472534),\n",
       " ('과한', 0.9136767387390137),\n",
       " ('막장', 0.9109800457954407),\n",
       " ('희생자', 0.8817278146743774),\n",
       " ('우베볼', 0.8816925883293152),\n",
       " ('사이코', 0.8812400698661804),\n",
       " ('폐지', 0.8792954683303833),\n",
       " ('구려', 0.8669778108596802),\n",
       " ('목적', 0.8621705174446106),\n",
       " ('흑역사', 0.8602960705757141)]"
      ]
     },
     "execution_count": 38,
     "metadata": {},
     "output_type": "execute_result"
    }
   ],
   "source": [
    "word_vectors.similar_by_word(\"지루\")"
   ]
  },
  {
   "cell_type": "markdown",
   "id": "9c9eaa41",
   "metadata": {},
   "source": [
    "## 5. 한국어 Word2Vec 임베딩 활용하여 성능 개선"
   ]
  },
  {
   "cell_type": "code",
   "execution_count": 39,
   "id": "45fed273",
   "metadata": {},
   "outputs": [],
   "source": [
    "from gensim.models import KeyedVectors\n",
    "\n",
    "word2vec_file_path = os.getenv('HOME')+'/data/word2vec_ko.model' "
   ]
  },
  {
   "cell_type": "code",
   "execution_count": 40,
   "id": "b15ca040",
   "metadata": {},
   "outputs": [],
   "source": [
    "word_vectors.save('vectors.kv')\n",
    "reloaded_word_vectors = KeyedVectors.load('vectors.kv')\n"
   ]
  },
  {
   "cell_type": "code",
   "execution_count": 41,
   "id": "aaa16836",
   "metadata": {
    "scrolled": true
   },
   "outputs": [
    {
     "name": "stdout",
     "output_type": "stream",
     "text": [
      "[ 0.04174887 -0.21894366 -1.441043   -0.65588135  0.5381777  -0.24932627\n",
      " -1.2721392  -0.9349011  -0.99750704  0.29246134  1.3961207  -0.42496732\n",
      " -0.8030965  -0.01296767  2.397268    1.4943933  -0.32043195 -0.37196487\n",
      "  0.63323635  1.3366741  -2.4578457   1.6403297   2.098323    0.6416305\n",
      "  1.0303649   1.0531819   0.5380543   1.3501654   1.9899552  -0.078539\n",
      " -0.13185968 -0.5480784  -1.8893849  -0.9229791   0.4664928   1.3092248\n",
      " -2.2880766   0.37046084  1.2550128  -0.05545815  0.23954934 -0.93439806\n",
      " -0.6775805   2.4420333  -0.55737174 -0.81948894 -0.06877042 -1.2745227\n",
      "  1.7742481   0.8814029  -0.33158144 -0.518086   -0.7392571  -0.62477165\n",
      "  0.5336477  -1.080377    1.4759496  -0.56383216  1.0778964  -0.1535129\n",
      "  0.28932756  0.0729184   0.5195994  -1.480617   -0.6663279  -0.8334627\n",
      "  0.9109524  -0.9392463  -0.40699846 -0.38619068  3.2585053  -0.18726757\n",
      " -0.19806731 -1.2285595  -2.0928824   0.0425626   0.45743722  0.3735978\n",
      "  0.1352734  -0.9122646   0.689723    0.56783    -0.257061   -0.43724728\n",
      "  0.60907525 -0.2182443   0.02720627 -0.6175132   0.21462306 -2.4343266\n",
      " -0.91486853 -1.3672453   1.3939533  -0.68677825 -0.20010297  0.63391876\n",
      "  0.8463178   0.4526958   1.9717907  -1.2808446 ]\n"
     ]
    }
   ],
   "source": [
    "from gensim.models.keyedvectors import Word2VecKeyedVectors\n",
    "\n",
    "word_vectors = Word2VecKeyedVectors.load(word2vec_file_path)\n",
    "print(word_vectors.wv[\"지루\"])"
   ]
  },
  {
   "cell_type": "code",
   "execution_count": 42,
   "id": "8e0b43c5",
   "metadata": {
    "scrolled": true
   },
   "outputs": [
    {
     "name": "stdout",
     "output_type": "stream",
     "text": [
      "[('답답', 0.8431152105331421), ('불쾌', 0.8362601399421692), ('지저분', 0.8258276581764221), ('조용', 0.825817346572876), ('피곤', 0.817997932434082), ('쓸쓸', 0.8148923516273499), ('어색', 0.8136337995529175), ('침울', 0.8097155094146729), ('끔찍', 0.8070621490478516), ('씁쓸', 0.7979624271392822)]\n"
     ]
    }
   ],
   "source": [
    "print(word_vectors.wv.most_similar(\"지루\"))"
   ]
  },
  {
   "cell_type": "code",
   "execution_count": 43,
   "id": "72770c7c",
   "metadata": {
    "scrolled": true
   },
   "outputs": [],
   "source": [
    "vocab_size = 10000    \n",
    "word_vector_dim = 100\n",
    "embedding_matrix = np.random.rand(vocab_size, word_vector_dim)\n",
    "\n",
    "for i in range(4,vocab_size):\n",
    "    if index_to_word[i] in word_vectors.wv:\n",
    "        embedding_matrix[i] = word_vectors.wv[index_to_word[i]]"
   ]
  },
  {
   "cell_type": "markdown",
   "id": "5c06c184",
   "metadata": {},
   "source": [
    "- 1. LSTM"
   ]
  },
  {
   "cell_type": "code",
   "execution_count": 44,
   "id": "e450b6a8",
   "metadata": {},
   "outputs": [
    {
     "name": "stdout",
     "output_type": "stream",
     "text": [
      "Model: \"sequential_3\"\n",
      "_________________________________________________________________\n",
      "Layer (type)                 Output Shape              Param #   \n",
      "=================================================================\n",
      "embedding_3 (Embedding)      (None, 41, 100)           1000000   \n",
      "_________________________________________________________________\n",
      "lstm_1 (LSTM)                (None, 128)               117248    \n",
      "_________________________________________________________________\n",
      "dense_6 (Dense)              (None, 1)                 129       \n",
      "=================================================================\n",
      "Total params: 1,117,377\n",
      "Trainable params: 1,117,377\n",
      "Non-trainable params: 0\n",
      "_________________________________________________________________\n"
     ]
    }
   ],
   "source": [
    "from tensorflow.keras.initializers import Constant\n",
    "\n",
    "#LSTM 모델 구성\n",
    "model_4 = tf.keras.Sequential()\n",
    "model_4.add(tf.keras.layers.Embedding(vocab_size, \n",
    "                                 word_vector_dim, \n",
    "                                 embeddings_initializer=Constant(embedding_matrix),  \n",
    "                                 input_length=maxlen, \n",
    "                                 trainable=True))   \n",
    "model_4.add(tf.keras.layers.LSTM(128))\n",
    "model_4.add(tf.keras.layers.Dense(1, activation='sigmoid'))\n",
    "\n",
    "model_4.summary()"
   ]
  },
  {
   "cell_type": "code",
   "execution_count": 45,
   "id": "a08f7a0e",
   "metadata": {
    "scrolled": true
   },
   "outputs": [
    {
     "name": "stdout",
     "output_type": "stream",
     "text": [
      "Epoch 1/10\n",
      "198/198 [==============================] - 4s 14ms/step - loss: 0.4828 - accuracy: 0.7644 - val_loss: 0.3999 - val_accuracy: 0.8213\n",
      "Epoch 2/10\n",
      "198/198 [==============================] - 2s 12ms/step - loss: 0.3665 - accuracy: 0.8372 - val_loss: 0.3559 - val_accuracy: 0.8424\n",
      "Epoch 3/10\n",
      "198/198 [==============================] - 2s 12ms/step - loss: 0.3130 - accuracy: 0.8658 - val_loss: 0.3318 - val_accuracy: 0.8556\n",
      "Epoch 4/10\n",
      "198/198 [==============================] - 2s 12ms/step - loss: 0.2791 - accuracy: 0.8825 - val_loss: 0.3322 - val_accuracy: 0.8550\n",
      "Epoch 5/10\n",
      "198/198 [==============================] - 2s 12ms/step - loss: 0.2493 - accuracy: 0.8979 - val_loss: 0.3439 - val_accuracy: 0.8558\n",
      "Epoch 6/10\n",
      "198/198 [==============================] - 2s 12ms/step - loss: 0.2253 - accuracy: 0.9084 - val_loss: 0.3398 - val_accuracy: 0.8596\n",
      "Epoch 7/10\n",
      "198/198 [==============================] - 2s 12ms/step - loss: 0.2009 - accuracy: 0.9192 - val_loss: 0.3534 - val_accuracy: 0.8579\n",
      "Epoch 8/10\n",
      "198/198 [==============================] - 2s 12ms/step - loss: 0.1796 - accuracy: 0.9300 - val_loss: 0.3633 - val_accuracy: 0.8577\n",
      "Epoch 9/10\n",
      "198/198 [==============================] - 2s 12ms/step - loss: 0.1548 - accuracy: 0.9406 - val_loss: 0.3978 - val_accuracy: 0.8548\n",
      "Epoch 10/10\n",
      "198/198 [==============================] - 2s 12ms/step - loss: 0.1348 - accuracy: 0.9488 - val_loss: 0.4379 - val_accuracy: 0.8542\n"
     ]
    }
   ],
   "source": [
    "# 학습의 진행\n",
    "model_4.compile(optimizer='adam',\n",
    "              loss='binary_crossentropy',\n",
    "              metrics=['accuracy'])\n",
    "              \n",
    "epochs=10\n",
    "\n",
    "history = model_4.fit(partial_X_train,\n",
    "                    partial_y_train,\n",
    "                    epochs=epochs,\n",
    "                    batch_size=512,\n",
    "                    validation_data=(X_val, y_val),\n",
    "                    verbose=1)"
   ]
  },
  {
   "cell_type": "code",
   "execution_count": 46,
   "id": "df62f905",
   "metadata": {},
   "outputs": [
    {
     "name": "stdout",
     "output_type": "stream",
     "text": [
      "1537/1537 - 3s - loss: 0.4368 - accuracy: 0.8530\n",
      "[0.4368349313735962, 0.8529812693595886]\n"
     ]
    }
   ],
   "source": [
    "results = model_4.evaluate(X_test, y_test, verbose=2)\n",
    "\n",
    "print(results)"
   ]
  },
  {
   "cell_type": "markdown",
   "id": "873acc3f",
   "metadata": {},
   "source": [
    "- Embedding"
   ]
  },
  {
   "cell_type": "code",
   "execution_count": 47,
   "id": "8403de0c",
   "metadata": {},
   "outputs": [
    {
     "name": "stdout",
     "output_type": "stream",
     "text": [
      "(10000, 100)\n"
     ]
    }
   ],
   "source": [
    "embedding_layer = model_4.layers[0]\n",
    "weights = embedding_layer.get_weights()[0]\n",
    "print(weights.shape) "
   ]
  },
  {
   "cell_type": "code",
   "execution_count": 48,
   "id": "07554996",
   "metadata": {},
   "outputs": [],
   "source": [
    "word2vec_file_path = os.getenv('HOME')+'/aiffel/sentiment_classification/data/word2vec.txt'\n",
    "f = open(word2vec_file_path, 'w')\n",
    "f.write('{} {}\\n'.format(vocab_size-4, word_vector_dim))\n",
    "\n",
    "vectors = model_4.get_weights()[0]\n",
    "for i in range(4,vocab_size):\n",
    "    f.write('{} {}\\n'.format(index_to_word[i], ' '.join(map(str, list(vectors[i, :])))))\n",
    "f.close()"
   ]
  },
  {
   "cell_type": "code",
   "execution_count": 49,
   "id": "b59c9c42",
   "metadata": {
    "scrolled": true
   },
   "outputs": [
    {
     "data": {
      "text/plain": [
       "array([-0.00310843,  0.07742301, -1.366329  , -0.7673046 ,  0.39787048,\n",
       "       -0.22364111, -1.531175  , -0.6356377 , -0.7189394 ,  0.26457605,\n",
       "        1.2589152 , -0.51672244, -0.720854  , -0.19235308,  2.464075  ,\n",
       "        1.6239241 , -0.49560764, -0.04941995,  0.70682377,  1.3747616 ,\n",
       "       -2.7966037 ,  1.4527912 ,  2.2193716 ,  0.8555854 ,  1.2991542 ,\n",
       "        1.1922841 ,  1.0305068 ,  1.1868649 ,  2.1141305 ,  0.05337821,\n",
       "        0.06840318, -1.0423282 , -1.7898978 , -1.245194  ,  0.39523348,\n",
       "        1.5128658 , -2.1755733 ,  0.10212559,  1.4954551 ,  0.03450752,\n",
       "        0.55616593, -1.046163  , -0.86785895,  2.6253357 , -0.5676749 ,\n",
       "       -1.1693963 , -0.34151673, -1.5462908 ,  1.5184863 ,  1.0058168 ,\n",
       "       -0.32360682, -0.838514  , -0.9801946 , -0.8562854 ,  0.96098506,\n",
       "       -0.71271574,  1.319802  , -0.26413703,  1.4398873 ,  0.02627994,\n",
       "        0.3088302 ,  0.35974732,  0.3696222 , -1.2680782 , -0.7418538 ,\n",
       "       -1.0297962 ,  0.71637225, -0.8168384 , -0.3477774 , -0.11856157,\n",
       "        3.1081784 , -0.10555746, -0.5097537 , -1.7830056 , -1.9219025 ,\n",
       "        0.042165  ,  0.7250427 ,  0.45748857,  0.4404059 , -1.1132736 ,\n",
       "        0.67761433,  0.44508728, -0.2991614 , -0.26856458,  0.53764963,\n",
       "        0.0598749 ,  0.3335585 , -0.79882824,  0.38005245, -2.7094812 ,\n",
       "       -1.0866302 , -1.7422599 ,  1.4793209 , -0.8477878 , -0.3170365 ,\n",
       "        0.62472504,  1.3965479 ,  0.7332691 ,  1.8975068 , -1.1381912 ],\n",
       "      dtype=float32)"
      ]
     },
     "execution_count": 49,
     "metadata": {},
     "output_type": "execute_result"
    }
   ],
   "source": [
    "from gensim.models.keyedvectors import Word2VecKeyedVectors\n",
    "\n",
    "word_vectors = Word2VecKeyedVectors.load_word2vec_format(word2vec_file_path, binary=False)\n",
    "vector = word_vectors['지루']\n",
    "vector"
   ]
  },
  {
   "cell_type": "code",
   "execution_count": 50,
   "id": "ca85d894",
   "metadata": {
    "scrolled": false
   },
   "outputs": [
    {
     "data": {
      "text/plain": [
       "[('답답', 0.8382901549339294),\n",
       " ('불쾌', 0.8368010520935059),\n",
       " ('지저분', 0.8221735954284668),\n",
       " ('피곤', 0.8200621604919434),\n",
       " ('어색', 0.8118391036987305),\n",
       " ('끔찍', 0.8070061206817627),\n",
       " ('따분', 0.8053242564201355),\n",
       " ('조용', 0.7932084798812866),\n",
       " ('멍청', 0.7862249612808228),\n",
       " ('난잡', 0.776203453540802)]"
      ]
     },
     "execution_count": 50,
     "metadata": {},
     "output_type": "execute_result"
    }
   ],
   "source": [
    "word_vectors.similar_by_word(\"지루\")"
   ]
  },
  {
   "cell_type": "markdown",
   "id": "3c643cc3",
   "metadata": {},
   "source": [
    "- Convolution Neural Network(1-D CNN)"
   ]
  },
  {
   "cell_type": "code",
   "execution_count": 51,
   "id": "8bdd4d81",
   "metadata": {
    "scrolled": false
   },
   "outputs": [
    {
     "name": "stdout",
     "output_type": "stream",
     "text": [
      "Model: \"sequential_4\"\n",
      "_________________________________________________________________\n",
      "Layer (type)                 Output Shape              Param #   \n",
      "=================================================================\n",
      "embedding_4 (Embedding)      (None, 41, 100)           1000000   \n",
      "_________________________________________________________________\n",
      "conv1d_2 (Conv1D)            (None, 35, 16)            11216     \n",
      "_________________________________________________________________\n",
      "max_pooling1d_1 (MaxPooling1 (None, 7, 16)             0         \n",
      "_________________________________________________________________\n",
      "conv1d_3 (Conv1D)            (None, 1, 16)             1808      \n",
      "_________________________________________________________________\n",
      "global_max_pooling1d_2 (Glob (None, 16)                0         \n",
      "_________________________________________________________________\n",
      "dense_7 (Dense)              (None, 8)                 136       \n",
      "_________________________________________________________________\n",
      "dense_8 (Dense)              (None, 1)                 9         \n",
      "=================================================================\n",
      "Total params: 1,013,169\n",
      "Trainable params: 1,013,169\n",
      "Non-trainable params: 0\n",
      "_________________________________________________________________\n"
     ]
    }
   ],
   "source": [
    "model_5 = tf.keras.Sequential()\n",
    "model_5.add(tf.keras.layers.Embedding(vocab_size, \n",
    "                                 word_vector_dim, \n",
    "                                 embeddings_initializer=Constant(embedding_matrix),  \n",
    "                                 input_length=maxlen, \n",
    "                                 trainable=True))\n",
    "model_5.add(tf.keras.layers.Conv1D(16, 7, activation='relu'))\n",
    "model_5.add(tf.keras.layers.MaxPooling1D(5))\n",
    "model_5.add(tf.keras.layers.Conv1D(16, 7, activation='relu'))\n",
    "model_5.add(tf.keras.layers.GlobalMaxPooling1D())\n",
    "model_5.add(tf.keras.layers.Dense(8, activation='relu'))\n",
    "model_5.add(tf.keras.layers.Dense(1, activation='sigmoid'))\n",
    "model_5.summary()"
   ]
  },
  {
   "cell_type": "code",
   "execution_count": 52,
   "id": "cc313034",
   "metadata": {
    "scrolled": true
   },
   "outputs": [
    {
     "name": "stdout",
     "output_type": "stream",
     "text": [
      "Epoch 1/10\n",
      "198/198 [==============================] - 2s 7ms/step - loss: 0.6165 - accuracy: 0.6509 - val_loss: 0.5206 - val_accuracy: 0.7418\n",
      "Epoch 2/10\n",
      "198/198 [==============================] - 1s 6ms/step - loss: 0.4809 - accuracy: 0.7695 - val_loss: 0.4566 - val_accuracy: 0.7869\n",
      "Epoch 3/10\n",
      "198/198 [==============================] - 1s 5ms/step - loss: 0.4163 - accuracy: 0.8108 - val_loss: 0.4108 - val_accuracy: 0.8155\n",
      "Epoch 4/10\n",
      "198/198 [==============================] - 1s 5ms/step - loss: 0.3734 - accuracy: 0.8347 - val_loss: 0.3908 - val_accuracy: 0.8246\n",
      "Epoch 5/10\n",
      "198/198 [==============================] - 1s 6ms/step - loss: 0.3424 - accuracy: 0.8520 - val_loss: 0.3761 - val_accuracy: 0.8348\n",
      "Epoch 6/10\n",
      "198/198 [==============================] - 1s 6ms/step - loss: 0.3181 - accuracy: 0.8641 - val_loss: 0.3702 - val_accuracy: 0.8354\n",
      "Epoch 7/10\n",
      "198/198 [==============================] - 1s 6ms/step - loss: 0.2981 - accuracy: 0.8754 - val_loss: 0.3760 - val_accuracy: 0.8356\n",
      "Epoch 8/10\n",
      "198/198 [==============================] - 1s 6ms/step - loss: 0.2812 - accuracy: 0.8841 - val_loss: 0.3733 - val_accuracy: 0.8380\n",
      "Epoch 9/10\n",
      "198/198 [==============================] - 1s 5ms/step - loss: 0.2665 - accuracy: 0.8918 - val_loss: 0.3712 - val_accuracy: 0.8427\n",
      "Epoch 10/10\n",
      "198/198 [==============================] - 1s 6ms/step - loss: 0.2519 - accuracy: 0.8988 - val_loss: 0.3825 - val_accuracy: 0.8418\n"
     ]
    }
   ],
   "source": [
    "model_5.compile(optimizer='adam',\n",
    "              loss='binary_crossentropy',\n",
    "              metrics=['accuracy'])\n",
    "              \n",
    "epochs=10  \n",
    "\n",
    "history = model_5.fit(partial_X_train,\n",
    "                    partial_y_train,\n",
    "                    epochs=epochs,\n",
    "                    batch_size=512,\n",
    "                    validation_data=(X_val, y_val),\n",
    "                    verbose=1)"
   ]
  },
  {
   "cell_type": "code",
   "execution_count": 53,
   "id": "b857015b",
   "metadata": {
    "scrolled": false
   },
   "outputs": [
    {
     "name": "stdout",
     "output_type": "stream",
     "text": [
      "1537/1537 - 3s - loss: 0.3943 - accuracy: 0.8388\n",
      "[0.3942905068397522, 0.8388428688049316]\n"
     ]
    }
   ],
   "source": [
    "results = model_5.evaluate(X_test,  y_test, verbose=2)\n",
    "\n",
    "print(results)"
   ]
  },
  {
   "cell_type": "markdown",
   "id": "5215b7de",
   "metadata": {},
   "source": [
    "- Embedding"
   ]
  },
  {
   "cell_type": "code",
   "execution_count": 54,
   "id": "ca095456",
   "metadata": {},
   "outputs": [
    {
     "name": "stdout",
     "output_type": "stream",
     "text": [
      "(10000, 100)\n"
     ]
    }
   ],
   "source": [
    "embedding_layer = model_5.layers[0]\n",
    "weights = embedding_layer.get_weights()[0]\n",
    "print(weights.shape) "
   ]
  },
  {
   "cell_type": "code",
   "execution_count": 55,
   "id": "3f3d81eb",
   "metadata": {},
   "outputs": [],
   "source": [
    "word2vec_file_path = os.getenv('HOME')+'/aiffel/sentiment_classification/data/word2vec.txt'\n",
    "f = open(word2vec_file_path, 'w')\n",
    "f.write('{} {}\\n'.format(vocab_size-4, word_vector_dim))\n",
    "\n",
    "vectors = model_5.get_weights()[0]\n",
    "for i in range(4,vocab_size):\n",
    "    f.write('{} {}\\n'.format(index_to_word[i], ' '.join(map(str, list(vectors[i, :])))))\n",
    "f.close()"
   ]
  },
  {
   "cell_type": "code",
   "execution_count": 56,
   "id": "ba628288",
   "metadata": {
    "scrolled": true
   },
   "outputs": [
    {
     "data": {
      "text/plain": [
       "array([-0.59175634,  0.3960097 , -0.51898545, -0.77226543, -0.08651378,\n",
       "       -0.26186734, -1.577121  , -0.5066618 , -0.4797644 ,  0.530978  ,\n",
       "        0.9809385 , -0.3390762 , -1.2690704 , -0.40388292,  2.6333919 ,\n",
       "        1.8300421 , -0.566096  ,  0.2905173 ,  1.0797217 ,  1.3164665 ,\n",
       "       -3.0303078 ,  1.0352309 ,  2.2757542 ,  1.1150153 ,  1.2425817 ,\n",
       "        0.9217178 ,  1.044664  ,  1.5452728 ,  2.3878598 ,  0.62689835,\n",
       "        0.4540304 , -0.7161259 , -1.3588253 , -1.2191105 , -0.01426057,\n",
       "        1.889977  , -2.292082  ,  0.872336  ,  1.7718749 ,  0.3221965 ,\n",
       "        0.8705197 , -1.4442248 , -1.2504245 ,  1.9328356 , -0.16793582,\n",
       "       -1.0151545 , -0.5817698 , -1.832885  ,  1.1440148 ,  0.5428977 ,\n",
       "       -0.80362   , -0.6510686 , -1.2107196 , -1.4658289 ,  0.7533136 ,\n",
       "       -0.5366493 ,  0.9981011 , -0.05040126,  1.6425902 , -0.5773944 ,\n",
       "        0.8200831 ,  0.62615114,  0.05186327, -1.091354  , -1.2312652 ,\n",
       "       -0.7936414 ,  0.33885732, -1.0201186 , -0.71056396,  0.01717578,\n",
       "        2.630474  , -0.27560082, -0.71326846, -1.6826248 , -1.9040262 ,\n",
       "       -0.23476098,  0.98820853,  0.39289433,  0.8701739 , -0.8342055 ,\n",
       "        0.20956156,  0.16552311, -0.8194859 ,  0.2062823 ,  0.07400504,\n",
       "        0.44035572,  0.6306504 , -1.0553771 ,  0.29725537, -2.5019696 ,\n",
       "       -0.7010549 , -1.9648733 ,  0.90867263, -0.3192566 ,  0.15262987,\n",
       "        0.5419181 ,  1.561945  ,  0.498578  ,  1.8728346 , -0.9047208 ],\n",
       "      dtype=float32)"
      ]
     },
     "execution_count": 56,
     "metadata": {},
     "output_type": "execute_result"
    }
   ],
   "source": [
    "from gensim.models.keyedvectors import Word2VecKeyedVectors\n",
    "\n",
    "word_vectors = Word2VecKeyedVectors.load_word2vec_format(word2vec_file_path, binary=False)\n",
    "vector = word_vectors['지루']\n",
    "vector"
   ]
  },
  {
   "cell_type": "code",
   "execution_count": 57,
   "id": "e9e8c7ca",
   "metadata": {
    "scrolled": false
   },
   "outputs": [
    {
     "data": {
      "text/plain": [
       "[('불쾌', 0.8257558941841125),\n",
       " ('답답', 0.8241158723831177),\n",
       " ('지저분', 0.8190140724182129),\n",
       " ('어색', 0.8189951181411743),\n",
       " ('따분', 0.8009181618690491),\n",
       " ('피곤', 0.798170804977417),\n",
       " ('끔찍', 0.7923560738563538),\n",
       " ('멍청', 0.7863331437110901),\n",
       " ('난잡', 0.774083137512207),\n",
       " ('황당', 0.7664856910705566)]"
      ]
     },
     "execution_count": 57,
     "metadata": {},
     "output_type": "execute_result"
    }
   ],
   "source": [
    "word_vectors.similar_by_word(\"지루\")"
   ]
  },
  {
   "cell_type": "markdown",
   "id": "b213cdea",
   "metadata": {},
   "source": [
    "- 3) Global max pooling 모델"
   ]
  },
  {
   "cell_type": "code",
   "execution_count": 58,
   "id": "2057dacd",
   "metadata": {},
   "outputs": [
    {
     "name": "stdout",
     "output_type": "stream",
     "text": [
      "Model: \"sequential_5\"\n",
      "_________________________________________________________________\n",
      "Layer (type)                 Output Shape              Param #   \n",
      "=================================================================\n",
      "embedding_5 (Embedding)      (None, 41, 100)           1000000   \n",
      "_________________________________________________________________\n",
      "global_max_pooling1d_3 (Glob (None, 100)               0         \n",
      "_________________________________________________________________\n",
      "dense_9 (Dense)              (None, 8)                 808       \n",
      "_________________________________________________________________\n",
      "dense_10 (Dense)             (None, 1)                 9         \n",
      "=================================================================\n",
      "Total params: 1,000,817\n",
      "Trainable params: 1,000,817\n",
      "Non-trainable params: 0\n",
      "_________________________________________________________________\n"
     ]
    }
   ],
   "source": [
    "model_6 = tf.keras.Sequential()\n",
    "model_6.add(tf.keras.layers.Embedding(vocab_size, \n",
    "                                 word_vector_dim, \n",
    "                                 embeddings_initializer=Constant(embedding_matrix),  \n",
    "                                 input_length=maxlen, \n",
    "                                 trainable=True))   \n",
    "model_6.add(tf.keras.layers.GlobalMaxPooling1D())\n",
    "model_6.add(tf.keras.layers.Dense(8, activation='relu'))\n",
    "model_6.add(tf.keras.layers.Dense(1, activation='sigmoid'))\n",
    "\n",
    "\n",
    "model_6.summary()"
   ]
  },
  {
   "cell_type": "code",
   "execution_count": 59,
   "id": "492b15fd",
   "metadata": {
    "scrolled": true
   },
   "outputs": [
    {
     "name": "stdout",
     "output_type": "stream",
     "text": [
      "Epoch 1/10\n",
      "198/198 [==============================] - 1s 5ms/step - loss: 0.7773 - accuracy: 0.5926 - val_loss: 0.6403 - val_accuracy: 0.6453\n",
      "Epoch 2/10\n",
      "198/198 [==============================] - 1s 4ms/step - loss: 0.6162 - accuracy: 0.6643 - val_loss: 0.5929 - val_accuracy: 0.6855\n",
      "Epoch 3/10\n",
      "198/198 [==============================] - 1s 4ms/step - loss: 0.5805 - accuracy: 0.6954 - val_loss: 0.5674 - val_accuracy: 0.7049\n",
      "Epoch 4/10\n",
      "198/198 [==============================] - 1s 4ms/step - loss: 0.5559 - accuracy: 0.7162 - val_loss: 0.5468 - val_accuracy: 0.7223\n",
      "Epoch 5/10\n",
      "198/198 [==============================] - 1s 4ms/step - loss: 0.5360 - accuracy: 0.7317 - val_loss: 0.5300 - val_accuracy: 0.7347\n",
      "Epoch 6/10\n",
      "198/198 [==============================] - 1s 4ms/step - loss: 0.5156 - accuracy: 0.7450 - val_loss: 0.5175 - val_accuracy: 0.7413\n",
      "Epoch 7/10\n",
      "198/198 [==============================] - 1s 4ms/step - loss: 0.5001 - accuracy: 0.7559 - val_loss: 0.5065 - val_accuracy: 0.7530\n",
      "Epoch 8/10\n",
      "198/198 [==============================] - 1s 4ms/step - loss: 0.4842 - accuracy: 0.7670 - val_loss: 0.4906 - val_accuracy: 0.7616\n",
      "Epoch 9/10\n",
      "198/198 [==============================] - 1s 4ms/step - loss: 0.4703 - accuracy: 0.7758 - val_loss: 0.4828 - val_accuracy: 0.7664\n",
      "Epoch 10/10\n",
      "198/198 [==============================] - 1s 4ms/step - loss: 0.4587 - accuracy: 0.7834 - val_loss: 0.4737 - val_accuracy: 0.7735\n"
     ]
    }
   ],
   "source": [
    "# 학습의 진행\n",
    "model_6.compile(optimizer='adam',\n",
    "              loss='binary_crossentropy',\n",
    "              metrics=['accuracy'])\n",
    "              \n",
    "epochs=10  \n",
    "\n",
    "history = model_6.fit(partial_X_train,\n",
    "                    partial_y_train,\n",
    "                    epochs=epochs,\n",
    "                    batch_size=512,\n",
    "                    validation_data=(X_val, y_val),\n",
    "                    verbose=1)"
   ]
  },
  {
   "cell_type": "code",
   "execution_count": 60,
   "id": "74159d64",
   "metadata": {
    "scrolled": true
   },
   "outputs": [
    {
     "name": "stdout",
     "output_type": "stream",
     "text": [
      "1537/1537 - 2s - loss: 0.4799 - accuracy: 0.7684\n",
      "[0.47987765073776245, 0.7684358358383179]\n"
     ]
    }
   ],
   "source": [
    "results = model_6.evaluate(X_test,  y_test, verbose=2)\n",
    "\n",
    "print(results)"
   ]
  },
  {
   "cell_type": "markdown",
   "id": "afaeee8d",
   "metadata": {},
   "source": [
    "- Embedding"
   ]
  },
  {
   "cell_type": "code",
   "execution_count": 61,
   "id": "25e7f6ea",
   "metadata": {},
   "outputs": [
    {
     "name": "stdout",
     "output_type": "stream",
     "text": [
      "(10000, 100)\n"
     ]
    }
   ],
   "source": [
    "embedding_layer = model_6.layers[0]\n",
    "weights = embedding_layer.get_weights()[0]\n",
    "print(weights.shape) "
   ]
  },
  {
   "cell_type": "code",
   "execution_count": 62,
   "id": "e8d1479b",
   "metadata": {},
   "outputs": [],
   "source": [
    "word2vec_file_path = os.getenv('HOME')+'/aiffel/sentiment_classification/data/word2vec.txt'\n",
    "f = open(word2vec_file_path, 'w')\n",
    "f.write('{} {}\\n'.format(vocab_size-4, word_vector_dim))\n",
    "\n",
    "vectors = model_6.get_weights()[0]\n",
    "for i in range(4,vocab_size):\n",
    "    f.write('{} {}\\n'.format(index_to_word[i], ' '.join(map(str, list(vectors[i, :])))))\n",
    "f.close()"
   ]
  },
  {
   "cell_type": "code",
   "execution_count": 63,
   "id": "022d1577",
   "metadata": {
    "scrolled": true
   },
   "outputs": [
    {
     "data": {
      "text/plain": [
       "array([ 0.04174887, -0.21894366, -1.441043  , -0.65588135,  0.1705842 ,\n",
       "       -0.24932627, -1.2721392 , -0.9349011 , -0.99750704,  0.518713  ,\n",
       "        0.20770495, -0.42496732, -0.8030965 , -0.01296767,  3.0313516 ,\n",
       "        2.0600898 , -0.32043195, -0.37196487,  0.50202405,  0.6240808 ,\n",
       "       -2.4578457 ,  2.3329196 ,  1.4140528 ,  2.151828  ,  0.80680174,\n",
       "        0.8919073 ,  0.5380543 ,  2.3933437 ,  2.4364617 , -0.078539  ,\n",
       "       -0.13185968, -0.5480784 , -1.8893849 , -0.9229791 ,  0.4664928 ,\n",
       "        0.8474095 , -2.2880766 ,  0.95001274,  0.47348168, -0.05545815,\n",
       "        0.23954934, -0.93439806, -0.6775805 ,  2.8149493 , -0.55737174,\n",
       "       -0.81948894, -0.06877042, -1.2745227 ,  1.2647594 ,  0.94900876,\n",
       "       -0.33158144, -0.518086  , -0.7392571 , -0.62477165,  1.1190468 ,\n",
       "       -1.080377  ,  0.8037875 , -0.56383216,  0.7976141 , -0.1535129 ,\n",
       "        0.28932756,  0.0729184 , -0.23625635, -1.480617  , -0.6663279 ,\n",
       "       -0.8334627 ,  0.46847564, -0.9392463 , -0.40699846, -0.38619068,\n",
       "        2.3402228 , -0.18726757, -0.19806731, -1.2285595 , -2.0928824 ,\n",
       "       -0.14237304,  1.0278679 , -0.2364659 ,  0.1352734 , -0.9122646 ,\n",
       "        0.689723  ,  0.1792719 , -0.257061  , -0.43724728,  0.60907525,\n",
       "       -0.2182443 ,  0.02720627, -0.6175132 ,  0.23726983, -2.4343266 ,\n",
       "       -0.91486853, -1.3672453 ,  1.1065781 , -0.68677825, -0.20010297,\n",
       "        2.0954893 ,  0.6307311 ,  0.4526958 ,  2.3926756 , -1.2808446 ],\n",
       "      dtype=float32)"
      ]
     },
     "execution_count": 63,
     "metadata": {},
     "output_type": "execute_result"
    }
   ],
   "source": [
    "from gensim.models.keyedvectors import Word2VecKeyedVectors\n",
    "\n",
    "word_vectors = Word2VecKeyedVectors.load_word2vec_format(word2vec_file_path, binary=False)\n",
    "vector = word_vectors['지루']\n",
    "vector"
   ]
  },
  {
   "cell_type": "code",
   "execution_count": 64,
   "id": "ae789b08",
   "metadata": {
    "scrolled": false
   },
   "outputs": [
    {
     "data": {
      "text/plain": [
       "[('답답', 0.8253040909767151),\n",
       " ('지저분', 0.8160477876663208),\n",
       " ('어색', 0.8143982291221619),\n",
       " ('불쾌', 0.7929832339286804),\n",
       " ('피곤', 0.7847511768341064),\n",
       " ('멍청', 0.7789700031280518),\n",
       " ('따분', 0.774812638759613),\n",
       " ('조용', 0.7702121734619141),\n",
       " ('끔찍', 0.7661253213882446),\n",
       " ('예민', 0.7509320974349976)]"
      ]
     },
     "execution_count": 64,
     "metadata": {},
     "output_type": "execute_result"
    }
   ],
   "source": [
    "word_vectors.similar_by_word(\"지루\")"
   ]
  },
  {
   "cell_type": "markdown",
   "id": "a63459da",
   "metadata": {},
   "source": [
    "#### 리뷰 예측 해보기"
   ]
  },
  {
   "cell_type": "code",
   "execution_count": 65,
   "id": "708af5e3",
   "metadata": {},
   "outputs": [],
   "source": [
    "Tokenizer = Mecab()\n",
    "\n",
    "def sentiment_predict(new_sentence):\n",
    "    new_sentence = tokenizer.morphs(new_sentence) # 토큰화\n",
    "    new_sentence.insert(0, '<BOS>')\n",
    "    new_sentence = [word for word in new_sentence if not word in stopwords] # 불용어 제거\n",
    "\n",
    "    def wordlist_to_indexlist(wordlist):\n",
    "        return [word_to_index[word] if word in word_to_index else word_to_index['<UNK>'] for word in wordlist]\n",
    "\n",
    "    new_sentence = wordlist_to_indexlist(new_sentence) # encoding\n",
    "    new_sentence = [new_sentence]\n",
    "\n",
    "    new_sentence = tf.keras.preprocessing.sequence.pad_sequences(new_sentence,\n",
    "                                                    value=word_to_index[\"<PAD>\"],\n",
    "                                                    padding='pre',\n",
    "                                                    maxlen=maxlen)\n",
    "    \n",
    "    score = float(model_4.predict(new_sentence)) # 예측\n",
    "    \n",
    "    if score > 0.5:\n",
    "        print(\"{:.2f}% 확률로 긍정 리뷰입니다.\\n\".format(score * 100))\n",
    "    else:\n",
    "        print(\"{:.2f}% 확률로 부정 리뷰입니다.\\n\".format((1 - score) * 100))"
   ]
  },
  {
   "cell_type": "code",
   "execution_count": 66,
   "id": "9884916d",
   "metadata": {},
   "outputs": [
    {
     "name": "stdout",
     "output_type": "stream",
     "text": [
      "이건 신의 걸작이다 정말 재밌음.\n",
      "99.77% 확률로 긍정 리뷰입니다.\n",
      "\n",
      "None\n",
      "배우분들 연기는 좋아요~소재가 신박해서 봤는데 처음엔 픽픽 웃으며 재밌었으나 중반부턴 루즈한 감이,,,ㅠㅠㅠ\n",
      "97.83% 확률로 긍정 리뷰입니다.\n",
      "\n",
      "None\n",
      "시간아까워서 중간에나옴\n",
      "100.00% 확률로 부정 리뷰입니다.\n",
      "\n",
      "None\n",
      "90년대식 전라도식 꼴통 무비 개핵노잼ㅜ\n",
      "99.94% 확률로 부정 리뷰입니다.\n",
      "\n",
      "None\n",
      "어줍짢은 마블 영화보다 훨씬 재밌었음\n",
      "99.26% 확률로 긍정 리뷰입니다.\n",
      "\n",
      "None\n",
      "저예산 영화임에도 주인공들 연기가 넘 자연스럽고 음향.효과가 영화분위기 압도...사람과 사회에 대해 생각을 많이 하게 하는 작품이었습니다.\n",
      "99.99% 확률로 긍정 리뷰입니다.\n",
      "\n",
      "None\n",
      "일상생활에 있는 스토리로 스릴러를 만들어서 그런지 이입이 더 잘되었으며 오랜만에 긴장하면서 영화 본것같다.\n",
      "99.91% 확률로 긍정 리뷰입니다.\n",
      "\n",
      "None\n"
     ]
    }
   ],
   "source": [
    "def scores():\n",
    "    text_arr = [\n",
    "    '이건 신의 걸작이다 정말 재밌음.',\n",
    "    '배우분들 연기는 좋아요~소재가 신박해서 봤는데 처음엔 픽픽 웃으며 재밌었으나 중반부턴 루즈한 감이,,,ㅠㅠㅠ',\n",
    "    '시간아까워서 중간에나옴',\n",
    "    '90년대식 전라도식 꼴통 무비 개핵노잼ㅜ',\n",
    "    '어줍짢은 마블 영화보다 훨씬 재밌었음',\n",
    "    '저예산 영화임에도 주인공들 연기가 넘 자연스럽고 음향.효과가 영화분위기 압도...사람과 사회에 대해 생각을 많이 하게 하는 작품이었습니다.',\n",
    "    '일상생활에 있는 스토리로 스릴러를 만들어서 그런지 이입이 더 잘되었으며 오랜만에 긴장하면서 영화 본것같다.'\n",
    "    ]\n",
    "    \n",
    "    for i in text_arr:\n",
    "        print(i)\n",
    "        score = sentiment_predict(i)\n",
    "        print(score)\n",
    "    \n",
    "scores()"
   ]
  },
  {
   "cell_type": "markdown",
   "id": "aea1e333",
   "metadata": {},
   "source": [
    "## 회고"
   ]
  },
  {
   "cell_type": "markdown",
   "id": "f67dffe3",
   "metadata": {},
   "source": [
    "- 어려웠던 점 : 한국어 Word2Vec 임베딩 활용하여 성능 개선을 했을때 처음 설정하는 법이 어려웠다.\n",
    "- 알아낸 점 및 모호한 점 : 사전에 학습된 한국어 embedding 한 결과가 '지루' 라는 단어에 더 유사성이 있는 결과가 나왔다. 결과적으로 한국어 Word2Vec을 하기 전에는 정확도가 85%가 넘지 않았는데, 하고나서 LSTM만 정확도가 85%을 넘었다.\n",
    "- 노력한 점 : epoch에 따라 정확도가 달라져서 최대한 정확도를 높게 받을 수 있도록 찾아봤다. \n",
    "- 자기다짐 : 주로 리뷰 긍정, 부정 예측하는데 있어서 토큰화를 하는 과정을 자세히 알아야 겠다. model의 shape을 설정하는 것을 조금 더 공부해야겠다."
   ]
  }
 ],
 "metadata": {
  "kernelspec": {
   "display_name": "Python 3 (ipykernel)",
   "language": "python",
   "name": "python3"
  },
  "language_info": {
   "codemirror_mode": {
    "name": "ipython",
    "version": 3
   },
   "file_extension": ".py",
   "mimetype": "text/x-python",
   "name": "python",
   "nbconvert_exporter": "python",
   "pygments_lexer": "ipython3",
   "version": "3.9.7"
  }
 },
 "nbformat": 4,
 "nbformat_minor": 5
}
