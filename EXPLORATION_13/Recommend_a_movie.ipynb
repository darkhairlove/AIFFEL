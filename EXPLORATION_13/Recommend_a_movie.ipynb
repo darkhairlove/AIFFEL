{
 "cells": [
  {
   "cell_type": "code",
   "execution_count": 67,
   "id": "47cb507e",
   "metadata": {},
   "outputs": [
    {
     "name": "stdout",
     "output_type": "stream",
     "text": [
      "1.21.4\n",
      "1.7.1\n",
      "0.4.8\n"
     ]
    }
   ],
   "source": [
    "import numpy as np\n",
    "import scipy\n",
    "import implicit\n",
    "import pandas as pd\n",
    "\n",
    "print(np.__version__)\n",
    "print(scipy.__version__)\n",
    "print(implicit.__version__)"
   ]
  },
  {
   "cell_type": "markdown",
   "id": "6f4f224e",
   "metadata": {},
   "source": [
    "## 1) 데이터 준비와 전처리"
   ]
  },
  {
   "cell_type": "code",
   "execution_count": 68,
   "id": "f0a8b1bd",
   "metadata": {},
   "outputs": [
    {
     "data": {
      "text/html": [
       "<div>\n",
       "<style scoped>\n",
       "    .dataframe tbody tr th:only-of-type {\n",
       "        vertical-align: middle;\n",
       "    }\n",
       "\n",
       "    .dataframe tbody tr th {\n",
       "        vertical-align: top;\n",
       "    }\n",
       "\n",
       "    .dataframe thead th {\n",
       "        text-align: right;\n",
       "    }\n",
       "</style>\n",
       "<table border=\"1\" class=\"dataframe\">\n",
       "  <thead>\n",
       "    <tr style=\"text-align: right;\">\n",
       "      <th></th>\n",
       "      <th>user_id</th>\n",
       "      <th>movie_id</th>\n",
       "      <th>ratings</th>\n",
       "      <th>timestamp</th>\n",
       "    </tr>\n",
       "  </thead>\n",
       "  <tbody>\n",
       "    <tr>\n",
       "      <th>0</th>\n",
       "      <td>1</td>\n",
       "      <td>1193</td>\n",
       "      <td>5</td>\n",
       "      <td>978300760</td>\n",
       "    </tr>\n",
       "    <tr>\n",
       "      <th>1</th>\n",
       "      <td>1</td>\n",
       "      <td>661</td>\n",
       "      <td>3</td>\n",
       "      <td>978302109</td>\n",
       "    </tr>\n",
       "    <tr>\n",
       "      <th>2</th>\n",
       "      <td>1</td>\n",
       "      <td>914</td>\n",
       "      <td>3</td>\n",
       "      <td>978301968</td>\n",
       "    </tr>\n",
       "    <tr>\n",
       "      <th>3</th>\n",
       "      <td>1</td>\n",
       "      <td>3408</td>\n",
       "      <td>4</td>\n",
       "      <td>978300275</td>\n",
       "    </tr>\n",
       "    <tr>\n",
       "      <th>4</th>\n",
       "      <td>1</td>\n",
       "      <td>2355</td>\n",
       "      <td>5</td>\n",
       "      <td>978824291</td>\n",
       "    </tr>\n",
       "  </tbody>\n",
       "</table>\n",
       "</div>"
      ],
      "text/plain": [
       "   user_id  movie_id  ratings  timestamp\n",
       "0        1      1193        5  978300760\n",
       "1        1       661        3  978302109\n",
       "2        1       914        3  978301968\n",
       "3        1      3408        4  978300275\n",
       "4        1      2355        5  978824291"
      ]
     },
     "execution_count": 68,
     "metadata": {},
     "output_type": "execute_result"
    }
   ],
   "source": [
    "import os\n",
    "rating_file_path=os.getenv('HOME') + '/aiffel/recommendata_iu/data/ml-1m/ratings.dat'\n",
    "ratings_cols = ['user_id', 'movie_id', 'ratings', 'timestamp']\n",
    "ratings = pd.read_csv(rating_file_path, sep='::', names=ratings_cols, engine='python', encoding = \"ISO-8859-1\")\n",
    "orginal_data_size = len(ratings)\n",
    "ratings.head()"
   ]
  },
  {
   "cell_type": "code",
   "execution_count": 69,
   "id": "68f57fc5",
   "metadata": {},
   "outputs": [
    {
     "name": "stdout",
     "output_type": "stream",
     "text": [
      "orginal_data_size: 1000209, filtered_data_size: 836478\n",
      "Ratio of Remaining Data is 83.63%\n"
     ]
    }
   ],
   "source": [
    "# 3점 이상만 남김.\n",
    "ratings = ratings[ratings['ratings']>=3]\n",
    "filtered_data_size = len(ratings)\n",
    "\n",
    "print(f'orginal_data_size: {orginal_data_size}, filtered_data_size: {filtered_data_size}')\n",
    "print(f'Ratio of Remaining Data is {filtered_data_size / orginal_data_size:.2%}')"
   ]
  },
  {
   "cell_type": "code",
   "execution_count": 70,
   "id": "f94599d3",
   "metadata": {},
   "outputs": [
    {
     "data": {
      "text/html": [
       "<div>\n",
       "<style scoped>\n",
       "    .dataframe tbody tr th:only-of-type {\n",
       "        vertical-align: middle;\n",
       "    }\n",
       "\n",
       "    .dataframe tbody tr th {\n",
       "        vertical-align: top;\n",
       "    }\n",
       "\n",
       "    .dataframe thead th {\n",
       "        text-align: right;\n",
       "    }\n",
       "</style>\n",
       "<table border=\"1\" class=\"dataframe\">\n",
       "  <thead>\n",
       "    <tr style=\"text-align: right;\">\n",
       "      <th></th>\n",
       "      <th>movie_id</th>\n",
       "      <th>title</th>\n",
       "      <th>genre</th>\n",
       "    </tr>\n",
       "  </thead>\n",
       "  <tbody>\n",
       "    <tr>\n",
       "      <th>0</th>\n",
       "      <td>1</td>\n",
       "      <td>Toy Story (1995)</td>\n",
       "      <td>Animation|Children's|Comedy</td>\n",
       "    </tr>\n",
       "    <tr>\n",
       "      <th>1</th>\n",
       "      <td>2</td>\n",
       "      <td>Jumanji (1995)</td>\n",
       "      <td>Adventure|Children's|Fantasy</td>\n",
       "    </tr>\n",
       "    <tr>\n",
       "      <th>2</th>\n",
       "      <td>3</td>\n",
       "      <td>Grumpier Old Men (1995)</td>\n",
       "      <td>Comedy|Romance</td>\n",
       "    </tr>\n",
       "    <tr>\n",
       "      <th>3</th>\n",
       "      <td>4</td>\n",
       "      <td>Waiting to Exhale (1995)</td>\n",
       "      <td>Comedy|Drama</td>\n",
       "    </tr>\n",
       "    <tr>\n",
       "      <th>4</th>\n",
       "      <td>5</td>\n",
       "      <td>Father of the Bride Part II (1995)</td>\n",
       "      <td>Comedy</td>\n",
       "    </tr>\n",
       "  </tbody>\n",
       "</table>\n",
       "</div>"
      ],
      "text/plain": [
       "   movie_id                               title                         genre\n",
       "0         1                    Toy Story (1995)   Animation|Children's|Comedy\n",
       "1         2                      Jumanji (1995)  Adventure|Children's|Fantasy\n",
       "2         3             Grumpier Old Men (1995)                Comedy|Romance\n",
       "3         4            Waiting to Exhale (1995)                  Comedy|Drama\n",
       "4         5  Father of the Bride Part II (1995)                        Comedy"
      ]
     },
     "execution_count": 70,
     "metadata": {},
     "output_type": "execute_result"
    }
   ],
   "source": [
    "# 영화 제목을 보기 위해 메타 데이터 읽음.\n",
    "movie_file_path=os.getenv('HOME') + '/aiffel/recommendata_iu/data/ml-1m/movies.dat'\n",
    "cols = ['movie_id', 'title', 'genre'] \n",
    "movies = pd.read_csv(movie_file_path, sep='::', names=cols, engine='python', encoding='ISO-8859-1')\n",
    "movies.head()"
   ]
  },
  {
   "cell_type": "code",
   "execution_count": 71,
   "id": "f3847572",
   "metadata": {},
   "outputs": [
    {
     "name": "stdout",
     "output_type": "stream",
     "text": [
      "3628\n",
      "6039\n"
     ]
    }
   ],
   "source": [
    "# ratings에 있는 유니크한 영화 개수\n",
    "print(ratings['movie_id'].nunique())\n",
    "\n",
    "#rating에 있는 유니크한 사용자 수\n",
    "print(ratings['user_id'].nunique())"
   ]
  },
  {
   "cell_type": "code",
   "execution_count": 72,
   "id": "e13bb4cf",
   "metadata": {},
   "outputs": [],
   "source": [
    "# movies와 ratings 합한다.\n",
    "data= pd.merge(movies, ratings)"
   ]
  },
  {
   "cell_type": "code",
   "execution_count": 73,
   "id": "5b2c6c69",
   "metadata": {},
   "outputs": [
    {
     "data": {
      "text/html": [
       "<div>\n",
       "<style scoped>\n",
       "    .dataframe tbody tr th:only-of-type {\n",
       "        vertical-align: middle;\n",
       "    }\n",
       "\n",
       "    .dataframe tbody tr th {\n",
       "        vertical-align: top;\n",
       "    }\n",
       "\n",
       "    .dataframe thead th {\n",
       "        text-align: right;\n",
       "    }\n",
       "</style>\n",
       "<table border=\"1\" class=\"dataframe\">\n",
       "  <thead>\n",
       "    <tr style=\"text-align: right;\">\n",
       "      <th></th>\n",
       "      <th>movie_id</th>\n",
       "      <th>title</th>\n",
       "      <th>genre</th>\n",
       "      <th>user_id</th>\n",
       "      <th>ratings</th>\n",
       "      <th>timestamp</th>\n",
       "    </tr>\n",
       "  </thead>\n",
       "  <tbody>\n",
       "    <tr>\n",
       "      <th>0</th>\n",
       "      <td>1</td>\n",
       "      <td>Toy Story (1995)</td>\n",
       "      <td>Animation|Children's|Comedy</td>\n",
       "      <td>1</td>\n",
       "      <td>5</td>\n",
       "      <td>978824268</td>\n",
       "    </tr>\n",
       "    <tr>\n",
       "      <th>1</th>\n",
       "      <td>1</td>\n",
       "      <td>Toy Story (1995)</td>\n",
       "      <td>Animation|Children's|Comedy</td>\n",
       "      <td>6</td>\n",
       "      <td>4</td>\n",
       "      <td>978237008</td>\n",
       "    </tr>\n",
       "    <tr>\n",
       "      <th>2</th>\n",
       "      <td>1</td>\n",
       "      <td>Toy Story (1995)</td>\n",
       "      <td>Animation|Children's|Comedy</td>\n",
       "      <td>8</td>\n",
       "      <td>4</td>\n",
       "      <td>978233496</td>\n",
       "    </tr>\n",
       "    <tr>\n",
       "      <th>3</th>\n",
       "      <td>1</td>\n",
       "      <td>Toy Story (1995)</td>\n",
       "      <td>Animation|Children's|Comedy</td>\n",
       "      <td>9</td>\n",
       "      <td>5</td>\n",
       "      <td>978225952</td>\n",
       "    </tr>\n",
       "    <tr>\n",
       "      <th>4</th>\n",
       "      <td>1</td>\n",
       "      <td>Toy Story (1995)</td>\n",
       "      <td>Animation|Children's|Comedy</td>\n",
       "      <td>10</td>\n",
       "      <td>5</td>\n",
       "      <td>978226474</td>\n",
       "    </tr>\n",
       "  </tbody>\n",
       "</table>\n",
       "</div>"
      ],
      "text/plain": [
       "   movie_id             title                        genre  user_id  ratings  \\\n",
       "0         1  Toy Story (1995)  Animation|Children's|Comedy        1        5   \n",
       "1         1  Toy Story (1995)  Animation|Children's|Comedy        6        4   \n",
       "2         1  Toy Story (1995)  Animation|Children's|Comedy        8        4   \n",
       "3         1  Toy Story (1995)  Animation|Children's|Comedy        9        5   \n",
       "4         1  Toy Story (1995)  Animation|Children's|Comedy       10        5   \n",
       "\n",
       "   timestamp  \n",
       "0  978824268  \n",
       "1  978237008  \n",
       "2  978233496  \n",
       "3  978225952  \n",
       "4  978226474  "
      ]
     },
     "execution_count": 73,
     "metadata": {},
     "output_type": "execute_result"
    }
   ],
   "source": [
    "data.head()"
   ]
  },
  {
   "cell_type": "code",
   "execution_count": 74,
   "id": "6acf9f17",
   "metadata": {},
   "outputs": [
    {
     "data": {
      "text/html": [
       "<div>\n",
       "<style scoped>\n",
       "    .dataframe tbody tr th:only-of-type {\n",
       "        vertical-align: middle;\n",
       "    }\n",
       "\n",
       "    .dataframe tbody tr th {\n",
       "        vertical-align: top;\n",
       "    }\n",
       "\n",
       "    .dataframe thead th {\n",
       "        text-align: right;\n",
       "    }\n",
       "</style>\n",
       "<table border=\"1\" class=\"dataframe\">\n",
       "  <thead>\n",
       "    <tr style=\"text-align: right;\">\n",
       "      <th></th>\n",
       "      <th>user_id</th>\n",
       "      <th>title</th>\n",
       "      <th>ratings</th>\n",
       "    </tr>\n",
       "  </thead>\n",
       "  <tbody>\n",
       "    <tr>\n",
       "      <th>0</th>\n",
       "      <td>1</td>\n",
       "      <td>Toy Story (1995)</td>\n",
       "      <td>5</td>\n",
       "    </tr>\n",
       "    <tr>\n",
       "      <th>1</th>\n",
       "      <td>6</td>\n",
       "      <td>Toy Story (1995)</td>\n",
       "      <td>4</td>\n",
       "    </tr>\n",
       "    <tr>\n",
       "      <th>2</th>\n",
       "      <td>8</td>\n",
       "      <td>Toy Story (1995)</td>\n",
       "      <td>4</td>\n",
       "    </tr>\n",
       "    <tr>\n",
       "      <th>3</th>\n",
       "      <td>9</td>\n",
       "      <td>Toy Story (1995)</td>\n",
       "      <td>5</td>\n",
       "    </tr>\n",
       "    <tr>\n",
       "      <th>4</th>\n",
       "      <td>10</td>\n",
       "      <td>Toy Story (1995)</td>\n",
       "      <td>5</td>\n",
       "    </tr>\n",
       "    <tr>\n",
       "      <th>5</th>\n",
       "      <td>18</td>\n",
       "      <td>Toy Story (1995)</td>\n",
       "      <td>4</td>\n",
       "    </tr>\n",
       "    <tr>\n",
       "      <th>6</th>\n",
       "      <td>19</td>\n",
       "      <td>Toy Story (1995)</td>\n",
       "      <td>5</td>\n",
       "    </tr>\n",
       "    <tr>\n",
       "      <th>7</th>\n",
       "      <td>21</td>\n",
       "      <td>Toy Story (1995)</td>\n",
       "      <td>3</td>\n",
       "    </tr>\n",
       "    <tr>\n",
       "      <th>8</th>\n",
       "      <td>23</td>\n",
       "      <td>Toy Story (1995)</td>\n",
       "      <td>4</td>\n",
       "    </tr>\n",
       "    <tr>\n",
       "      <th>9</th>\n",
       "      <td>26</td>\n",
       "      <td>Toy Story (1995)</td>\n",
       "      <td>3</td>\n",
       "    </tr>\n",
       "  </tbody>\n",
       "</table>\n",
       "</div>"
      ],
      "text/plain": [
       "   user_id             title  ratings\n",
       "0        1  Toy Story (1995)        5\n",
       "1        6  Toy Story (1995)        4\n",
       "2        8  Toy Story (1995)        4\n",
       "3        9  Toy Story (1995)        5\n",
       "4       10  Toy Story (1995)        5\n",
       "5       18  Toy Story (1995)        4\n",
       "6       19  Toy Story (1995)        5\n",
       "7       21  Toy Story (1995)        3\n",
       "8       23  Toy Story (1995)        4\n",
       "9       26  Toy Story (1995)        3"
      ]
     },
     "execution_count": 74,
     "metadata": {},
     "output_type": "execute_result"
    }
   ],
   "source": [
    "# 사용하는 컬럼만 남김.timestamp와 genre 없앰.\n",
    "using_cols = [ 'user_id','title', 'ratings']\n",
    "data = data[using_cols]\n",
    "data.head(10)"
   ]
  },
  {
   "cell_type": "code",
   "execution_count": 75,
   "id": "479fde3f",
   "metadata": {},
   "outputs": [],
   "source": [
    "# 제목을 소문자로 바꿈.\n",
    "data['title'] = data['title'].str.lower() "
   ]
  },
  {
   "cell_type": "code",
   "execution_count": 76,
   "id": "2365ebe5",
   "metadata": {},
   "outputs": [
    {
     "data": {
      "text/plain": [
       "title\n",
       "american beauty (1999)                                   3211\n",
       "star wars: episode iv - a new hope (1977)                2910\n",
       "star wars: episode v - the empire strikes back (1980)    2885\n",
       "star wars: episode vi - return of the jedi (1983)        2716\n",
       "saving private ryan (1998)                               2561\n",
       "terminator 2: judgment day (1991)                        2509\n",
       "silence of the lambs, the (1991)                         2498\n",
       "raiders of the lost ark (1981)                           2473\n",
       "back to the future (1985)                                2460\n",
       "matrix, the (1999)                                       2434\n",
       "jurassic park (1993)                                     2413\n",
       "sixth sense, the (1999)                                  2385\n",
       "fargo (1996)                                             2371\n",
       "braveheart (1995)                                        2314\n",
       "men in black (1997)                                      2297\n",
       "schindler's list (1993)                                  2257\n",
       "princess bride, the (1987)                               2252\n",
       "shakespeare in love (1998)                               2213\n",
       "l.a. confidential (1997)                                 2210\n",
       "shawshank redemption, the (1994)                         2194\n",
       "godfather, the (1972)                                    2167\n",
       "groundhog day (1993)                                     2121\n",
       "e.t. the extra-terrestrial (1982)                        2102\n",
       "being john malkovich (1999)                              2066\n",
       "ghostbusters (1984)                                      2051\n",
       "pulp fiction (1994)                                      2030\n",
       "forrest gump (1994)                                      2022\n",
       "terminator, the (1984)                                   2019\n",
       "toy story (1995)                                         2000\n",
       "fugitive, the (1993)                                     1941\n",
       "Name: user_id, dtype: int64"
      ]
     },
     "execution_count": 76,
     "metadata": {},
     "output_type": "execute_result"
    }
   ],
   "source": [
    "# 가장 인기 있는 영화 30개 인기순으로 뽑기\n",
    "movies_count = data.groupby('title')['user_id'].count()\n",
    "movies_count.sort_values(ascending=False).head(30)"
   ]
  },
  {
   "cell_type": "code",
   "execution_count": 77,
   "id": "7ee78f0d",
   "metadata": {
    "scrolled": true
   },
   "outputs": [
    {
     "data": {
      "text/html": [
       "<div>\n",
       "<style scoped>\n",
       "    .dataframe tbody tr th:only-of-type {\n",
       "        vertical-align: middle;\n",
       "    }\n",
       "\n",
       "    .dataframe tbody tr th {\n",
       "        vertical-align: top;\n",
       "    }\n",
       "\n",
       "    .dataframe thead th {\n",
       "        text-align: right;\n",
       "    }\n",
       "</style>\n",
       "<table border=\"1\" class=\"dataframe\">\n",
       "  <thead>\n",
       "    <tr style=\"text-align: right;\">\n",
       "      <th></th>\n",
       "      <th>user_id</th>\n",
       "      <th>title</th>\n",
       "      <th>ratings</th>\n",
       "    </tr>\n",
       "  </thead>\n",
       "  <tbody>\n",
       "    <tr>\n",
       "      <th>836463</th>\n",
       "      <td>5074</td>\n",
       "      <td>contender, the (2000)</td>\n",
       "      <td>4</td>\n",
       "    </tr>\n",
       "    <tr>\n",
       "      <th>836464</th>\n",
       "      <td>5087</td>\n",
       "      <td>contender, the (2000)</td>\n",
       "      <td>4</td>\n",
       "    </tr>\n",
       "    <tr>\n",
       "      <th>836465</th>\n",
       "      <td>5100</td>\n",
       "      <td>contender, the (2000)</td>\n",
       "      <td>4</td>\n",
       "    </tr>\n",
       "    <tr>\n",
       "      <th>836466</th>\n",
       "      <td>5205</td>\n",
       "      <td>contender, the (2000)</td>\n",
       "      <td>4</td>\n",
       "    </tr>\n",
       "    <tr>\n",
       "      <th>836467</th>\n",
       "      <td>5304</td>\n",
       "      <td>contender, the (2000)</td>\n",
       "      <td>4</td>\n",
       "    </tr>\n",
       "    <tr>\n",
       "      <th>836468</th>\n",
       "      <td>5333</td>\n",
       "      <td>contender, the (2000)</td>\n",
       "      <td>4</td>\n",
       "    </tr>\n",
       "    <tr>\n",
       "      <th>836469</th>\n",
       "      <td>5359</td>\n",
       "      <td>contender, the (2000)</td>\n",
       "      <td>5</td>\n",
       "    </tr>\n",
       "    <tr>\n",
       "      <th>836470</th>\n",
       "      <td>5405</td>\n",
       "      <td>contender, the (2000)</td>\n",
       "      <td>4</td>\n",
       "    </tr>\n",
       "    <tr>\n",
       "      <th>836471</th>\n",
       "      <td>5475</td>\n",
       "      <td>contender, the (2000)</td>\n",
       "      <td>5</td>\n",
       "    </tr>\n",
       "    <tr>\n",
       "      <th>836472</th>\n",
       "      <td>5602</td>\n",
       "      <td>contender, the (2000)</td>\n",
       "      <td>3</td>\n",
       "    </tr>\n",
       "    <tr>\n",
       "      <th>836473</th>\n",
       "      <td>5682</td>\n",
       "      <td>contender, the (2000)</td>\n",
       "      <td>3</td>\n",
       "    </tr>\n",
       "    <tr>\n",
       "      <th>836474</th>\n",
       "      <td>5812</td>\n",
       "      <td>contender, the (2000)</td>\n",
       "      <td>4</td>\n",
       "    </tr>\n",
       "    <tr>\n",
       "      <th>836475</th>\n",
       "      <td>5831</td>\n",
       "      <td>contender, the (2000)</td>\n",
       "      <td>3</td>\n",
       "    </tr>\n",
       "    <tr>\n",
       "      <th>836476</th>\n",
       "      <td>5837</td>\n",
       "      <td>contender, the (2000)</td>\n",
       "      <td>4</td>\n",
       "    </tr>\n",
       "    <tr>\n",
       "      <th>836477</th>\n",
       "      <td>5998</td>\n",
       "      <td>contender, the (2000)</td>\n",
       "      <td>4</td>\n",
       "    </tr>\n",
       "    <tr>\n",
       "      <th>0</th>\n",
       "      <td>sujin</td>\n",
       "      <td>princess bride, the (1987)</td>\n",
       "      <td>5</td>\n",
       "    </tr>\n",
       "    <tr>\n",
       "      <th>1</th>\n",
       "      <td>sujin</td>\n",
       "      <td>matrix, the (1999)</td>\n",
       "      <td>5</td>\n",
       "    </tr>\n",
       "    <tr>\n",
       "      <th>2</th>\n",
       "      <td>sujin</td>\n",
       "      <td>shakespeare in love (1998)</td>\n",
       "      <td>5</td>\n",
       "    </tr>\n",
       "    <tr>\n",
       "      <th>3</th>\n",
       "      <td>sujin</td>\n",
       "      <td>fargo (1996)</td>\n",
       "      <td>5</td>\n",
       "    </tr>\n",
       "    <tr>\n",
       "      <th>4</th>\n",
       "      <td>sujin</td>\n",
       "      <td>toy story (1995)</td>\n",
       "      <td>5</td>\n",
       "    </tr>\n",
       "  </tbody>\n",
       "</table>\n",
       "</div>"
      ],
      "text/plain": [
       "       user_id                       title  ratings\n",
       "836463    5074       contender, the (2000)        4\n",
       "836464    5087       contender, the (2000)        4\n",
       "836465    5100       contender, the (2000)        4\n",
       "836466    5205       contender, the (2000)        4\n",
       "836467    5304       contender, the (2000)        4\n",
       "836468    5333       contender, the (2000)        4\n",
       "836469    5359       contender, the (2000)        5\n",
       "836470    5405       contender, the (2000)        4\n",
       "836471    5475       contender, the (2000)        5\n",
       "836472    5602       contender, the (2000)        3\n",
       "836473    5682       contender, the (2000)        3\n",
       "836474    5812       contender, the (2000)        4\n",
       "836475    5831       contender, the (2000)        3\n",
       "836476    5837       contender, the (2000)        4\n",
       "836477    5998       contender, the (2000)        4\n",
       "0        sujin  princess bride, the (1987)        5\n",
       "1        sujin          matrix, the (1999)        5\n",
       "2        sujin  shakespeare in love (1998)        5\n",
       "3        sujin                fargo (1996)        5\n",
       "4        sujin            toy story (1995)        5"
      ]
     },
     "execution_count": 77,
     "metadata": {},
     "output_type": "execute_result"
    }
   ],
   "source": [
    "# 내가 선호하는 영화 5 가지 골라서 ratings 추가\n",
    "my_favorite = ['princess bride, the (1987)' , 'matrix, the (1999)' ,'shakespeare in love (1998)' ,\n",
    "               'fargo (1996)' ,'toy story (1995)']\n",
    "\n",
    "# 'sujin'이라는 user_id가 위 영화의 평점을 5점씩 주었다고 가정.\n",
    "my_movielist = pd.DataFrame({'user_id': ['sujin']*5, 'title': my_favorite, 'ratings':[5]*5})\n",
    "\n",
    "# user_id에 'sujin'이라는 데이터가 없다면\n",
    "# 위에 임의로 만든 my_favorite 데이터를 추가. \n",
    "if not data.isin({'user_id':['sujin']})['user_id'].any():  \n",
    "    data = data.append(my_movielist)   \n",
    "    \n",
    "data.tail(20) "
   ]
  },
  {
   "cell_type": "markdown",
   "id": "f0fd8eee",
   "metadata": {},
   "source": [
    "## 모델 사용하기 위한 전처리"
   ]
  },
  {
   "cell_type": "code",
   "execution_count": 78,
   "id": "b2e8b1cb",
   "metadata": {},
   "outputs": [],
   "source": [
    "# 고유한 유저, 영화 제목을 찾아내는 코드\n",
    "user_unique = data['user_id'].unique()\n",
    "title_unique = data['title'].unique()\n",
    "\n",
    "# 유저, 영화 제목을 indexing 하는 코드 idx는 index의 약자입니다.\n",
    "user_to_idx = {v:k for k,v in enumerate(user_unique)}\n",
    "title_to_idx = {v:k for k,v in enumerate(title_unique)}"
   ]
  },
  {
   "cell_type": "code",
   "execution_count": 79,
   "id": "e25f1b26",
   "metadata": {},
   "outputs": [
    {
     "name": "stdout",
     "output_type": "stream",
     "text": [
      "6039\n",
      "0\n"
     ]
    }
   ],
   "source": [
    "# 인덱싱이 잘 되었는지 확인해 봅니다. \n",
    "print(user_to_idx['sujin'])    # 6040명의 유저 중 마지막으로 추가된 유저이니 6039이 나와야 함.\n",
    "print(title_to_idx['toy story (1995)'])"
   ]
  },
  {
   "cell_type": "code",
   "execution_count": 80,
   "id": "6542b5eb",
   "metadata": {
    "scrolled": true
   },
   "outputs": [
    {
     "name": "stdout",
     "output_type": "stream",
     "text": [
      "user_id column indexing OK!!\n",
      "title column indexing OK!!\n"
     ]
    },
    {
     "data": {
      "text/html": [
       "<div>\n",
       "<style scoped>\n",
       "    .dataframe tbody tr th:only-of-type {\n",
       "        vertical-align: middle;\n",
       "    }\n",
       "\n",
       "    .dataframe tbody tr th {\n",
       "        vertical-align: top;\n",
       "    }\n",
       "\n",
       "    .dataframe thead th {\n",
       "        text-align: right;\n",
       "    }\n",
       "</style>\n",
       "<table border=\"1\" class=\"dataframe\">\n",
       "  <thead>\n",
       "    <tr style=\"text-align: right;\">\n",
       "      <th></th>\n",
       "      <th>user_id</th>\n",
       "      <th>title</th>\n",
       "      <th>ratings</th>\n",
       "    </tr>\n",
       "  </thead>\n",
       "  <tbody>\n",
       "    <tr>\n",
       "      <th>0</th>\n",
       "      <td>0</td>\n",
       "      <td>0</td>\n",
       "      <td>5</td>\n",
       "    </tr>\n",
       "    <tr>\n",
       "      <th>1</th>\n",
       "      <td>1</td>\n",
       "      <td>0</td>\n",
       "      <td>4</td>\n",
       "    </tr>\n",
       "    <tr>\n",
       "      <th>2</th>\n",
       "      <td>2</td>\n",
       "      <td>0</td>\n",
       "      <td>4</td>\n",
       "    </tr>\n",
       "    <tr>\n",
       "      <th>3</th>\n",
       "      <td>3</td>\n",
       "      <td>0</td>\n",
       "      <td>5</td>\n",
       "    </tr>\n",
       "    <tr>\n",
       "      <th>4</th>\n",
       "      <td>4</td>\n",
       "      <td>0</td>\n",
       "      <td>5</td>\n",
       "    </tr>\n",
       "    <tr>\n",
       "      <th>...</th>\n",
       "      <td>...</td>\n",
       "      <td>...</td>\n",
       "      <td>...</td>\n",
       "    </tr>\n",
       "    <tr>\n",
       "      <th>0</th>\n",
       "      <td>6039</td>\n",
       "      <td>1081</td>\n",
       "      <td>5</td>\n",
       "    </tr>\n",
       "    <tr>\n",
       "      <th>1</th>\n",
       "      <td>6039</td>\n",
       "      <td>2325</td>\n",
       "      <td>5</td>\n",
       "    </tr>\n",
       "    <tr>\n",
       "      <th>2</th>\n",
       "      <td>6039</td>\n",
       "      <td>2155</td>\n",
       "      <td>5</td>\n",
       "    </tr>\n",
       "    <tr>\n",
       "      <th>3</th>\n",
       "      <td>6039</td>\n",
       "      <td>587</td>\n",
       "      <td>5</td>\n",
       "    </tr>\n",
       "    <tr>\n",
       "      <th>4</th>\n",
       "      <td>6039</td>\n",
       "      <td>0</td>\n",
       "      <td>5</td>\n",
       "    </tr>\n",
       "  </tbody>\n",
       "</table>\n",
       "<p>836483 rows × 3 columns</p>\n",
       "</div>"
      ],
      "text/plain": [
       "    user_id  title  ratings\n",
       "0         0      0        5\n",
       "1         1      0        4\n",
       "2         2      0        4\n",
       "3         3      0        5\n",
       "4         4      0        5\n",
       "..      ...    ...      ...\n",
       "0      6039   1081        5\n",
       "1      6039   2325        5\n",
       "2      6039   2155        5\n",
       "3      6039    587        5\n",
       "4      6039      0        5\n",
       "\n",
       "[836483 rows x 3 columns]"
      ]
     },
     "execution_count": 80,
     "metadata": {},
     "output_type": "execute_result"
    }
   ],
   "source": [
    "# indexing을 통해 데이터 컬럼 내 값을 바꾸는 코드\n",
    "\n",
    "# user_to_idx.get을 통해 user_id 컬럼의 모든 값을 인덱싱한 Series를 구함.\n",
    "# 혹시 정상적으로 인덱싱되지 않은 row가 있다면 인덱스가 NaN이 될 테니 dropna()로 제거\n",
    "\n",
    "temp_user_data = data['user_id'].map(user_to_idx.get).dropna()\n",
    "if len(temp_user_data) == len(data):   # 모든 row가 정상적으로 인덱싱되었다면\n",
    "    print('user_id column indexing OK!!')\n",
    "    data['user_id'] = temp_user_data   # data['user_id']을 인덱싱된 Series로 교체.\n",
    "else:\n",
    "    print('user_id column indexing Fail!!')\n",
    "\n",
    "# temp_title_data을 통해 영화 제목 title 컬럼도 동일한 방식으로 인덱싱\n",
    "temp_title_data = data['title'].map(title_to_idx.get).dropna()\n",
    "if len(temp_title_data) == len(data):\n",
    "    print('title column indexing OK!!')\n",
    "    data['title'] = temp_title_data\n",
    "else:\n",
    "    print('title column indexing Fail!!')\n",
    "\n",
    "data"
   ]
  },
  {
   "cell_type": "markdown",
   "id": "24483462",
   "metadata": {},
   "source": [
    "## CSR matrix"
   ]
  },
  {
   "cell_type": "code",
   "execution_count": 82,
   "id": "23f8c59d",
   "metadata": {
    "scrolled": true
   },
   "outputs": [
    {
     "data": {
      "text/plain": [
       "0    5\n",
       "1    4\n",
       "2    4\n",
       "3    5\n",
       "4    5\n",
       "    ..\n",
       "0    5\n",
       "1    5\n",
       "2    5\n",
       "3    5\n",
       "4    5\n",
       "Name: ratings, Length: 836483, dtype: int64"
      ]
     },
     "execution_count": 82,
     "metadata": {},
     "output_type": "execute_result"
    }
   ],
   "source": [
    "data['ratings']"
   ]
  },
  {
   "cell_type": "code",
   "execution_count": 85,
   "id": "b6b10a00",
   "metadata": {},
   "outputs": [
    {
     "data": {
      "text/plain": [
       "<6040x3628 sparse matrix of type '<class 'numpy.int64'>'\n",
       "\twith 836483 stored elements in Compressed Sparse Row format>"
      ]
     },
     "execution_count": 85,
     "metadata": {},
     "output_type": "execute_result"
    }
   ],
   "source": [
    "from scipy.sparse import csr_matrix\n",
    "\n",
    "num_user = data['user_id'].nunique()\n",
    "num_movie = data['title'].nunique()\n",
    "\n",
    "csr_data = csr_matrix((data.ratings, (data.user_id, data.title)), shape=(num_user, num_movie))\n",
    "csr_data"
   ]
  },
  {
   "cell_type": "markdown",
   "id": "de3cfaa5",
   "metadata": {},
   "source": [
    "## als_model = AlternatingLeastSquares 모델"
   ]
  },
  {
   "cell_type": "code",
   "execution_count": 86,
   "id": "71ff77a3",
   "metadata": {},
   "outputs": [],
   "source": [
    "from implicit.als import AlternatingLeastSquares\n",
    "import os\n",
    "import numpy as np\n",
    "os.environ['OPENBLAS_NUM_THREADS']='1'\n",
    "os.environ['KMP_DUPLICATE_LIB_OK']='True'\n",
    "os.environ['MKL_NUM_THREADS']='1'"
   ]
  },
  {
   "cell_type": "code",
   "execution_count": 87,
   "id": "c56d2170",
   "metadata": {},
   "outputs": [],
   "source": [
    "als_model = AlternatingLeastSquares(factors=100, regularization=0.01, use_gpu=False, iterations=30, dtype=np.float32)"
   ]
  },
  {
   "cell_type": "code",
   "execution_count": 88,
   "id": "7da545d8",
   "metadata": {},
   "outputs": [
    {
     "data": {
      "text/plain": [
       "<3628x6040 sparse matrix of type '<class 'numpy.int64'>'\n",
       "\twith 836483 stored elements in Compressed Sparse Column format>"
      ]
     },
     "execution_count": 88,
     "metadata": {},
     "output_type": "execute_result"
    }
   ],
   "source": [
    "csr_data_transpose = csr_data.T\n",
    "csr_data_transpose"
   ]
  },
  {
   "cell_type": "code",
   "execution_count": 89,
   "id": "537d86f7",
   "metadata": {},
   "outputs": [
    {
     "data": {
      "application/vnd.jupyter.widget-view+json": {
       "model_id": "cdaa2915a817472baf47ff7032008108",
       "version_major": 2,
       "version_minor": 0
      },
      "text/plain": [
       "  0%|          | 0/30 [00:00<?, ?it/s]"
      ]
     },
     "metadata": {},
     "output_type": "display_data"
    }
   ],
   "source": [
    "# 모델 훈련\n",
    "als_model.fit(csr_data_transpose)"
   ]
  },
  {
   "cell_type": "markdown",
   "id": "6635ec4d",
   "metadata": {},
   "source": [
    "## 내가 선호하는 5 개 영화 중 하나와 그 외의 영화 하나를 골라서 훈련된 모델이 예측한 나의 선호도를 파악"
   ]
  },
  {
   "cell_type": "code",
   "execution_count": 90,
   "id": "9aad9564",
   "metadata": {},
   "outputs": [],
   "source": [
    "sujin, toy_story = user_to_idx['sujin'], title_to_idx['toy story (1995)']\n",
    "sujin_vector, toy_story_vector = als_model.user_factors[sujin], als_model.item_factors[toy_story]"
   ]
  },
  {
   "cell_type": "code",
   "execution_count": 91,
   "id": "53238e63",
   "metadata": {},
   "outputs": [
    {
     "data": {
      "text/plain": [
       "array([-0.42656457,  0.31777644,  0.1513742 , -0.556501  , -0.23103666,\n",
       "        0.6047816 , -0.44931737,  0.16323435, -0.08668626,  0.0438499 ,\n",
       "       -0.03002334, -0.42183346,  0.3871217 ,  0.22069542,  0.36238432,\n",
       "       -0.33757544,  0.5504052 , -0.33808863, -0.07103305, -0.1300755 ,\n",
       "       -0.18920301,  0.38312995,  0.26576263, -1.0139203 , -0.45192865,\n",
       "       -0.3817336 ,  0.09941719,  0.4873221 , -0.02909568, -0.31071985,\n",
       "        0.00566387, -0.41492224,  0.19210179,  0.1876375 , -0.13852042,\n",
       "        0.23828834,  0.03644371, -0.51000625,  0.5006811 ,  0.876707  ,\n",
       "        0.26386306, -0.09867597,  0.85840935, -0.37591612, -0.288294  ,\n",
       "        0.497554  , -0.11382608, -0.00836383, -0.64692384, -0.18606107,\n",
       "       -1.0735682 ,  0.31821874,  0.23498839,  0.3753696 ,  0.4303767 ,\n",
       "        0.48331976, -0.26000574,  0.96090955,  0.10332482, -0.38800198,\n",
       "       -0.25927666, -0.5165015 , -0.11536215,  0.5032792 ,  0.79710865,\n",
       "        0.5029438 , -0.02987443,  0.16686425,  0.05014873,  0.03140182,\n",
       "        0.2258555 ,  0.0416802 ,  0.12953898,  0.25113845, -1.3464413 ,\n",
       "       -0.05158722,  0.10098935,  0.09312019,  0.6854889 , -0.18839233,\n",
       "        0.3581998 , -0.0630828 , -0.43558267,  0.4416505 ,  0.3218481 ,\n",
       "       -0.88852847,  0.5463185 , -0.06878112, -0.93188   , -0.42897522,\n",
       "        0.37923947,  0.14115594,  0.5050794 ,  0.08905765,  0.5941278 ,\n",
       "       -0.42272758,  0.6155116 ,  0.20574845, -0.53373235, -0.32963812],\n",
       "      dtype=float32)"
      ]
     },
     "execution_count": 91,
     "metadata": {},
     "output_type": "execute_result"
    }
   ],
   "source": [
    "sujin_vector"
   ]
  },
  {
   "cell_type": "code",
   "execution_count": 92,
   "id": "34884920",
   "metadata": {},
   "outputs": [
    {
     "data": {
      "text/plain": [
       "array([ 0.00555722,  0.02263323, -0.02353916, -0.02968935, -0.01520334,\n",
       "        0.01757408, -0.00053933, -0.00574667,  0.00548441,  0.0220106 ,\n",
       "       -0.00429273,  0.01995547,  0.01810647, -0.00340577,  0.03407633,\n",
       "        0.00561883,  0.00448885, -0.01229365,  0.02503721,  0.01528916,\n",
       "       -0.00336937,  0.03592196, -0.00555085, -0.04812089,  0.0332384 ,\n",
       "       -0.00332842,  0.01486927,  0.02787071,  0.00259931, -0.01553671,\n",
       "       -0.04251165,  0.0251295 ,  0.03565608,  0.03133354,  0.00625044,\n",
       "       -0.014353  , -0.01363543, -0.04367847,  0.05719453,  0.03154012,\n",
       "        0.00076677, -0.00804882,  0.03463992,  0.00116027,  0.03852678,\n",
       "        0.00156331, -0.00627117,  0.03853635, -0.03195016,  0.01791366,\n",
       "       -0.05414001, -0.03354618,  0.01583612,  0.00034717,  0.01025891,\n",
       "        0.0237924 , -0.00894934,  0.02102612, -0.01300955,  0.00604654,\n",
       "       -0.00063377, -0.0090828 , -0.01167537,  0.03344648, -0.00446137,\n",
       "        0.05102944,  0.00550094,  0.03871956,  0.00348547, -0.00325577,\n",
       "        0.01380174,  0.01078758,  0.03180478,  0.03252938, -0.04036913,\n",
       "       -0.00707347, -0.00423387, -0.01318296,  0.04484236,  0.0256797 ,\n",
       "        0.00877629, -0.00215435, -0.02991714,  0.01712547,  0.00640093,\n",
       "       -0.00564717,  0.03668906,  0.01329757, -0.02678104,  0.00945031,\n",
       "        0.0147022 ,  0.01268799, -0.01874924, -0.02518374,  0.02205226,\n",
       "       -0.03233358,  0.03110259,  0.0005583 , -0.00640686, -0.00186405],\n",
       "      dtype=float32)"
      ]
     },
     "execution_count": 92,
     "metadata": {},
     "output_type": "execute_result"
    }
   ],
   "source": [
    "toy_story_vector"
   ]
  },
  {
   "cell_type": "code",
   "execution_count": 93,
   "id": "b182a7be",
   "metadata": {
    "scrolled": true
   },
   "outputs": [
    {
     "data": {
      "text/plain": [
       "0.5734013"
      ]
     },
     "execution_count": 93,
     "metadata": {},
     "output_type": "execute_result"
    }
   ],
   "source": [
    "np.dot(sujin_vector, toy_story_vector)"
   ]
  },
  {
   "cell_type": "markdown",
   "id": "87684c6b",
   "metadata": {},
   "source": [
    "- back to the future에 대해 선호도가 낮다. 그에 비해 toystory는 선호도가 1이 아니라 0.5 정도로 나왔다."
   ]
  },
  {
   "cell_type": "code",
   "execution_count": 94,
   "id": "87404dec",
   "metadata": {},
   "outputs": [
    {
     "data": {
      "text/plain": [
       "0.16683765"
      ]
     },
     "execution_count": 94,
     "metadata": {},
     "output_type": "execute_result"
    }
   ],
   "source": [
    "back_to_the_future = title_to_idx['back to the future (1985)']\n",
    "back_to_the_future_vector = als_model.item_factors[back_to_the_future]\n",
    "np.dot(sujin_vector, back_to_the_future_vector)"
   ]
  },
  {
   "cell_type": "markdown",
   "id": "c5d6b658",
   "metadata": {},
   "source": [
    "## 내가 좋아하는 영화와 비슷한 영화 추천 받기"
   ]
  },
  {
   "cell_type": "code",
   "execution_count": 95,
   "id": "5ebb2b01",
   "metadata": {},
   "outputs": [],
   "source": [
    "idx_to_title = {v:k for k,v in title_to_idx.items()}\n",
    "# 좋아하는 영화 제목을 넣으면 비슷한 영화를 추천해주는 함수\n",
    "def get_similar_title(title_name: str):\n",
    "    title_id = title_to_idx[title_name]\n",
    "    similar_title = als_model.similar_items(title_id)\n",
    "    similar_title = [idx_to_title[i[0]] for i in similar_title]\n",
    "    return similar_title"
   ]
  },
  {
   "cell_type": "code",
   "execution_count": 96,
   "id": "6b9158cf",
   "metadata": {},
   "outputs": [
    {
     "data": {
      "text/plain": [
       "['toy story (1995)',\n",
       " 'toy story 2 (1999)',\n",
       " 'babe (1995)',\n",
       " 'aladdin (1992)',\n",
       " \"bug's life, a (1998)\",\n",
       " 'groundhog day (1993)',\n",
       " 'pleasantville (1998)',\n",
       " 'beauty and the beast (1991)',\n",
       " 'lion king, the (1994)',\n",
       " \"there's something about mary (1998)\"]"
      ]
     },
     "execution_count": 96,
     "metadata": {},
     "output_type": "execute_result"
    }
   ],
   "source": [
    "get_similar_title('toy story (1995)')"
   ]
  },
  {
   "cell_type": "code",
   "execution_count": 97,
   "id": "38c6cc69",
   "metadata": {},
   "outputs": [
    {
     "data": {
      "text/plain": [
       "['shakespeare in love (1998)',\n",
       " 'groundhog day (1993)',\n",
       " 'election (1999)',\n",
       " 'elizabeth (1998)',\n",
       " 'american beauty (1999)',\n",
       " 'being john malkovich (1999)',\n",
       " 'for ever mozart (1996)',\n",
       " 'toy story (1995)',\n",
       " 'four weddings and a funeral (1994)',\n",
       " 'ghostbusters (1984)']"
      ]
     },
     "execution_count": 97,
     "metadata": {},
     "output_type": "execute_result"
    }
   ],
   "source": [
    "get_similar_title('shakespeare in love (1998)')"
   ]
  },
  {
   "cell_type": "markdown",
   "id": "1cae18a6",
   "metadata": {},
   "source": [
    "## 내가 가장 좋아할 만한 영화를 추천 받기"
   ]
  },
  {
   "cell_type": "code",
   "execution_count": 101,
   "id": "537b186b",
   "metadata": {},
   "outputs": [
    {
     "name": "stdout",
     "output_type": "stream",
     "text": [
      "toy story 2 (1999) 0.5312\n",
      "groundhog day (1993) 0.4736\n",
      "babe (1995) 0.4721\n",
      "silence of the lambs, the (1991) 0.3972\n",
      "l.a. confidential (1997) 0.3834\n",
      "terminator 2: judgment day (1991) 0.3704\n",
      "shawshank redemption, the (1994) 0.3542\n",
      "usual suspects, the (1995) 0.3470\n",
      "bug's life, a (1998) 0.3400\n",
      "pulp fiction (1994) 0.3340\n",
      "sixth sense, the (1999) 0.3156\n",
      "american beauty (1999) 0.2555\n",
      "election (1999) 0.2488\n",
      "star wars: episode iv - a new hope (1977) 0.2465\n",
      "star wars: episode v - the empire strikes back (1980) 0.2462\n",
      "reservoir dogs (1992) 0.2394\n",
      "fugitive, the (1993) 0.2329\n",
      "erin brockovich (2000) 0.2227\n",
      "men in black (1997) 0.2221\n",
      "being john malkovich (1999) 0.2204\n"
     ]
    }
   ],
   "source": [
    "user = user_to_idx['sujin']\n",
    "# recommend에서는 user*item CSR Matrix를 받습니다.\n",
    "title_recommended = als_model.recommend(user, csr_data, N=20, filter_already_liked_items=True)\n",
    "for i in title_recommended: \n",
    "    print(\"{} {:02.4f}\".format(idx_to_title[i[0]], i[1]))"
   ]
  },
  {
   "cell_type": "markdown",
   "id": "2d69e719",
   "metadata": {},
   "source": [
    "-  나의 대해 추천해주는 영화에 toy stoty2가 있어서 놀랍다."
   ]
  },
  {
   "cell_type": "code",
   "execution_count": 102,
   "id": "eebc59d9",
   "metadata": {},
   "outputs": [
    {
     "data": {
      "text/plain": [
       "[('toy story (1995)', 0.4237069367937053),\n",
       " ('shakespeare in love (1998)', 0.08217137413295683),\n",
       " ('princess bride, the (1987)', 0.02625659264964622),\n",
       " ('matrix, the (1999)', 0.0034721496511753145),\n",
       " ('fargo (1996)', -0.009824426579161528)]"
      ]
     },
     "execution_count": 102,
     "metadata": {},
     "output_type": "execute_result"
    }
   ],
   "source": [
    "toy_story_2 = title_to_idx['toy story 2 (1999)']\n",
    "explain = als_model.explain(user, csr_data, itemid=toy_story_2)\n",
    "[(idx_to_title[i[0]], i[1]) for i in explain[1]]"
   ]
  },
  {
   "cell_type": "markdown",
   "id": "46b58b44",
   "metadata": {},
   "source": [
    "- toy story 2는 toy story 와 많이 유사하여 추천을 한 것 같다."
   ]
  },
  {
   "cell_type": "markdown",
   "id": "cd547635",
   "metadata": {},
   "source": [
    "# 회고"
   ]
  },
  {
   "cell_type": "markdown",
   "id": "eab2005f",
   "metadata": {},
   "source": [
    "- 어려웠던 점 : als 모델을 선언하는 것을 조금 더 수정해보고 싶었다. 어떻게 바꾸면 더 좋은 유사도가 나올지 궁금했지만 어려워서 못했다.\n",
    "- 알아낸 점 및 모호한 점 : movie id에서 라벨인코딩처럼 하는 것을 하는 이유에 대해 궁금하다. 그것을 하지 않으면 CSR에서 오류가 나오는 것같다.\n",
    "- 노력한 점 : 백터 내적 수치에 대해서 어떤 것이 높게 나올지 낮게 나올지에 대해 찾는 노력을 했다. \n",
    "- 자기다짐 : 추천시스템에 SVD에 대해서 자세히 공부해야겠다고 느꼈다!"
   ]
  }
 ],
 "metadata": {
  "kernelspec": {
   "display_name": "Python 3 (ipykernel)",
   "language": "python",
   "name": "python3"
  },
  "language_info": {
   "codemirror_mode": {
    "name": "ipython",
    "version": 3
   },
   "file_extension": ".py",
   "mimetype": "text/x-python",
   "name": "python",
   "nbconvert_exporter": "python",
   "pygments_lexer": "ipython3",
   "version": "3.9.7"
  }
 },
 "nbformat": 4,
 "nbformat_minor": 5
}
